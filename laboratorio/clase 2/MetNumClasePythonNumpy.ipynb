{
  "cells": [
    {
      "cell_type": "markdown",
      "metadata": {
        "id": "RSq5K_nC1fjF"
      },
      "source": [
        "# Python\n",
        "\n",
        "![](https://imgs.xkcd.com/comics/python.png)"
      ]
    },
    {
      "cell_type": "markdown",
      "metadata": {
        "id": "lm7559Ujr4Nz"
      },
      "source": [
        "## Ambientes\n",
        "\n",
        "![](https://imgs.xkcd.com/comics/python_environment.png)\n",
        "\n",
        "Explicación https://www.explainxkcd.com/wiki/index.php/1987:_Python_Environment\n",
        "\n",
        "\n",
        "La figura quedó un poco vieja, hoy en día (2023) para aplicaciones de computación científica o aprendizaje automático, lo más conveniente es usar miniconda ya que permite utilizar cualquier versión de python (3.6,3.7,3.10,etc) y no tiene ninguna relación con el python del sistema. Otra ventaja, es que miniconda instala paquetes binarios además de paquetes de python y mantiene el ambiente tmb para los binarios y no chocan con el sistema.\n",
        "\n"
      ]
    },
    {
      "cell_type": "code",
      "execution_count": 1,
      "metadata": {
        "colab": {
          "base_uri": "https://localhost:8080/"
        },
        "id": "UjZZ5ZBcr3Py",
        "outputId": "b0593dc5-c3d3-4346-e36f-cc858c7f024a"
      },
      "outputs": [
        {
          "name": "stdout",
          "output_type": "stream",
          "text": [
            "/home/pablo/anaconda3/bin/python\n"
          ]
        },
        {
          "name": "stdout",
          "output_type": "stream",
          "text": [
            "/home/pablo/anaconda3/bin/pip\n"
          ]
        }
      ],
      "source": [
        "!which python\n",
        "!which pip"
      ]
    },
    {
      "cell_type": "code",
      "execution_count": 2,
      "metadata": {
        "colab": {
          "base_uri": "https://localhost:8080/"
        },
        "id": "qKYgxv6YCWXE",
        "outputId": "207b32d2-ad5f-40dc-873e-8dc3e7bc8b32"
      },
      "outputs": [
        {
          "name": "stdout",
          "output_type": "stream",
          "text": [
            "Requirement already satisfied: jupyter in /home/pablo/anaconda3/lib/python3.11/site-packages (1.0.0)\n",
            "Requirement already satisfied: notebook in /home/pablo/anaconda3/lib/python3.11/site-packages (from jupyter) (7.0.8)\n",
            "Requirement already satisfied: qtconsole in /home/pablo/anaconda3/lib/python3.11/site-packages (from jupyter) (5.4.2)\n",
            "Requirement already satisfied: jupyter-console in /home/pablo/anaconda3/lib/python3.11/site-packages (from jupyter) (6.6.3)\n",
            "Requirement already satisfied: nbconvert in /home/pablo/anaconda3/lib/python3.11/site-packages (from jupyter) (7.10.0)\n",
            "Requirement already satisfied: ipykernel in /home/pablo/anaconda3/lib/python3.11/site-packages (from jupyter) (6.28.0)\n",
            "Requirement already satisfied: ipywidgets in /home/pablo/anaconda3/lib/python3.11/site-packages (from jupyter) (7.6.5)\n",
            "Requirement already satisfied: comm>=0.1.1 in /home/pablo/anaconda3/lib/python3.11/site-packages (from ipykernel->jupyter) (0.1.2)\n",
            "Requirement already satisfied: debugpy>=1.6.5 in /home/pablo/anaconda3/lib/python3.11/site-packages (from ipykernel->jupyter) (1.6.7)\n",
            "Requirement already satisfied: ipython>=7.23.1 in /home/pablo/anaconda3/lib/python3.11/site-packages (from ipykernel->jupyter) (8.20.0)\n",
            "Requirement already satisfied: jupyter-client>=6.1.12 in /home/pablo/anaconda3/lib/python3.11/site-packages (from ipykernel->jupyter) (8.6.0)\n",
            "Requirement already satisfied: jupyter-core!=5.0.*,>=4.12 in /home/pablo/anaconda3/lib/python3.11/site-packages (from ipykernel->jupyter) (5.5.0)\n",
            "Requirement already satisfied: matplotlib-inline>=0.1 in /home/pablo/anaconda3/lib/python3.11/site-packages (from ipykernel->jupyter) (0.1.6)\n",
            "Requirement already satisfied: nest-asyncio in /home/pablo/anaconda3/lib/python3.11/site-packages (from ipykernel->jupyter) (1.6.0)\n",
            "Requirement already satisfied: packaging in /home/pablo/anaconda3/lib/python3.11/site-packages (from ipykernel->jupyter) (23.1)\n",
            "Requirement already satisfied: psutil in /home/pablo/anaconda3/lib/python3.11/site-packages (from ipykernel->jupyter) (5.9.0)\n",
            "Requirement already satisfied: pyzmq>=24 in /home/pablo/anaconda3/lib/python3.11/site-packages (from ipykernel->jupyter) (25.1.2)\n",
            "Requirement already satisfied: tornado>=6.1 in /home/pablo/anaconda3/lib/python3.11/site-packages (from ipykernel->jupyter) (6.3.3)\n",
            "Requirement already satisfied: traitlets>=5.4.0 in /home/pablo/anaconda3/lib/python3.11/site-packages (from ipykernel->jupyter) (5.7.1)\n",
            "Requirement already satisfied: ipython-genutils~=0.2.0 in /home/pablo/anaconda3/lib/python3.11/site-packages (from ipywidgets->jupyter) (0.2.0)\n",
            "Requirement already satisfied: nbformat>=4.2.0 in /home/pablo/anaconda3/lib/python3.11/site-packages (from ipywidgets->jupyter) (5.9.2)\n",
            "Requirement already satisfied: widgetsnbextension~=3.5.0 in /home/pablo/anaconda3/lib/python3.11/site-packages (from ipywidgets->jupyter) (3.5.2)\n",
            "Requirement already satisfied: jupyterlab-widgets>=1.0.0 in /home/pablo/anaconda3/lib/python3.11/site-packages (from ipywidgets->jupyter) (3.0.9)\n",
            "Requirement already satisfied: prompt-toolkit>=3.0.30 in /home/pablo/anaconda3/lib/python3.11/site-packages (from jupyter-console->jupyter) (3.0.43)\n",
            "Requirement already satisfied: pygments in /home/pablo/anaconda3/lib/python3.11/site-packages (from jupyter-console->jupyter) (2.15.1)\n",
            "Requirement already satisfied: beautifulsoup4 in /home/pablo/anaconda3/lib/python3.11/site-packages (from nbconvert->jupyter) (4.12.2)\n",
            "Requirement already satisfied: bleach!=5.0.0 in /home/pablo/anaconda3/lib/python3.11/site-packages (from nbconvert->jupyter) (4.1.0)\n",
            "Requirement already satisfied: defusedxml in /home/pablo/anaconda3/lib/python3.11/site-packages (from nbconvert->jupyter) (0.7.1)\n",
            "Requirement already satisfied: jinja2>=3.0 in /home/pablo/anaconda3/lib/python3.11/site-packages (from nbconvert->jupyter) (3.1.3)\n",
            "Requirement already satisfied: jupyterlab-pygments in /home/pablo/anaconda3/lib/python3.11/site-packages (from nbconvert->jupyter) (0.1.2)\n",
            "Requirement already satisfied: markupsafe>=2.0 in /home/pablo/anaconda3/lib/python3.11/site-packages (from nbconvert->jupyter) (2.1.3)\n",
            "Requirement already satisfied: mistune<4,>=2.0.3 in /home/pablo/anaconda3/lib/python3.11/site-packages (from nbconvert->jupyter) (2.0.4)\n",
            "Requirement already satisfied: nbclient>=0.5.0 in /home/pablo/anaconda3/lib/python3.11/site-packages (from nbconvert->jupyter) (0.8.0)\n",
            "Requirement already satisfied: pandocfilters>=1.4.1 in /home/pablo/anaconda3/lib/python3.11/site-packages (from nbconvert->jupyter) (1.5.0)\n",
            "Requirement already satisfied: tinycss2 in /home/pablo/anaconda3/lib/python3.11/site-packages (from nbconvert->jupyter) (1.2.1)\n",
            "Requirement already satisfied: jupyter-server<3,>=2.4.0 in /home/pablo/anaconda3/lib/python3.11/site-packages (from notebook->jupyter) (2.10.0)\n",
            "Requirement already satisfied: jupyterlab-server<3,>=2.22.1 in /home/pablo/anaconda3/lib/python3.11/site-packages (from notebook->jupyter) (2.25.1)\n",
            "Requirement already satisfied: jupyterlab<4.1,>=4.0.2 in /home/pablo/anaconda3/lib/python3.11/site-packages (from notebook->jupyter) (4.0.11)\n",
            "Requirement already satisfied: notebook-shim<0.3,>=0.2 in /home/pablo/anaconda3/lib/python3.11/site-packages (from notebook->jupyter) (0.2.3)\n",
            "Requirement already satisfied: qtpy>=2.0.1 in /home/pablo/anaconda3/lib/python3.11/site-packages (from qtconsole->jupyter) (2.4.1)\n",
            "Requirement already satisfied: six>=1.9.0 in /home/pablo/anaconda3/lib/python3.11/site-packages (from bleach!=5.0.0->nbconvert->jupyter) (1.16.0)\n",
            "Requirement already satisfied: webencodings in /home/pablo/anaconda3/lib/python3.11/site-packages (from bleach!=5.0.0->nbconvert->jupyter) (0.5.1)\n",
            "Requirement already satisfied: decorator in /home/pablo/anaconda3/lib/python3.11/site-packages (from ipython>=7.23.1->ipykernel->jupyter) (5.1.1)\n",
            "Requirement already satisfied: jedi>=0.16 in /home/pablo/anaconda3/lib/python3.11/site-packages (from ipython>=7.23.1->ipykernel->jupyter) (0.18.1)\n",
            "Requirement already satisfied: stack-data in /home/pablo/anaconda3/lib/python3.11/site-packages (from ipython>=7.23.1->ipykernel->jupyter) (0.2.0)\n",
            "Requirement already satisfied: pexpect>4.3 in /home/pablo/anaconda3/lib/python3.11/site-packages (from ipython>=7.23.1->ipykernel->jupyter) (4.8.0)\n",
            "Requirement already satisfied: python-dateutil>=2.8.2 in /home/pablo/anaconda3/lib/python3.11/site-packages (from jupyter-client>=6.1.12->ipykernel->jupyter) (2.8.2)\n",
            "Requirement already satisfied: platformdirs>=2.5 in /home/pablo/anaconda3/lib/python3.11/site-packages (from jupyter-core!=5.0.*,>=4.12->ipykernel->jupyter) (3.10.0)\n",
            "Requirement already satisfied: anyio>=3.1.0 in /home/pablo/anaconda3/lib/python3.11/site-packages (from jupyter-server<3,>=2.4.0->notebook->jupyter) (4.2.0)\n",
            "Requirement already satisfied: argon2-cffi in /home/pablo/anaconda3/lib/python3.11/site-packages (from jupyter-server<3,>=2.4.0->notebook->jupyter) (21.3.0)\n",
            "Requirement already satisfied: jupyter-events>=0.6.0 in /home/pablo/anaconda3/lib/python3.11/site-packages (from jupyter-server<3,>=2.4.0->notebook->jupyter) (0.8.0)\n",
            "Requirement already satisfied: jupyter-server-terminals in /home/pablo/anaconda3/lib/python3.11/site-packages (from jupyter-server<3,>=2.4.0->notebook->jupyter) (0.4.4)\n",
            "Requirement already satisfied: overrides in /home/pablo/anaconda3/lib/python3.11/site-packages (from jupyter-server<3,>=2.4.0->notebook->jupyter) (7.4.0)\n",
            "Requirement already satisfied: prometheus-client in /home/pablo/anaconda3/lib/python3.11/site-packages (from jupyter-server<3,>=2.4.0->notebook->jupyter) (0.14.1)\n",
            "Requirement already satisfied: send2trash>=1.8.2 in /home/pablo/anaconda3/lib/python3.11/site-packages (from jupyter-server<3,>=2.4.0->notebook->jupyter) (1.8.2)\n",
            "Requirement already satisfied: terminado>=0.8.3 in /home/pablo/anaconda3/lib/python3.11/site-packages (from jupyter-server<3,>=2.4.0->notebook->jupyter) (0.17.1)\n",
            "Requirement already satisfied: websocket-client in /home/pablo/anaconda3/lib/python3.11/site-packages (from jupyter-server<3,>=2.4.0->notebook->jupyter) (0.58.0)\n",
            "Requirement already satisfied: async-lru>=1.0.0 in /home/pablo/anaconda3/lib/python3.11/site-packages (from jupyterlab<4.1,>=4.0.2->notebook->jupyter) (2.0.4)\n",
            "Requirement already satisfied: jupyter-lsp>=2.0.0 in /home/pablo/anaconda3/lib/python3.11/site-packages (from jupyterlab<4.1,>=4.0.2->notebook->jupyter) (2.2.0)\n",
            "Requirement already satisfied: babel>=2.10 in /home/pablo/anaconda3/lib/python3.11/site-packages (from jupyterlab-server<3,>=2.22.1->notebook->jupyter) (2.11.0)\n",
            "Requirement already satisfied: json5>=0.9.0 in /home/pablo/anaconda3/lib/python3.11/site-packages (from jupyterlab-server<3,>=2.22.1->notebook->jupyter) (0.9.6)\n",
            "Requirement already satisfied: jsonschema>=4.18.0 in /home/pablo/anaconda3/lib/python3.11/site-packages (from jupyterlab-server<3,>=2.22.1->notebook->jupyter) (4.19.2)\n",
            "Requirement already satisfied: requests>=2.31 in /home/pablo/anaconda3/lib/python3.11/site-packages (from jupyterlab-server<3,>=2.22.1->notebook->jupyter) (2.31.0)\n",
            "Requirement already satisfied: fastjsonschema in /home/pablo/anaconda3/lib/python3.11/site-packages (from nbformat>=4.2.0->ipywidgets->jupyter) (2.16.2)\n",
            "Requirement already satisfied: wcwidth in /home/pablo/anaconda3/lib/python3.11/site-packages (from prompt-toolkit>=3.0.30->jupyter-console->jupyter) (0.2.5)\n",
            "Requirement already satisfied: soupsieve>1.2 in /home/pablo/anaconda3/lib/python3.11/site-packages (from beautifulsoup4->nbconvert->jupyter) (2.5)\n",
            "Requirement already satisfied: idna>=2.8 in /home/pablo/anaconda3/lib/python3.11/site-packages (from anyio>=3.1.0->jupyter-server<3,>=2.4.0->notebook->jupyter) (3.4)\n",
            "Requirement already satisfied: sniffio>=1.1 in /home/pablo/anaconda3/lib/python3.11/site-packages (from anyio>=3.1.0->jupyter-server<3,>=2.4.0->notebook->jupyter) (1.3.0)\n",
            "Requirement already satisfied: pytz>=2015.7 in /home/pablo/anaconda3/lib/python3.11/site-packages (from babel>=2.10->jupyterlab-server<3,>=2.22.1->notebook->jupyter) (2023.3.post1)\n",
            "Requirement already satisfied: parso<0.9.0,>=0.8.0 in /home/pablo/anaconda3/lib/python3.11/site-packages (from jedi>=0.16->ipython>=7.23.1->ipykernel->jupyter) (0.8.3)\n",
            "Requirement already satisfied: attrs>=22.2.0 in /home/pablo/anaconda3/lib/python3.11/site-packages (from jsonschema>=4.18.0->jupyterlab-server<3,>=2.22.1->notebook->jupyter) (23.1.0)\n",
            "Requirement already satisfied: jsonschema-specifications>=2023.03.6 in /home/pablo/anaconda3/lib/python3.11/site-packages (from jsonschema>=4.18.0->jupyterlab-server<3,>=2.22.1->notebook->jupyter) (2023.7.1)\n",
            "Requirement already satisfied: referencing>=0.28.4 in /home/pablo/anaconda3/lib/python3.11/site-packages (from jsonschema>=4.18.0->jupyterlab-server<3,>=2.22.1->notebook->jupyter) (0.30.2)\n",
            "Requirement already satisfied: rpds-py>=0.7.1 in /home/pablo/anaconda3/lib/python3.11/site-packages (from jsonschema>=4.18.0->jupyterlab-server<3,>=2.22.1->notebook->jupyter) (0.10.6)\n",
            "Requirement already satisfied: python-json-logger>=2.0.4 in /home/pablo/anaconda3/lib/python3.11/site-packages (from jupyter-events>=0.6.0->jupyter-server<3,>=2.4.0->notebook->jupyter) (2.0.7)\n",
            "Requirement already satisfied: pyyaml>=5.3 in /home/pablo/anaconda3/lib/python3.11/site-packages (from jupyter-events>=0.6.0->jupyter-server<3,>=2.4.0->notebook->jupyter) (6.0.1)\n",
            "Requirement already satisfied: rfc3339-validator in /home/pablo/anaconda3/lib/python3.11/site-packages (from jupyter-events>=0.6.0->jupyter-server<3,>=2.4.0->notebook->jupyter) (0.1.4)\n",
            "Requirement already satisfied: rfc3986-validator>=0.1.1 in /home/pablo/anaconda3/lib/python3.11/site-packages (from jupyter-events>=0.6.0->jupyter-server<3,>=2.4.0->notebook->jupyter) (0.1.1)\n",
            "Requirement already satisfied: ptyprocess>=0.5 in /home/pablo/anaconda3/lib/python3.11/site-packages (from pexpect>4.3->ipython>=7.23.1->ipykernel->jupyter) (0.7.0)\n",
            "Requirement already satisfied: charset-normalizer<4,>=2 in /home/pablo/anaconda3/lib/python3.11/site-packages (from requests>=2.31->jupyterlab-server<3,>=2.22.1->notebook->jupyter) (2.0.4)\n",
            "Requirement already satisfied: urllib3<3,>=1.21.1 in /home/pablo/anaconda3/lib/python3.11/site-packages (from requests>=2.31->jupyterlab-server<3,>=2.22.1->notebook->jupyter) (2.0.7)\n",
            "Requirement already satisfied: certifi>=2017.4.17 in /home/pablo/anaconda3/lib/python3.11/site-packages (from requests>=2.31->jupyterlab-server<3,>=2.22.1->notebook->jupyter) (2024.2.2)\n",
            "Requirement already satisfied: argon2-cffi-bindings in /home/pablo/anaconda3/lib/python3.11/site-packages (from argon2-cffi->jupyter-server<3,>=2.4.0->notebook->jupyter) (21.2.0)\n",
            "Requirement already satisfied: executing in /home/pablo/anaconda3/lib/python3.11/site-packages (from stack-data->ipython>=7.23.1->ipykernel->jupyter) (0.8.3)\n",
            "Requirement already satisfied: asttokens in /home/pablo/anaconda3/lib/python3.11/site-packages (from stack-data->ipython>=7.23.1->ipykernel->jupyter) (2.0.5)\n",
            "Requirement already satisfied: pure-eval in /home/pablo/anaconda3/lib/python3.11/site-packages (from stack-data->ipython>=7.23.1->ipykernel->jupyter) (0.2.2)\n",
            "Collecting fqdn (from jsonschema[format-nongpl]>=4.18.0->jupyter-events>=0.6.0->jupyter-server<3,>=2.4.0->notebook->jupyter)\n",
            "  Downloading fqdn-1.5.1-py3-none-any.whl.metadata (1.4 kB)\n",
            "Collecting isoduration (from jsonschema[format-nongpl]>=4.18.0->jupyter-events>=0.6.0->jupyter-server<3,>=2.4.0->notebook->jupyter)\n",
            "  Downloading isoduration-20.11.0-py3-none-any.whl.metadata (5.7 kB)\n",
            "Requirement already satisfied: jsonpointer>1.13 in /home/pablo/anaconda3/lib/python3.11/site-packages (from jsonschema[format-nongpl]>=4.18.0->jupyter-events>=0.6.0->jupyter-server<3,>=2.4.0->notebook->jupyter) (2.1)\n",
            "Collecting uri-template (from jsonschema[format-nongpl]>=4.18.0->jupyter-events>=0.6.0->jupyter-server<3,>=2.4.0->notebook->jupyter)\n",
            "  Downloading uri_template-1.3.0-py3-none-any.whl.metadata (8.8 kB)\n",
            "Collecting webcolors>=1.11 (from jsonschema[format-nongpl]>=4.18.0->jupyter-events>=0.6.0->jupyter-server<3,>=2.4.0->notebook->jupyter)\n",
            "  Downloading webcolors-1.13-py3-none-any.whl.metadata (2.6 kB)\n",
            "Requirement already satisfied: cffi>=1.0.1 in /home/pablo/anaconda3/lib/python3.11/site-packages (from argon2-cffi-bindings->argon2-cffi->jupyter-server<3,>=2.4.0->notebook->jupyter) (1.16.0)\n",
            "Requirement already satisfied: pycparser in /home/pablo/anaconda3/lib/python3.11/site-packages (from cffi>=1.0.1->argon2-cffi-bindings->argon2-cffi->jupyter-server<3,>=2.4.0->notebook->jupyter) (2.21)\n",
            "Requirement already satisfied: arrow>=0.15.0 in /home/pablo/anaconda3/lib/python3.11/site-packages (from isoduration->jsonschema[format-nongpl]>=4.18.0->jupyter-events>=0.6.0->jupyter-server<3,>=2.4.0->notebook->jupyter) (1.2.3)\n",
            "Downloading webcolors-1.13-py3-none-any.whl (14 kB)\n",
            "Downloading fqdn-1.5.1-py3-none-any.whl (9.1 kB)\n",
            "Downloading isoduration-20.11.0-py3-none-any.whl (11 kB)\n",
            "Downloading uri_template-1.3.0-py3-none-any.whl (11 kB)\n",
            "Installing collected packages: webcolors, uri-template, fqdn, isoduration\n",
            "Successfully installed fqdn-1.5.1 isoduration-20.11.0 uri-template-1.3.0 webcolors-1.13\n",
            "/home/pablo/anaconda3/bin/jupyter\n"
          ]
        }
      ],
      "source": [
        "!pip install jupyter\n",
        "!which jupyter"
      ]
    },
    {
      "cell_type": "markdown",
      "metadata": {
        "id": "pBprAULzr4rO"
      },
      "source": [
        "## Observaciones y operaciones\n",
        "\n",
        "dir() devuelve todos los métodos de un objeto, o los objetos en el ambiente"
      ]
    },
    {
      "cell_type": "code",
      "execution_count": 3,
      "metadata": {
        "colab": {
          "base_uri": "https://localhost:8080/"
        },
        "id": "oSK5RAaO1fEY",
        "outputId": "ac179963-e860-4888-ec85-2d2a27782848"
      },
      "outputs": [
        {
          "data": {
            "text/plain": [
              "['__class__',\n",
              " '__class_getitem__',\n",
              " '__contains__',\n",
              " '__delattr__',\n",
              " '__delitem__',\n",
              " '__dir__',\n",
              " '__doc__',\n",
              " '__eq__',\n",
              " '__format__',\n",
              " '__ge__',\n",
              " '__getattribute__',\n",
              " '__getitem__',\n",
              " '__getstate__',\n",
              " '__gt__',\n",
              " '__hash__',\n",
              " '__init__',\n",
              " '__init_subclass__',\n",
              " '__ior__',\n",
              " '__iter__',\n",
              " '__le__',\n",
              " '__len__',\n",
              " '__lt__',\n",
              " '__ne__',\n",
              " '__new__',\n",
              " '__or__',\n",
              " '__reduce__',\n",
              " '__reduce_ex__',\n",
              " '__repr__',\n",
              " '__reversed__',\n",
              " '__ror__',\n",
              " '__setattr__',\n",
              " '__setitem__',\n",
              " '__sizeof__',\n",
              " '__str__',\n",
              " '__subclasshook__',\n",
              " 'clear',\n",
              " 'copy',\n",
              " 'fromkeys',\n",
              " 'get',\n",
              " 'items',\n",
              " 'keys',\n",
              " 'pop',\n",
              " 'popitem',\n",
              " 'setdefault',\n",
              " 'update',\n",
              " 'values']"
            ]
          },
          "execution_count": 3,
          "metadata": {},
          "output_type": "execute_result"
        }
      ],
      "source": [
        "dir(dict())"
      ]
    },
    {
      "cell_type": "code",
      "execution_count": 4,
      "metadata": {
        "colab": {
          "base_uri": "https://localhost:8080/"
        },
        "id": "f6QSHIkI11KQ",
        "outputId": "e57d47f7-613d-4002-e315-a9d656be934d"
      },
      "outputs": [
        {
          "data": {
            "text/plain": [
              "['In',\n",
              " 'Out',\n",
              " '_',\n",
              " '_3',\n",
              " '__',\n",
              " '___',\n",
              " '__builtin__',\n",
              " '__builtins__',\n",
              " '__doc__',\n",
              " '__loader__',\n",
              " '__name__',\n",
              " '__package__',\n",
              " '__spec__',\n",
              " '__vsc_ipynb_file__',\n",
              " '_dh',\n",
              " '_exit_code',\n",
              " '_i',\n",
              " '_i1',\n",
              " '_i2',\n",
              " '_i3',\n",
              " '_i4',\n",
              " '_ih',\n",
              " '_ii',\n",
              " '_iii',\n",
              " '_oh',\n",
              " 'exit',\n",
              " 'get_ipython',\n",
              " 'open',\n",
              " 'quit']"
            ]
          },
          "execution_count": 4,
          "metadata": {},
          "output_type": "execute_result"
        }
      ],
      "source": [
        "dir()"
      ]
    },
    {
      "cell_type": "markdown",
      "metadata": {
        "id": "UebBc0aptuCC"
      },
      "source": [
        "Python es interpetado. En el siguiente caso hay error? esto permite ver como funciona la compilación-interpretación en python."
      ]
    },
    {
      "cell_type": "code",
      "execution_count": null,
      "metadata": {
        "colab": {
          "base_uri": "https://localhost:8080/"
        },
        "id": "cdkYxd6pfSU5",
        "outputId": "e16473e7-b7b6-42d5-ed1f-9b37fb5b87f4"
      },
      "outputs": [
        {
          "name": "stdout",
          "output_type": "stream",
          "text": [
            "si\n"
          ]
        }
      ],
      "source": [
        "a = 7\n",
        "if a > 0:\n",
        "    print(\"si\")\n",
        "else:\n",
        "    prin(\"no\")"
      ]
    },
    {
      "cell_type": "code",
      "execution_count": null,
      "metadata": {
        "colab": {
          "base_uri": "https://localhost:8080/",
          "height": 106
        },
        "id": "90ibr5o-t242",
        "outputId": "4c3ac027-5fd9-4819-8a5c-7853f21a438c"
      },
      "outputs": [
        {
          "ename": "SyntaxError",
          "evalue": "incomplete input (<ipython-input-12-3aa24f38cafd>, line 5)",
          "output_type": "error",
          "traceback": [
            "\u001b[0;36m  File \u001b[0;32m\"<ipython-input-12-3aa24f38cafd>\"\u001b[0;36m, line \u001b[0;32m5\u001b[0m\n\u001b[0;31m    prin(\"no\"\u001b[0m\n\u001b[0m             ^\u001b[0m\n\u001b[0;31mSyntaxError\u001b[0m\u001b[0;31m:\u001b[0m incomplete input\n"
          ]
        }
      ],
      "source": [
        "a = 7\n",
        "if a > 0:\n",
        "    print(\"si\")\n",
        "else:\n",
        "    prin(\"no\""
      ]
    },
    {
      "cell_type": "markdown",
      "metadata": {
        "id": "htZt_vXvt5Pl"
      },
      "source": [
        "La asignacion a un mismo nombre de variable crea objetos nuevos, diferente al modelo de c, en este caso los objetos en desuso se van borrando solos (garbage collector)"
      ]
    },
    {
      "cell_type": "code",
      "execution_count": null,
      "metadata": {
        "colab": {
          "base_uri": "https://localhost:8080/",
          "height": 176
        },
        "id": "oXIh7aZefU9U",
        "outputId": "540a3ed6-6dd1-4c70-965b-2cab774e2543"
      },
      "outputs": [
        {
          "ename": "AssertionError",
          "evalue": "",
          "output_type": "error",
          "traceback": [
            "\u001b[0;31m---------------------------------------------------------------------------\u001b[0m",
            "\u001b[0;31mAssertionError\u001b[0m                            Traceback (most recent call last)",
            "\u001b[0;32m<ipython-input-13-25a4b4333245>\u001b[0m in \u001b[0;36m<cell line: 5>\u001b[0;34m()\u001b[0m\n\u001b[1;32m      3\u001b[0m \u001b[0ma\u001b[0m \u001b[0;34m=\u001b[0m \u001b[0;36m1345646\u001b[0m\u001b[0;34m\u001b[0m\u001b[0;34m\u001b[0m\u001b[0m\n\u001b[1;32m      4\u001b[0m \u001b[0mmem_a_after\u001b[0m \u001b[0;34m=\u001b[0m \u001b[0mid\u001b[0m\u001b[0;34m(\u001b[0m\u001b[0ma\u001b[0m\u001b[0;34m)\u001b[0m\u001b[0;34m\u001b[0m\u001b[0;34m\u001b[0m\u001b[0m\n\u001b[0;32m----> 5\u001b[0;31m \u001b[0;32massert\u001b[0m\u001b[0;34m(\u001b[0m\u001b[0mid\u001b[0m\u001b[0;34m(\u001b[0m\u001b[0mmem_a_before\u001b[0m\u001b[0;34m)\u001b[0m \u001b[0;34m==\u001b[0m \u001b[0mid\u001b[0m\u001b[0;34m(\u001b[0m\u001b[0mmem_a_after\u001b[0m\u001b[0;34m)\u001b[0m\u001b[0;34m)\u001b[0m\u001b[0;34m\u001b[0m\u001b[0;34m\u001b[0m\u001b[0m\n\u001b[0m",
            "\u001b[0;31mAssertionError\u001b[0m: "
          ]
        }
      ],
      "source": [
        "a = 12123156\n",
        "mem_a_before = id(a)\n",
        "a = 1345646\n",
        "mem_a_after = id(a)\n",
        "assert(id(mem_a_before) == id(mem_a_after))"
      ]
    },
    {
      "cell_type": "markdown",
      "metadata": {
        "id": "T_1-OUT9vbWi"
      },
      "source": [
        "Para poder tener un garbage collector tiene que guardar cuantas veces se hace referencia a un objeto"
      ]
    },
    {
      "cell_type": "code",
      "execution_count": null,
      "metadata": {
        "colab": {
          "base_uri": "https://localhost:8080/"
        },
        "id": "aj_85iZFuWwV",
        "outputId": "c83077b0-0c26-41b7-f097-94bb112ce5c2"
      },
      "outputs": [
        {
          "name": "stdout",
          "output_type": "stream",
          "text": [
            "3\n",
            "4\n"
          ]
        }
      ],
      "source": [
        "import sys\n",
        "print(sys.getrefcount(a))\n",
        "b = [a]\n",
        "print(sys.getrefcount(a))"
      ]
    },
    {
      "cell_type": "markdown",
      "metadata": {
        "id": "_iXuIVxvvhTl"
      },
      "source": [
        "En python todo objeto se pasa por \"referencia\"\n"
      ]
    },
    {
      "cell_type": "code",
      "execution_count": null,
      "metadata": {
        "colab": {
          "base_uri": "https://localhost:8080/"
        },
        "id": "o88pJRasfXGT",
        "outputId": "ae6c7af9-1732-479a-9768-a2e2de56b578"
      },
      "outputs": [
        {
          "data": {
            "text/plain": [
              "['chocolate', 'alfajorcito', 'manzana']"
            ]
          },
          "execution_count": 15,
          "metadata": {},
          "output_type": "execute_result"
        }
      ],
      "source": [
        "def modificar_lista(l):\n",
        "  l.append('manzana')\n",
        "\n",
        "l = ['chocolate', 'alfajorcito']\n",
        "modificar_lista(l)\n",
        "l"
      ]
    },
    {
      "cell_type": "code",
      "execution_count": null,
      "metadata": {
        "colab": {
          "base_uri": "https://localhost:8080/"
        },
        "id": "dLqNPaAuvw_I",
        "outputId": "41ad5b7b-bc1f-49ee-a116-36822e23cd99"
      },
      "outputs": [
        {
          "name": "stdout",
          "output_type": "stream",
          "text": [
            "139634100855344\n",
            "139634100855344\n"
          ]
        }
      ],
      "source": [
        "def printid(s):\n",
        "  print(id(s))\n",
        "\n",
        "a = 'string'\n",
        "print(id(a))\n",
        "printid(a)"
      ]
    },
    {
      "cell_type": "markdown",
      "metadata": {
        "id": "3cMEnp5pvrO4"
      },
      "source": [
        "Cuando se asigna nuevamente se crea un nuevo objeto"
      ]
    },
    {
      "cell_type": "code",
      "execution_count": null,
      "metadata": {
        "colab": {
          "base_uri": "https://localhost:8080/"
        },
        "id": "m32GTyvffZr5",
        "outputId": "44f475d0-f70f-4837-b6ae-e444252bfd17"
      },
      "outputs": [
        {
          "data": {
            "text/plain": [
              "['chocolate', 'alfajorcito']"
            ]
          },
          "execution_count": 17,
          "metadata": {},
          "output_type": "execute_result"
        }
      ],
      "source": [
        "def modificar_lista(l):\n",
        "  l = ['manazana']\n",
        "\n",
        "l = ['chocolate', 'alfajorcito']\n",
        "modificar_lista(l)\n",
        "l"
      ]
    },
    {
      "cell_type": "markdown",
      "metadata": {
        "id": "fQdMFcz15fBt"
      },
      "source": [
        "Debugear con set_trace y los comandos de ipdb"
      ]
    },
    {
      "cell_type": "code",
      "execution_count": null,
      "metadata": {
        "id": "qxHTqRlN6PFs"
      },
      "outputs": [],
      "source": [
        "from IPython.core.debugger import set_trace\n",
        "a = 7\n",
        "b = 2\n",
        "if a > 0:\n",
        "    set_trace()\n",
        "    a = a + 2\n",
        "    set_trace()\n",
        "else:\n",
        "    set_trace()\n",
        "    b = a + b\n",
        "    set_trace()"
      ]
    },
    {
      "cell_type": "markdown",
      "metadata": {
        "id": "lcFTHgZ0U4sT"
      },
      "source": [
        "# Numpy\n",
        "\n",
        "Numpy tiene su propio review en la revista NATURE\n",
        "\n",
        "https://www.nature.com/articles/s41586-020-2649-2"
      ]
    },
    {
      "cell_type": "markdown",
      "metadata": {
        "id": "Wnj34EH6wVJB"
      },
      "source": [
        "![image.png](data:image/png;base64,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)"
      ]
    },
    {
      "cell_type": "code",
      "execution_count": 5,
      "metadata": {
        "id": "C9yw-iuSU4sV"
      },
      "outputs": [],
      "source": [
        "import numpy as np"
      ]
    },
    {
      "cell_type": "code",
      "execution_count": 6,
      "metadata": {
        "colab": {
          "base_uri": "https://localhost:8080/"
        },
        "id": "WiRXV-dU6iGw",
        "outputId": "0012c638-39e4-4be6-c61d-61cef188d3f0"
      },
      "outputs": [
        {
          "data": {
            "text/plain": [
              "['ALLOW_THREADS',\n",
              " 'BUFSIZE',\n",
              " 'CLIP',\n",
              " 'DataSource',\n",
              " 'ERR_CALL',\n",
              " 'ERR_DEFAULT',\n",
              " 'ERR_IGNORE',\n",
              " 'ERR_LOG',\n",
              " 'ERR_PRINT',\n",
              " 'ERR_RAISE',\n",
              " 'ERR_WARN',\n",
              " 'FLOATING_POINT_SUPPORT',\n",
              " 'FPE_DIVIDEBYZERO',\n",
              " 'FPE_INVALID',\n",
              " 'FPE_OVERFLOW',\n",
              " 'FPE_UNDERFLOW',\n",
              " 'False_',\n",
              " 'Inf',\n",
              " 'Infinity',\n",
              " 'MAXDIMS',\n",
              " 'MAY_SHARE_BOUNDS',\n",
              " 'MAY_SHARE_EXACT',\n",
              " 'NAN',\n",
              " 'NINF',\n",
              " 'NZERO',\n",
              " 'NaN',\n",
              " 'PINF',\n",
              " 'PZERO',\n",
              " 'RAISE',\n",
              " 'RankWarning',\n",
              " 'SHIFT_DIVIDEBYZERO',\n",
              " 'SHIFT_INVALID',\n",
              " 'SHIFT_OVERFLOW',\n",
              " 'SHIFT_UNDERFLOW',\n",
              " 'ScalarType',\n",
              " 'True_',\n",
              " 'UFUNC_BUFSIZE_DEFAULT',\n",
              " 'UFUNC_PYVALS_NAME',\n",
              " 'WRAP',\n",
              " '_CopyMode',\n",
              " '_NoValue',\n",
              " '_UFUNC_API',\n",
              " '__NUMPY_SETUP__',\n",
              " '__all__',\n",
              " '__builtins__',\n",
              " '__cached__',\n",
              " '__config__',\n",
              " '__deprecated_attrs__',\n",
              " '__dir__',\n",
              " '__doc__',\n",
              " '__expired_functions__',\n",
              " '__file__',\n",
              " '__former_attrs__',\n",
              " '__future_scalars__',\n",
              " '__getattr__',\n",
              " '__loader__',\n",
              " '__name__',\n",
              " '__package__',\n",
              " '__path__',\n",
              " '__spec__',\n",
              " '__version__',\n",
              " '_add_newdoc_ufunc',\n",
              " '_builtins',\n",
              " '_distributor_init',\n",
              " '_financial_names',\n",
              " '_get_promotion_state',\n",
              " '_globals',\n",
              " '_int_extended_msg',\n",
              " '_mat',\n",
              " '_no_nep50_warning',\n",
              " '_pyinstaller_hooks_dir',\n",
              " '_pytesttester',\n",
              " '_set_promotion_state',\n",
              " '_specific_msg',\n",
              " '_typing',\n",
              " '_using_numpy2_behavior',\n",
              " '_utils',\n",
              " 'abs',\n",
              " 'absolute',\n",
              " 'add',\n",
              " 'add_docstring',\n",
              " 'add_newdoc',\n",
              " 'add_newdoc_ufunc',\n",
              " 'all',\n",
              " 'allclose',\n",
              " 'alltrue',\n",
              " 'amax',\n",
              " 'amin',\n",
              " 'angle',\n",
              " 'any',\n",
              " 'append',\n",
              " 'apply_along_axis',\n",
              " 'apply_over_axes',\n",
              " 'arange',\n",
              " 'arccos',\n",
              " 'arccosh',\n",
              " 'arcsin',\n",
              " 'arcsinh',\n",
              " 'arctan',\n",
              " 'arctan2',\n",
              " 'arctanh',\n",
              " 'argmax',\n",
              " 'argmin',\n",
              " 'argpartition',\n",
              " 'argsort',\n",
              " 'argwhere',\n",
              " 'around',\n",
              " 'array',\n",
              " 'array2string',\n",
              " 'array_equal',\n",
              " 'array_equiv',\n",
              " 'array_repr',\n",
              " 'array_split',\n",
              " 'array_str',\n",
              " 'asanyarray',\n",
              " 'asarray',\n",
              " 'asarray_chkfinite',\n",
              " 'ascontiguousarray',\n",
              " 'asfarray',\n",
              " 'asfortranarray',\n",
              " 'asmatrix',\n",
              " 'atleast_1d',\n",
              " 'atleast_2d',\n",
              " 'atleast_3d',\n",
              " 'average',\n",
              " 'bartlett',\n",
              " 'base_repr',\n",
              " 'binary_repr',\n",
              " 'bincount',\n",
              " 'bitwise_and',\n",
              " 'bitwise_not',\n",
              " 'bitwise_or',\n",
              " 'bitwise_xor',\n",
              " 'blackman',\n",
              " 'block',\n",
              " 'bmat',\n",
              " 'bool_',\n",
              " 'broadcast',\n",
              " 'broadcast_arrays',\n",
              " 'broadcast_shapes',\n",
              " 'broadcast_to',\n",
              " 'busday_count',\n",
              " 'busday_offset',\n",
              " 'busdaycalendar',\n",
              " 'byte',\n",
              " 'byte_bounds',\n",
              " 'bytes_',\n",
              " 'c_',\n",
              " 'can_cast',\n",
              " 'cast',\n",
              " 'cbrt',\n",
              " 'cdouble',\n",
              " 'ceil',\n",
              " 'cfloat',\n",
              " 'char',\n",
              " 'character',\n",
              " 'chararray',\n",
              " 'choose',\n",
              " 'clip',\n",
              " 'clongdouble',\n",
              " 'clongfloat',\n",
              " 'column_stack',\n",
              " 'common_type',\n",
              " 'compare_chararrays',\n",
              " 'compat',\n",
              " 'complex128',\n",
              " 'complex256',\n",
              " 'complex64',\n",
              " 'complex_',\n",
              " 'complexfloating',\n",
              " 'compress',\n",
              " 'concatenate',\n",
              " 'conj',\n",
              " 'conjugate',\n",
              " 'convolve',\n",
              " 'copy',\n",
              " 'copysign',\n",
              " 'copyto',\n",
              " 'corrcoef',\n",
              " 'correlate',\n",
              " 'cos',\n",
              " 'cosh',\n",
              " 'count_nonzero',\n",
              " 'cov',\n",
              " 'cross',\n",
              " 'csingle',\n",
              " 'ctypeslib',\n",
              " 'cumprod',\n",
              " 'cumproduct',\n",
              " 'cumsum',\n",
              " 'datetime64',\n",
              " 'datetime_as_string',\n",
              " 'datetime_data',\n",
              " 'deg2rad',\n",
              " 'degrees',\n",
              " 'delete',\n",
              " 'deprecate',\n",
              " 'deprecate_with_doc',\n",
              " 'diag',\n",
              " 'diag_indices',\n",
              " 'diag_indices_from',\n",
              " 'diagflat',\n",
              " 'diagonal',\n",
              " 'diff',\n",
              " 'digitize',\n",
              " 'disp',\n",
              " 'divide',\n",
              " 'divmod',\n",
              " 'dot',\n",
              " 'double',\n",
              " 'dsplit',\n",
              " 'dstack',\n",
              " 'dtype',\n",
              " 'dtypes',\n",
              " 'e',\n",
              " 'ediff1d',\n",
              " 'einsum',\n",
              " 'einsum_path',\n",
              " 'emath',\n",
              " 'empty',\n",
              " 'empty_like',\n",
              " 'equal',\n",
              " 'errstate',\n",
              " 'euler_gamma',\n",
              " 'exceptions',\n",
              " 'exp',\n",
              " 'exp2',\n",
              " 'expand_dims',\n",
              " 'expm1',\n",
              " 'extract',\n",
              " 'eye',\n",
              " 'fabs',\n",
              " 'fastCopyAndTranspose',\n",
              " 'fft',\n",
              " 'fill_diagonal',\n",
              " 'find_common_type',\n",
              " 'finfo',\n",
              " 'fix',\n",
              " 'flatiter',\n",
              " 'flatnonzero',\n",
              " 'flexible',\n",
              " 'flip',\n",
              " 'fliplr',\n",
              " 'flipud',\n",
              " 'float128',\n",
              " 'float16',\n",
              " 'float32',\n",
              " 'float64',\n",
              " 'float_',\n",
              " 'float_power',\n",
              " 'floating',\n",
              " 'floor',\n",
              " 'floor_divide',\n",
              " 'fmax',\n",
              " 'fmin',\n",
              " 'fmod',\n",
              " 'format_float_positional',\n",
              " 'format_float_scientific',\n",
              " 'format_parser',\n",
              " 'frexp',\n",
              " 'from_dlpack',\n",
              " 'frombuffer',\n",
              " 'fromfile',\n",
              " 'fromfunction',\n",
              " 'fromiter',\n",
              " 'frompyfunc',\n",
              " 'fromregex',\n",
              " 'fromstring',\n",
              " 'full',\n",
              " 'full_like',\n",
              " 'gcd',\n",
              " 'generic',\n",
              " 'genfromtxt',\n",
              " 'geomspace',\n",
              " 'get_array_wrap',\n",
              " 'get_include',\n",
              " 'get_printoptions',\n",
              " 'getbufsize',\n",
              " 'geterr',\n",
              " 'geterrcall',\n",
              " 'geterrobj',\n",
              " 'gradient',\n",
              " 'greater',\n",
              " 'greater_equal',\n",
              " 'half',\n",
              " 'hamming',\n",
              " 'hanning',\n",
              " 'heaviside',\n",
              " 'histogram',\n",
              " 'histogram2d',\n",
              " 'histogram_bin_edges',\n",
              " 'histogramdd',\n",
              " 'hsplit',\n",
              " 'hstack',\n",
              " 'hypot',\n",
              " 'i0',\n",
              " 'identity',\n",
              " 'iinfo',\n",
              " 'imag',\n",
              " 'in1d',\n",
              " 'index_exp',\n",
              " 'indices',\n",
              " 'inexact',\n",
              " 'inf',\n",
              " 'info',\n",
              " 'infty',\n",
              " 'inner',\n",
              " 'insert',\n",
              " 'int16',\n",
              " 'int32',\n",
              " 'int64',\n",
              " 'int8',\n",
              " 'int_',\n",
              " 'intc',\n",
              " 'integer',\n",
              " 'interp',\n",
              " 'intersect1d',\n",
              " 'intp',\n",
              " 'invert',\n",
              " 'is_busday',\n",
              " 'isclose',\n",
              " 'iscomplex',\n",
              " 'iscomplexobj',\n",
              " 'isfinite',\n",
              " 'isfortran',\n",
              " 'isin',\n",
              " 'isinf',\n",
              " 'isnan',\n",
              " 'isnat',\n",
              " 'isneginf',\n",
              " 'isposinf',\n",
              " 'isreal',\n",
              " 'isrealobj',\n",
              " 'isscalar',\n",
              " 'issctype',\n",
              " 'issubclass_',\n",
              " 'issubdtype',\n",
              " 'issubsctype',\n",
              " 'iterable',\n",
              " 'ix_',\n",
              " 'kaiser',\n",
              " 'kernel_version',\n",
              " 'kron',\n",
              " 'lcm',\n",
              " 'ldexp',\n",
              " 'left_shift',\n",
              " 'less',\n",
              " 'less_equal',\n",
              " 'lexsort',\n",
              " 'lib',\n",
              " 'linalg',\n",
              " 'linspace',\n",
              " 'little_endian',\n",
              " 'load',\n",
              " 'loadtxt',\n",
              " 'log',\n",
              " 'log10',\n",
              " 'log1p',\n",
              " 'log2',\n",
              " 'logaddexp',\n",
              " 'logaddexp2',\n",
              " 'logical_and',\n",
              " 'logical_not',\n",
              " 'logical_or',\n",
              " 'logical_xor',\n",
              " 'logspace',\n",
              " 'longcomplex',\n",
              " 'longdouble',\n",
              " 'longfloat',\n",
              " 'longlong',\n",
              " 'lookfor',\n",
              " 'ma',\n",
              " 'mask_indices',\n",
              " 'mat',\n",
              " 'matmul',\n",
              " 'matrix',\n",
              " 'max',\n",
              " 'maximum',\n",
              " 'maximum_sctype',\n",
              " 'may_share_memory',\n",
              " 'mean',\n",
              " 'median',\n",
              " 'memmap',\n",
              " 'meshgrid',\n",
              " 'mgrid',\n",
              " 'min',\n",
              " 'min_scalar_type',\n",
              " 'minimum',\n",
              " 'mintypecode',\n",
              " 'mod',\n",
              " 'modf',\n",
              " 'moveaxis',\n",
              " 'msort',\n",
              " 'multiply',\n",
              " 'nan',\n",
              " 'nan_to_num',\n",
              " 'nanargmax',\n",
              " 'nanargmin',\n",
              " 'nancumprod',\n",
              " 'nancumsum',\n",
              " 'nanmax',\n",
              " 'nanmean',\n",
              " 'nanmedian',\n",
              " 'nanmin',\n",
              " 'nanpercentile',\n",
              " 'nanprod',\n",
              " 'nanquantile',\n",
              " 'nanstd',\n",
              " 'nansum',\n",
              " 'nanvar',\n",
              " 'nbytes',\n",
              " 'ndarray',\n",
              " 'ndenumerate',\n",
              " 'ndim',\n",
              " 'ndindex',\n",
              " 'nditer',\n",
              " 'negative',\n",
              " 'nested_iters',\n",
              " 'newaxis',\n",
              " 'nextafter',\n",
              " 'nonzero',\n",
              " 'not_equal',\n",
              " 'numarray',\n",
              " 'number',\n",
              " 'obj2sctype',\n",
              " 'object_',\n",
              " 'ogrid',\n",
              " 'oldnumeric',\n",
              " 'ones',\n",
              " 'ones_like',\n",
              " 'outer',\n",
              " 'packbits',\n",
              " 'pad',\n",
              " 'partition',\n",
              " 'percentile',\n",
              " 'pi',\n",
              " 'piecewise',\n",
              " 'place',\n",
              " 'poly',\n",
              " 'poly1d',\n",
              " 'polyadd',\n",
              " 'polyder',\n",
              " 'polydiv',\n",
              " 'polyfit',\n",
              " 'polyint',\n",
              " 'polymul',\n",
              " 'polynomial',\n",
              " 'polysub',\n",
              " 'polyval',\n",
              " 'positive',\n",
              " 'power',\n",
              " 'printoptions',\n",
              " 'prod',\n",
              " 'product',\n",
              " 'promote_types',\n",
              " 'ptp',\n",
              " 'put',\n",
              " 'put_along_axis',\n",
              " 'putmask',\n",
              " 'quantile',\n",
              " 'r_',\n",
              " 'rad2deg',\n",
              " 'radians',\n",
              " 'random',\n",
              " 'ravel',\n",
              " 'ravel_multi_index',\n",
              " 'real',\n",
              " 'real_if_close',\n",
              " 'rec',\n",
              " 'recarray',\n",
              " 'recfromcsv',\n",
              " 'recfromtxt',\n",
              " 'reciprocal',\n",
              " 'record',\n",
              " 'remainder',\n",
              " 'repeat',\n",
              " 'require',\n",
              " 'reshape',\n",
              " 'resize',\n",
              " 'result_type',\n",
              " 'right_shift',\n",
              " 'rint',\n",
              " 'roll',\n",
              " 'rollaxis',\n",
              " 'roots',\n",
              " 'rot90',\n",
              " 'round',\n",
              " 'round_',\n",
              " 'row_stack',\n",
              " 's_',\n",
              " 'safe_eval',\n",
              " 'save',\n",
              " 'savetxt',\n",
              " 'savez',\n",
              " 'savez_compressed',\n",
              " 'sctype2char',\n",
              " 'sctypeDict',\n",
              " 'sctypes',\n",
              " 'searchsorted',\n",
              " 'select',\n",
              " 'set_numeric_ops',\n",
              " 'set_printoptions',\n",
              " 'set_string_function',\n",
              " 'setbufsize',\n",
              " 'setdiff1d',\n",
              " 'seterr',\n",
              " 'seterrcall',\n",
              " 'seterrobj',\n",
              " 'setxor1d',\n",
              " 'shape',\n",
              " 'shares_memory',\n",
              " 'short',\n",
              " 'show_config',\n",
              " 'show_runtime',\n",
              " 'sign',\n",
              " 'signbit',\n",
              " 'signedinteger',\n",
              " 'sin',\n",
              " 'sinc',\n",
              " 'single',\n",
              " 'singlecomplex',\n",
              " 'sinh',\n",
              " 'size',\n",
              " 'sometrue',\n",
              " 'sort',\n",
              " 'sort_complex',\n",
              " 'source',\n",
              " 'spacing',\n",
              " 'split',\n",
              " 'sqrt',\n",
              " 'square',\n",
              " 'squeeze',\n",
              " 'stack',\n",
              " 'std',\n",
              " 'str_',\n",
              " 'string_',\n",
              " 'subtract',\n",
              " 'sum',\n",
              " 'swapaxes',\n",
              " 'take',\n",
              " 'take_along_axis',\n",
              " 'tan',\n",
              " 'tanh',\n",
              " 'tensordot',\n",
              " 'test',\n",
              " 'testing',\n",
              " 'tile',\n",
              " 'timedelta64',\n",
              " 'trace',\n",
              " 'tracemalloc_domain',\n",
              " 'transpose',\n",
              " 'trapz',\n",
              " 'tri',\n",
              " 'tril',\n",
              " 'tril_indices',\n",
              " 'tril_indices_from',\n",
              " 'trim_zeros',\n",
              " 'triu',\n",
              " 'triu_indices',\n",
              " 'triu_indices_from',\n",
              " 'true_divide',\n",
              " 'trunc',\n",
              " 'typecodes',\n",
              " 'typename',\n",
              " 'ubyte',\n",
              " 'ufunc',\n",
              " 'uint',\n",
              " 'uint16',\n",
              " 'uint32',\n",
              " 'uint64',\n",
              " 'uint8',\n",
              " 'uintc',\n",
              " 'uintp',\n",
              " 'ulonglong',\n",
              " 'unicode_',\n",
              " 'union1d',\n",
              " 'unique',\n",
              " 'unpackbits',\n",
              " 'unravel_index',\n",
              " 'unsignedinteger',\n",
              " 'unwrap',\n",
              " 'ushort',\n",
              " 'vander',\n",
              " 'var',\n",
              " 'vdot',\n",
              " 'vectorize',\n",
              " 'version',\n",
              " 'void',\n",
              " 'vsplit',\n",
              " 'vstack',\n",
              " 'where',\n",
              " 'who',\n",
              " 'zeros',\n",
              " 'zeros_like']"
            ]
          },
          "execution_count": 6,
          "metadata": {},
          "output_type": "execute_result"
        }
      ],
      "source": [
        "dir(np)"
      ]
    },
    {
      "cell_type": "markdown",
      "metadata": {
        "id": "aVRqxEEG69YI"
      },
      "source": [
        "Tipos de numpy"
      ]
    },
    {
      "cell_type": "code",
      "execution_count": null,
      "metadata": {
        "colab": {
          "base_uri": "https://localhost:8080/"
        },
        "id": "B3QZXB1_6omb",
        "outputId": "76bd1bc9-48ea-4c74-b4f1-6783aa2478b4"
      },
      "outputs": [
        {
          "data": {
            "text/plain": [
              "(numpy.bool_,\n",
              " numpy.int8,\n",
              " numpy.uint8,\n",
              " numpy.int16,\n",
              " numpy.uint16,\n",
              " numpy.int32,\n",
              " numpy.uint32,\n",
              " numpy.int64,\n",
              " numpy.uint64,\n",
              " numpy.longlong,\n",
              " numpy.ulonglong,\n",
              " numpy.float16,\n",
              " numpy.float16,\n",
              " numpy.float32,\n",
              " numpy.float64,\n",
              " numpy.longdouble,\n",
              " numpy.complex64,\n",
              " numpy.complex128,\n",
              " numpy.clongdouble)"
            ]
          },
          "execution_count": 24,
          "metadata": {},
          "output_type": "execute_result"
        }
      ],
      "source": [
        "np.bool_, np.byte, np.ubyte, np.short, np.ushort, np.intc, np.uintc, np.int_, np.uint, np.longlong, np.ulonglong, np.half, np.float16, np.single, np.double, np.longdouble, np.csingle, np.cdouble, np.clongdouble"
      ]
    },
    {
      "cell_type": "markdown",
      "metadata": {
        "id": "jIhJ7KnrU4sX"
      },
      "source": [
        "## Arrays"
      ]
    },
    {
      "cell_type": "markdown",
      "metadata": {
        "id": "s-XDS8y7U4sX"
      },
      "source": [
        "Los arrays son el tipo de datos más importante que provee NumPy. En su versión más básica representan vectores pero pueden tener más dimensiones y representar matrices y tensores en general.\n",
        "\n",
        "El tipo se llama ndarray pero también se lo conoce en la librería simplemente como array.\n",
        "\n",
        "En su versión más simple podemos pensar que no es más que una lista de python pero:\n",
        "\n",
        "* A diferencia de las listas en python, solo pueden tener un tipo de datos adentro.\n",
        "* Existen un montón de operaciones matemáticas definidas y optimizadas para trabajar con este tipo de datos.\n",
        "\n",
        "Al ser una clase de python, además de métodos tiene atributos. Veamos algunos de ellos"
      ]
    },
    {
      "cell_type": "code",
      "execution_count": 7,
      "metadata": {
        "colab": {
          "base_uri": "https://localhost:8080/"
        },
        "id": "AdYE6LIKU4sY",
        "outputId": "7832b729-82bd-461b-bddf-9263a236f00f"
      },
      "outputs": [
        {
          "data": {
            "text/plain": [
              "array([ 0,  1,  2,  3,  4,  5,  6,  7,  8,  9, 10, 11, 12, 13, 14, 15, 16,\n",
              "       17, 18, 19])"
            ]
          },
          "execution_count": 7,
          "metadata": {},
          "output_type": "execute_result"
        }
      ],
      "source": [
        "an_array = np.arange(20)\n",
        "an_array"
      ]
    },
    {
      "cell_type": "code",
      "execution_count": 8,
      "metadata": {
        "colab": {
          "base_uri": "https://localhost:8080/"
        },
        "id": "--oV7HVCU4sZ",
        "outputId": "3c953e97-7238-4e7a-ae7e-f7e3c2b8f91e"
      },
      "outputs": [
        {
          "data": {
            "text/plain": [
              "(20,)"
            ]
          },
          "execution_count": 8,
          "metadata": {},
          "output_type": "execute_result"
        }
      ],
      "source": [
        "an_array.shape"
      ]
    },
    {
      "cell_type": "code",
      "execution_count": 9,
      "metadata": {
        "colab": {
          "base_uri": "https://localhost:8080/"
        },
        "id": "AltxszNXU4sZ",
        "outputId": "fa20337d-3bc5-4d8d-a4ab-7fc2af9d6404"
      },
      "outputs": [
        {
          "data": {
            "text/plain": [
              "1"
            ]
          },
          "execution_count": 9,
          "metadata": {},
          "output_type": "execute_result"
        }
      ],
      "source": [
        "an_array.ndim"
      ]
    },
    {
      "cell_type": "code",
      "execution_count": 10,
      "metadata": {
        "colab": {
          "base_uri": "https://localhost:8080/"
        },
        "id": "k8J7kCyfU4sa",
        "outputId": "1eb1bcd5-a7b7-450e-c8ac-c9c84a1c6142"
      },
      "outputs": [
        {
          "data": {
            "text/plain": [
              "20"
            ]
          },
          "execution_count": 10,
          "metadata": {},
          "output_type": "execute_result"
        }
      ],
      "source": [
        "an_array.size"
      ]
    },
    {
      "cell_type": "code",
      "execution_count": 11,
      "metadata": {
        "colab": {
          "base_uri": "https://localhost:8080/"
        },
        "id": "JdYnKIj5U4sa",
        "outputId": "ac7b958d-52fd-472a-bea4-4e180dfd8252"
      },
      "outputs": [
        {
          "data": {
            "text/plain": [
              "dtype('int64')"
            ]
          },
          "execution_count": 11,
          "metadata": {},
          "output_type": "execute_result"
        }
      ],
      "source": [
        "an_array.dtype"
      ]
    },
    {
      "cell_type": "markdown",
      "metadata": {
        "id": "2AlTmDLhU4se"
      },
      "source": [
        "## Armando arrays"
      ]
    },
    {
      "cell_type": "markdown",
      "metadata": {
        "id": "BrWAWOHiU4se"
      },
      "source": [
        "Por un lado, tenemos el constructor de la clase que admite como parámetro listas de valores .Por otro lado, existen diversas funciones que crean arrays. Veamos algunas"
      ]
    },
    {
      "cell_type": "code",
      "execution_count": null,
      "metadata": {
        "colab": {
          "base_uri": "https://localhost:8080/"
        },
        "id": "ucb8dIPIU4se",
        "outputId": "d43bb141-ad5d-42d0-a7ef-5e7ab630fdfb"
      },
      "outputs": [
        {
          "data": {
            "text/plain": [
              "array([1, 2, 3, 4])"
            ]
          },
          "execution_count": 30,
          "metadata": {},
          "output_type": "execute_result"
        }
      ],
      "source": [
        "np.array([1,2,3,4])"
      ]
    },
    {
      "cell_type": "code",
      "execution_count": null,
      "metadata": {
        "colab": {
          "base_uri": "https://localhost:8080/"
        },
        "id": "HRVHSvDeU4se",
        "outputId": "0ce2c2ff-122a-4fba-f0ec-afd132254992"
      },
      "outputs": [
        {
          "data": {
            "text/plain": [
              "array([10, 12, 14, 16, 18, 20, 22, 24, 26, 28])"
            ]
          },
          "execution_count": 31,
          "metadata": {},
          "output_type": "execute_result"
        }
      ],
      "source": [
        "np.arange(10,30,2)"
      ]
    },
    {
      "cell_type": "code",
      "execution_count": null,
      "metadata": {
        "colab": {
          "base_uri": "https://localhost:8080/"
        },
        "id": "x2x_vXejU4se",
        "outputId": "21d265aa-3e1d-43e0-c66b-aaa0ae35c7d9"
      },
      "outputs": [
        {
          "data": {
            "text/plain": [
              "array([0.1       , 0.23333333, 0.36666667, 0.5       ])"
            ]
          },
          "execution_count": 32,
          "metadata": {},
          "output_type": "execute_result"
        }
      ],
      "source": [
        "np.linspace(0.1,0.5,4)"
      ]
    },
    {
      "cell_type": "code",
      "execution_count": null,
      "metadata": {
        "colab": {
          "base_uri": "https://localhost:8080/"
        },
        "id": "656rvkyYU4sf",
        "outputId": "00a5b1a8-1df2-411a-dc04-cb1d51107e4b"
      },
      "outputs": [
        {
          "data": {
            "text/plain": [
              "array([1.e+01, 1.e+02, 1.e+03, 1.e+04, 1.e+05, 1.e+06, 1.e+07, 1.e+08,\n",
              "       1.e+09, 1.e+10])"
            ]
          },
          "execution_count": 33,
          "metadata": {},
          "output_type": "execute_result"
        }
      ],
      "source": [
        "np.logspace(1,10,10)"
      ]
    },
    {
      "cell_type": "code",
      "execution_count": null,
      "metadata": {
        "colab": {
          "base_uri": "https://localhost:8080/"
        },
        "id": "aXgzDkSlU4sf",
        "outputId": "0443a40d-bcaa-4d73-af0e-4c2c6465b3b1"
      },
      "outputs": [
        {
          "data": {
            "text/plain": [
              "array([[0., 0.],\n",
              "       [0., 0.],\n",
              "       [0., 0.]])"
            ]
          },
          "execution_count": 34,
          "metadata": {},
          "output_type": "execute_result"
        }
      ],
      "source": [
        "np.zeros((3,2))"
      ]
    },
    {
      "cell_type": "code",
      "execution_count": null,
      "metadata": {
        "colab": {
          "base_uri": "https://localhost:8080/"
        },
        "id": "a8hJy73uU4sf",
        "outputId": "d8853b14-93e9-41b5-e0f7-ecd317d5502e"
      },
      "outputs": [
        {
          "data": {
            "text/plain": [
              "array([[1., 1., 1.],\n",
              "       [1., 1., 1.]])"
            ]
          },
          "execution_count": 35,
          "metadata": {},
          "output_type": "execute_result"
        }
      ],
      "source": [
        "np.ones((2,3))"
      ]
    },
    {
      "cell_type": "code",
      "execution_count": null,
      "metadata": {
        "colab": {
          "base_uri": "https://localhost:8080/"
        },
        "id": "CXOuKCBAhT-R",
        "outputId": "e592bc05-fb28-4f62-874d-edce4414a417"
      },
      "outputs": [
        {
          "data": {
            "text/plain": [
              "array([[0.3398017 , 0.54306144],\n",
              "       [0.04379483, 0.84854646],\n",
              "       [0.51480131, 0.36702182]])"
            ]
          },
          "execution_count": 36,
          "metadata": {},
          "output_type": "execute_result"
        }
      ],
      "source": [
        "np.random.rand(3,2) # random entre 0 y 1"
      ]
    },
    {
      "cell_type": "code",
      "execution_count": null,
      "metadata": {
        "colab": {
          "base_uri": "https://localhost:8080/"
        },
        "id": "IppJwl9UhZde",
        "outputId": "bf8de2a1-21eb-4282-a6a3-218d9648dc16"
      },
      "outputs": [
        {
          "data": {
            "text/plain": [
              "array([[1, 5],\n",
              "       [9, 2],\n",
              "       [5, 5]])"
            ]
          },
          "execution_count": 37,
          "metadata": {},
          "output_type": "execute_result"
        }
      ],
      "source": [
        "np.random.randint(1,10,(3,2)) # enteros random entre [1 y 10)"
      ]
    },
    {
      "cell_type": "code",
      "execution_count": null,
      "metadata": {
        "colab": {
          "base_uri": "https://localhost:8080/"
        },
        "id": "hSRDkakvU4sf",
        "outputId": "301b810b-4e37-4346-ae82-6b66a7e891a2"
      },
      "outputs": [
        {
          "data": {
            "text/plain": [
              "array([[ 1.10032851, -0.12632543],\n",
              "       [ 1.94452798, -0.22144086],\n",
              "       [-0.41193579,  0.99722222],\n",
              "       [ 0.43732368,  0.15380123],\n",
              "       [-0.23332081, -1.07509161],\n",
              "       [ 1.22743252,  1.39926978],\n",
              "       [ 0.72040099, -0.33557141],\n",
              "       [ 0.96141869,  0.0137898 ]])"
            ]
          },
          "execution_count": 38,
          "metadata": {},
          "output_type": "execute_result"
        }
      ],
      "source": [
        "np.random.standard_normal((8,2))"
      ]
    },
    {
      "cell_type": "markdown",
      "metadata": {
        "id": "miDJcz_GFBma"
      },
      "source": [
        "Propiedades de un arreglo"
      ]
    },
    {
      "cell_type": "code",
      "execution_count": 15,
      "metadata": {
        "colab": {
          "base_uri": "https://localhost:8080/"
        },
        "id": "RGsIfaEOFDyD",
        "outputId": "4f6cc0d7-3f4b-4431-bd21-0247215976db"
      },
      "outputs": [
        {
          "name": "stdout",
          "output_type": "stream",
          "text": [
            "an array:\n",
            " [[1. 1. 1.]\n",
            " [1. 1. 1.]]\n",
            "(2, 3) 2 6 float64\n"
          ]
        }
      ],
      "source": [
        "an_array = np.ones((2,3))\n",
        "print(\"an array:\\n\",an_array)\n",
        "print(an_array.shape, an_array.ndim, an_array.size, an_array.dtype)"
      ]
    },
    {
      "cell_type": "markdown",
      "metadata": {
        "id": "vdipe8b9EqRp"
      },
      "source": [
        "Se puede cambiar el tipo de un array"
      ]
    },
    {
      "cell_type": "code",
      "execution_count": null,
      "metadata": {
        "colab": {
          "base_uri": "https://localhost:8080/"
        },
        "id": "WcAjlxQdEs_O",
        "outputId": "fea5ab95-7a0b-40b3-854c-718fac5e4a0c"
      },
      "outputs": [
        {
          "data": {
            "text/plain": [
              "array([0. , 0.5, 1. , 1.5, 2. , 2.5, 3. , 3.5, 4. , 4.5, 5. , 5.5, 6. ,\n",
              "       6.5, 7. , 7.5, 8. , 8.5, 9. , 9.5])"
            ]
          },
          "execution_count": 40,
          "metadata": {},
          "output_type": "execute_result"
        }
      ],
      "source": [
        "np.arange(0,10,0.5)"
      ]
    },
    {
      "cell_type": "code",
      "execution_count": null,
      "metadata": {
        "colab": {
          "base_uri": "https://localhost:8080/"
        },
        "id": "sQha4U_kEw_E",
        "outputId": "1cbd60c8-41d2-46b7-86cd-9681ae5395af"
      },
      "outputs": [
        {
          "data": {
            "text/plain": [
              "array([0, 0, 1, 1, 2, 2, 3, 3, 4, 4, 5, 5, 6, 6, 7, 7, 8, 8, 9, 9],\n",
              "      dtype=int32)"
            ]
          },
          "execution_count": 41,
          "metadata": {},
          "output_type": "execute_result"
        }
      ],
      "source": [
        "np.arange(0,10,0.5).astype(np.int32)"
      ]
    },
    {
      "cell_type": "markdown",
      "metadata": {
        "id": "1OY73h_fU4sa"
      },
      "source": [
        "## Matrices"
      ]
    },
    {
      "cell_type": "markdown",
      "metadata": {
        "id": "HyURVXvPU4sb"
      },
      "source": [
        "Las matrices no son más que array con 2 dimensiones. Si bien existe un tipo específico para matrices en numpy cayó en desuso (y obsolescencia)."
      ]
    },
    {
      "cell_type": "code",
      "execution_count": 61,
      "metadata": {
        "colab": {
          "base_uri": "https://localhost:8080/"
        },
        "id": "PcUdgL_8U4sb",
        "outputId": "e416637f-10ea-404e-9919-bec5d5b77325"
      },
      "outputs": [
        {
          "name": "stdout",
          "output_type": "stream",
          "text": [
            "b_matrix:\n",
            " [[ 0  1  2  3  4]\n",
            " [ 5  6  7  8  9]\n",
            " [10 11 12 13 14]\n",
            " [15 16 17 18 19]\n",
            " [20 21 22 23 24]] \n",
            "\n",
            "c_matrix:\n",
            " [ 0  1  2  3  4  5  6  7  8  9 10 11 12 13 14] \n",
            "\n",
            "after resizing: \n",
            " [[ 0  1  2]\n",
            " [ 3  4  5]\n",
            " [ 6  7  8]\n",
            " [ 9 10 11]\n",
            " [12 13 14]]\n"
          ]
        }
      ],
      "source": [
        "a_matrix = np.array([[ 0,  1,  2,  3],\n",
        "                    [ 4,  5,  6,  7],\n",
        "                    [ 8,  9, 10, 11],\n",
        "                    [12, 13, 14, 15]])\n",
        "\n",
        "# forma pythonica de definir un array de cosas....\n",
        "b_matrix = np.array([np.arange(i,i+5) for i in range(0, 25, 5)])\n",
        "print(\"b_matrix:\\n\" ,b_matrix, \"\\n\")\n",
        "\n",
        "c_matrix = np.arange(0,15)\n",
        "print(\"c_matrix:\\n\", c_matrix, \"\\n\")\n",
        "c_matrix.resize(5,3)\n",
        "print(\"after resizing: \\n\" ,c_matrix)\n"
      ]
    },
    {
      "cell_type": "code",
      "execution_count": null,
      "metadata": {
        "colab": {
          "base_uri": "https://localhost:8080/"
        },
        "id": "SLvmg8s9U4sb",
        "outputId": "732e8979-a524-48e7-99a2-f57355b1bb96"
      },
      "outputs": [
        {
          "name": "stdout",
          "output_type": "stream",
          "text": [
            "(4, 4) 2 16 int64\n"
          ]
        }
      ],
      "source": [
        "print(a_matrix.shape, a_matrix.ndim, a_matrix.size, a_matrix.dtype)"
      ]
    },
    {
      "cell_type": "markdown",
      "metadata": {
        "id": "tWyR3FUUfce0"
      },
      "source": [
        "### Matrices especiales"
      ]
    },
    {
      "cell_type": "code",
      "execution_count": null,
      "metadata": {
        "colab": {
          "base_uri": "https://localhost:8080/"
        },
        "id": "Z0pM2MiIfbxR",
        "outputId": "33d247bf-62c9-4ce1-df39-1662cea22e7d"
      },
      "outputs": [
        {
          "data": {
            "text/plain": [
              "array([[1., 0., 0.],\n",
              "       [0., 1., 0.],\n",
              "       [0., 0., 1.]])"
            ]
          },
          "execution_count": 44,
          "metadata": {},
          "output_type": "execute_result"
        }
      ],
      "source": [
        "np.eye(3) # Identidad de 3x3"
      ]
    },
    {
      "cell_type": "code",
      "execution_count": 33,
      "metadata": {
        "colab": {
          "base_uri": "https://localhost:8080/"
        },
        "id": "lXKZM93ffgk5",
        "outputId": "71afaa5f-a376-4986-c63f-2ca01c8cc185"
      },
      "outputs": [
        {
          "name": "stdout",
          "output_type": "stream",
          "text": [
            "[[ 1  2  3  4]\n",
            " [ 5  6  7  8]\n",
            " [ 9 10 11 12]\n",
            " [13 14 15 16]]\n",
            "\n",
            "[ 5 10 15]\n"
          ]
        }
      ],
      "source": [
        "diag1 = np.diag([77,90]) # Matriz diagonal\n",
        "diag2 = np.diag([4,5,6,7],2) # 2do param opcional, para decir que diagonal queremos que sea el array pasado\n",
        "M = np.array([[1,2,3,4],[5,6,7,8],[9,10,11,12],[13,14,15,16]])\n",
        "\n",
        "extracted_diag = np.diag(M, -1)\n",
        "\n",
        "print(M)\n",
        "print()\n",
        "print(extracted_diag)\n"
      ]
    },
    {
      "cell_type": "code",
      "execution_count": 36,
      "metadata": {
        "colab": {
          "base_uri": "https://localhost:8080/"
        },
        "id": "JOXxw5dSfjvV",
        "outputId": "b6f42a82-eb39-4490-8e6e-ca9ca1b7a8e0"
      },
      "outputs": [
        {
          "data": {
            "text/plain": [
              "array([[0., 1., 0., 0.],\n",
              "       [0., 0., 1., 0.],\n",
              "       [0., 0., 0., 1.],\n",
              "       [0., 0., 0., 0.]])"
            ]
          },
          "execution_count": 36,
          "metadata": {},
          "output_type": "execute_result"
        }
      ],
      "source": [
        "np.diag(np.ones(3),1) # Superdiagonal 1\n",
        "\n",
        "\n",
        "# una manera de definir un array o una lista con for es [function() for i in range(r)]\n",
        "\n",
        "rand_arr = np.array([np.random.rand(4) for i in range(4)])\n",
        "print(rand_arr)"
      ]
    },
    {
      "cell_type": "code",
      "execution_count": null,
      "metadata": {
        "colab": {
          "base_uri": "https://localhost:8080/"
        },
        "id": "MtF_sDXGFTwa",
        "outputId": "5d80bf9f-6a6a-434c-a3a4-ccf4ea56ff4c"
      },
      "outputs": [
        {
          "data": {
            "text/plain": [
              "array([[ 1,  0,  0,  0],\n",
              "       [ 1,  1,  1,  1],\n",
              "       [ 1,  2,  4,  8],\n",
              "       [ 1,  3,  9, 27]])"
            ]
          },
          "execution_count": 47,
          "metadata": {},
          "output_type": "execute_result"
        }
      ],
      "source": [
        "np.vander(np.arange(4),increasing=True) # Matriz de Vandermonde"
      ]
    },
    {
      "cell_type": "markdown",
      "metadata": {
        "id": "V5UvvqhfU4sb"
      },
      "source": [
        "## Reshape"
      ]
    },
    {
      "cell_type": "markdown",
      "metadata": {
        "id": "5zEVl7LIU4sc"
      },
      "source": [
        "Algunos métodos que modifican las dimensiones:\n",
        "* reshape: Devuelve un nuevo array con las dimensiones indicadas cómo\n",
        "parámetro. Si alguno de los parámetros es igual a -1, se calculan las\n",
        "dimensiones para que sea factible el cambio.\n",
        "\n",
        "* resize: el mismo efecto que “reshape” pero modifica el array en vez de devolver\n",
        "uno nuevo.\n",
        "\n",
        "* T: sirve para transponer una matriz.\n",
        "\n",
        "* ravel, flattened: “aplana” el array devolviendo todo en una sola dimensión."
      ]
    },
    {
      "cell_type": "code",
      "execution_count": 75,
      "metadata": {
        "colab": {
          "base_uri": "https://localhost:8080/"
        },
        "id": "dAFXPhu8U4sc",
        "outputId": "bcf985cc-9dbe-44df-8ded-be3eeac34fb4"
      },
      "outputs": [
        {
          "data": {
            "text/plain": [
              "(1, 16)"
            ]
          },
          "execution_count": 75,
          "metadata": {},
          "output_type": "execute_result"
        }
      ],
      "source": [
        "a_matrix.reshape(1,16)  # shape = (1, 16)\n",
        "\n",
        "# la matriz re-shapeada sigue siendo de dim 2 !!! solo que es como una matriz fila"
      ]
    },
    {
      "cell_type": "code",
      "execution_count": null,
      "metadata": {
        "colab": {
          "base_uri": "https://localhost:8080/"
        },
        "id": "XTbvbLN0U4sd",
        "outputId": "907bde18-7590-4fb9-c67d-036ed679a604"
      },
      "outputs": [
        {
          "data": {
            "text/plain": [
              "array([[ 0,  4,  8, 12],\n",
              "       [ 1,  5,  9, 13],\n",
              "       [ 2,  6, 10, 14],\n",
              "       [ 3,  7, 11, 15]])"
            ]
          },
          "execution_count": 49,
          "metadata": {},
          "output_type": "execute_result"
        }
      ],
      "source": [
        "a_matrix.T"
      ]
    },
    {
      "cell_type": "code",
      "execution_count": 76,
      "metadata": {
        "colab": {
          "base_uri": "https://localhost:8080/"
        },
        "id": "1-ycmi3SU4sd",
        "outputId": "16a91348-da26-43bf-f7bd-2ebf86ff12cc"
      },
      "outputs": [
        {
          "data": {
            "text/plain": [
              "1"
            ]
          },
          "execution_count": 76,
          "metadata": {},
          "output_type": "execute_result"
        }
      ],
      "source": [
        "a_matrix.ravel()\n",
        "# la diferencia de ravel con reshape y resize es que\n",
        "# ravel retorna shape = (n, )\n",
        "# reshape y resize retornan, shape = (1, n)\n",
        "\n",
        "# a_matriz despues de ser reveleada, tiene ndim 1, y efectivamente es tratado como un vector columna"
      ]
    },
    {
      "cell_type": "code",
      "execution_count": 55,
      "metadata": {
        "colab": {
          "base_uri": "https://localhost:8080/"
        },
        "id": "MwuSJ0pGU4sc",
        "outputId": "367cc055-7be1-467e-dc04-692684592d3c"
      },
      "outputs": [
        {
          "name": "stdout",
          "output_type": "stream",
          "text": [
            "[[ 0  1  2  3  4  5  6  7  8  9 10 11 12 13 14 15]]\n"
          ]
        }
      ],
      "source": [
        "a_matrix.resize(1,16)\n",
        "print(a_matrix)"
      ]
    },
    {
      "cell_type": "markdown",
      "metadata": {
        "id": "D6F6Pyk2U4sf"
      },
      "source": [
        "## Operaciones con arrays"
      ]
    },
    {
      "cell_type": "markdown",
      "metadata": {
        "id": "dwWHmax9U4sf"
      },
      "source": [
        "Existen muchísimas operaciones definidas para arrays."
      ]
    },
    {
      "cell_type": "markdown",
      "metadata": {
        "id": "kWcBRtObU4sf"
      },
      "source": [
        "### Operadores básicos:\n",
        "\n",
        "Los operadores básicos de sumas, restas, potencias, etc se encuentran sobrecargados."
      ]
    },
    {
      "cell_type": "code",
      "execution_count": 254,
      "metadata": {
        "colab": {
          "base_uri": "https://localhost:8080/"
        },
        "id": "bHvMHmswU4sg",
        "outputId": "625b37e0-aa74-43c7-db53-7e29ce083da3"
      },
      "outputs": [
        {
          "data": {
            "text/plain": [
              "(array([1, 2, 3, 4, 5, 6]), array([1., 1., 1., 1., 1., 1.]))"
            ]
          },
          "execution_count": 254,
          "metadata": {},
          "output_type": "execute_result"
        }
      ],
      "source": [
        "v = np.arange(1,7)\n",
        "w = np.ones(6)\n",
        "v, w"
      ]
    },
    {
      "cell_type": "code",
      "execution_count": null,
      "metadata": {
        "colab": {
          "base_uri": "https://localhost:8080/"
        },
        "id": "Std_KFLGU4sg",
        "outputId": "ea4ba53d-5baf-4099-8030-d2af39898c74"
      },
      "outputs": [
        {
          "data": {
            "text/plain": [
              "array([2., 3., 4., 5., 6., 7.])"
            ]
          },
          "execution_count": 53,
          "metadata": {},
          "output_type": "execute_result"
        }
      ],
      "source": [
        "v + w"
      ]
    },
    {
      "cell_type": "code",
      "execution_count": null,
      "metadata": {
        "colab": {
          "base_uri": "https://localhost:8080/"
        },
        "id": "u9JzxPbYFsT6",
        "outputId": "903752aa-06f6-4323-b133-d473293d06f6"
      },
      "outputs": [
        {
          "data": {
            "text/plain": [
              "array([False,  True,  True,  True,  True,  True])"
            ]
          },
          "execution_count": 54,
          "metadata": {},
          "output_type": "execute_result"
        }
      ],
      "source": [
        "v > w"
      ]
    },
    {
      "cell_type": "code",
      "execution_count": null,
      "metadata": {
        "colab": {
          "base_uri": "https://localhost:8080/"
        },
        "id": "WbZw3saEU4sg",
        "outputId": "79ef2660-805d-4c13-9c2f-a9a00943dbf6"
      },
      "outputs": [
        {
          "data": {
            "text/plain": [
              "array([0., 1., 2., 3., 4., 5.])"
            ]
          },
          "execution_count": 55,
          "metadata": {},
          "output_type": "execute_result"
        }
      ],
      "source": [
        "v - w"
      ]
    },
    {
      "cell_type": "code",
      "execution_count": 258,
      "metadata": {
        "colab": {
          "base_uri": "https://localhost:8080/"
        },
        "id": "CquY5gv4U4sg",
        "outputId": "0365dde2-9771-4815-ad17-1ed77b4b3487"
      },
      "outputs": [
        {
          "name": "stdout",
          "output_type": "stream",
          "text": [
            "[1 2 3 4 5 6]\n",
            "[ 1  4  9 16 25 36]\n"
          ]
        }
      ],
      "source": [
        "print(v)\n",
        "print(v ** 2) # potencia, tambien funciona para la multiplicacion"
      ]
    },
    {
      "cell_type": "code",
      "execution_count": null,
      "metadata": {
        "colab": {
          "base_uri": "https://localhost:8080/"
        },
        "id": "TtZELem1U4sg",
        "outputId": "da0a24f3-281b-4f92-adb6-1f88b992c652"
      },
      "outputs": [
        {
          "data": {
            "text/plain": [
              "array([1.        , 1.41421356, 1.73205081, 2.        , 2.23606798,\n",
              "       2.44948974])"
            ]
          },
          "execution_count": 57,
          "metadata": {},
          "output_type": "execute_result"
        }
      ],
      "source": [
        "np.sqrt(v)"
      ]
    },
    {
      "cell_type": "code",
      "execution_count": null,
      "metadata": {
        "colab": {
          "base_uri": "https://localhost:8080/"
        },
        "id": "wl9i19HIU4sg",
        "outputId": "2ecc1684-da26-4d93-b6c9-80277589bec1"
      },
      "outputs": [
        {
          "name": "stdout",
          "output_type": "stream",
          "text": [
            "[ 0.84147098  0.90929743  0.14112001 -0.7568025  -0.95892427 -0.2794155 ] \n",
            " [ 0.54030231 -0.41614684 -0.9899925  -0.65364362  0.28366219  0.96017029] \n",
            " [ 0. -1. -1. -1.  0.  0.] \n",
            " [ 1. -0. -1. -1.  0.  1.]\n"
          ]
        }
      ],
      "source": [
        "print(np.sin(v), \"\\n\", np.cos(v), \"\\n\", np.floor(np.cos(v)), \"\\n\", np.round(np.cos(v)))"
      ]
    },
    {
      "cell_type": "markdown",
      "metadata": {
        "id": "M3gDPuIPU4sh"
      },
      "source": [
        "### Operaciones entre vectores"
      ]
    },
    {
      "cell_type": "code",
      "execution_count": null,
      "metadata": {
        "colab": {
          "base_uri": "https://localhost:8080/"
        },
        "id": "MlIDOOMhU4sh",
        "outputId": "343e8c1d-f162-4c93-93f4-04e6d4f1a2c0"
      },
      "outputs": [
        {
          "data": {
            "text/plain": [
              "21.0"
            ]
          },
          "execution_count": 59,
          "metadata": {},
          "output_type": "execute_result"
        }
      ],
      "source": [
        "np.dot(v,w) #Producto iterno (o escalar)"
      ]
    },
    {
      "cell_type": "code",
      "execution_count": null,
      "metadata": {
        "colab": {
          "base_uri": "https://localhost:8080/"
        },
        "id": "acpw7kRmU4sh",
        "outputId": "81f71985-9e8a-4c34-9364-e134fd59fa43"
      },
      "outputs": [
        {
          "data": {
            "text/plain": [
              "array([[1., 1., 1., 1., 1., 1.],\n",
              "       [2., 2., 2., 2., 2., 2.],\n",
              "       [3., 3., 3., 3., 3., 3.],\n",
              "       [4., 4., 4., 4., 4., 4.],\n",
              "       [5., 5., 5., 5., 5., 5.],\n",
              "       [6., 6., 6., 6., 6., 6.]])"
            ]
          },
          "execution_count": 60,
          "metadata": {},
          "output_type": "execute_result"
        }
      ],
      "source": [
        "np.outer(v,w) #Producto externo"
      ]
    },
    {
      "cell_type": "markdown",
      "metadata": {
        "id": "xktWd52NU4sh"
      },
      "source": [
        "### Multiplicación de matrices\n",
        "\n",
        "Existe la multiplicación clásica entre matrices (con\n",
        "el símbolo @) o el producto elemento a elemento (producto Hadamard)"
      ]
    },
    {
      "cell_type": "code",
      "execution_count": 70,
      "metadata": {
        "colab": {
          "base_uri": "https://localhost:8080/"
        },
        "id": "hhId4kMlU4sh",
        "outputId": "e79c4ea9-f1d7-406d-a3e7-08aeff3f3ea3"
      },
      "outputs": [
        {
          "data": {
            "text/plain": [
              "(array([[1, 2, 3],\n",
              "        [4, 5, 6],\n",
              "        [7, 8, 9]]),\n",
              " array([[1., 1., 1.],\n",
              "        [1., 1., 1.],\n",
              "        [1., 1., 1.]]))"
            ]
          },
          "execution_count": 70,
          "metadata": {},
          "output_type": "execute_result"
        }
      ],
      "source": [
        "M1 = np.arange(1,10).reshape(3,3)\n",
        "M2 = np.ones((3,3))\n",
        "M1, M2"
      ]
    },
    {
      "cell_type": "code",
      "execution_count": null,
      "metadata": {
        "colab": {
          "base_uri": "https://localhost:8080/"
        },
        "id": "ijp2xKTFU4sh",
        "outputId": "48d2c6e5-e60d-4b3a-a1a5-40ddbf2aff62"
      },
      "outputs": [
        {
          "data": {
            "text/plain": [
              "array([[1., 2., 3.],\n",
              "       [4., 5., 6.],\n",
              "       [7., 8., 9.]])"
            ]
          },
          "execution_count": 62,
          "metadata": {},
          "output_type": "execute_result"
        }
      ],
      "source": [
        "M1 * M2 #Producto Hadamard o elemento a elemento"
      ]
    },
    {
      "cell_type": "code",
      "execution_count": 71,
      "metadata": {
        "colab": {
          "base_uri": "https://localhost:8080/"
        },
        "id": "pMhIGrvlcYP-",
        "outputId": "24c09bf8-5d1b-42fc-9aaf-22030092ab29"
      },
      "outputs": [
        {
          "data": {
            "text/plain": [
              "array([[ 6.,  6.,  6.],\n",
              "       [15., 15., 15.],\n",
              "       [24., 24., 24.]])"
            ]
          },
          "execution_count": 71,
          "metadata": {},
          "output_type": "execute_result"
        }
      ],
      "source": [
        "np.matmul(M1,M2) #Producto interno de matrices"
      ]
    },
    {
      "cell_type": "code",
      "execution_count": null,
      "metadata": {
        "colab": {
          "base_uri": "https://localhost:8080/"
        },
        "id": "PrQg7yZQU4si",
        "outputId": "0235cf05-642f-4c40-c5e9-54a329e3d8a7"
      },
      "outputs": [
        {
          "data": {
            "text/plain": [
              "array([[ 6.,  6.,  6.],\n",
              "       [15., 15., 15.],\n",
              "       [24., 24., 24.]])"
            ]
          },
          "execution_count": 64,
          "metadata": {},
          "output_type": "execute_result"
        }
      ],
      "source": [
        "M1 @ M2 #Producto interno de matrices"
      ]
    },
    {
      "cell_type": "markdown",
      "metadata": {
        "id": "4dAKsw5LU4si"
      },
      "source": [
        "**EJERCICIO**: Multiplicar $M_{1}v$ siendo $v = (1,1,1)$ como columna"
      ]
    },
    {
      "cell_type": "code",
      "execution_count": 84,
      "metadata": {
        "colab": {
          "base_uri": "https://localhost:8080/"
        },
        "id": "sl9NNEG6U4si",
        "outputId": "83cbd2cb-d043-46d7-9f4e-a3ebca3a7238"
      },
      "outputs": [
        {
          "name": "stdout",
          "output_type": "stream",
          "text": [
            "[ 6 15 24]\n",
            "(3,)\n"
          ]
        }
      ],
      "source": [
        "v = np.array([1,1,1]) # [1,1,1] , v.dim = 1, va a ser tratado como vector columna\n",
        "b = M1 @ v\n",
        "\n",
        "v_mat = np.ones(shape=(3,3))\n",
        "v2 = v_mat[:1]  # [[1,1,1]]\n",
        "\n",
        "# b2 = M1 @ v2  esto va a tirar error, ya que v2.dim = 2, osea que es tratado como matriz fila, no como vector col\n",
        "\n",
        "print(b) # esto es correcto, los vectores con shape (n, ) son tratados como vectores columna, osea todos los arr de 1d\n",
        "print(b.shape)"
      ]
    },
    {
      "cell_type": "markdown",
      "metadata": {
        "id": "B2AxK981IeRQ"
      },
      "source": [
        "## Broadcasting\n",
        "\n",
        "Dado un operador, si las matrices no tienen el mismo tamaño Numpy tiene reglas definidas para \"estirar\", en alguna dimensión conveniente, una de las matrices y así arreglarselas para computar la operación. Esto se lo conoce como **Broadcasting**. Más info https://numpy.org/doc/stable/user/basics.broadcasting.html\n",
        "\n",
        "![](https://files.realpython.com/media/broadcasting.084a0e28dea8.jpg)"
      ]
    },
    {
      "cell_type": "markdown",
      "metadata": {
        "id": "scodRukzU4si"
      },
      "source": [
        "**EJERCICIO**: Regenerar el ejemplo de la figura\n"
      ]
    },
    {
      "cell_type": "code",
      "execution_count": 85,
      "metadata": {
        "id": "4EcMQfFOU4sj"
      },
      "outputs": [
        {
          "name": "stdout",
          "output_type": "stream",
          "text": [
            "[[-4 -4]\n",
            " [-2 -1]\n",
            " [ 6  5]]\n"
          ]
        }
      ],
      "source": [
        "M = np.array([[0,1],[2,4],[10,10]])\n",
        "v = np.array([4,5])\n",
        "\n",
        "res = M - v\n",
        "print(res)"
      ]
    },
    {
      "cell_type": "markdown",
      "metadata": {
        "id": "L1RFYZjNU4sj"
      },
      "source": [
        "## Universal functions y Performance"
      ]
    },
    {
      "cell_type": "markdown",
      "metadata": {
        "id": "sw6v-mABU4sj"
      },
      "source": [
        "Son todas aquellas funciones que operan elemento a elemento sobre un array de manera predefinida. Varios de los ejemplos vistos en las slides anteriores caen en este tipo de funciones.\n",
        "\n",
        "Estas funciones se dicen que son vectorizadas y están particularmente\n",
        "optimizadas para hacer muy rápidamente la misma función sobre todas las\n",
        "posiciones de un vector de manera muy rápida (sí, numpy usa SIMD https://numpy.org/doc/stable/reference/simd/index.html)\n",
        "\n",
        "Se podría perfectamente obtener el mismo resultado iterando el array y\n",
        "aplicando la función requerida, pero tomaría mucho más tiempo de cómputo."
      ]
    },
    {
      "cell_type": "code",
      "execution_count": 86,
      "metadata": {
        "id": "E8uFBXzgU4sj"
      },
      "outputs": [],
      "source": [
        "import time\n",
        "import math\n",
        "\n",
        "def compute_cos_native(array):\n",
        "    result = []\n",
        "    for element in array:\n",
        "        result.append(math.cos(element))\n",
        "    return result\n",
        "\n",
        "def compute_cos_numpy(array):\n",
        "    result = np.cos(array)\n",
        "    return result\n"
      ]
    },
    {
      "cell_type": "code",
      "execution_count": 90,
      "metadata": {
        "colab": {
          "base_uri": "https://localhost:8080/"
        },
        "id": "yLKCJvsZU4sk",
        "outputId": "a08b6dde-3713-4c40-a2b2-0b35ef182ef4"
      },
      "outputs": [
        {
          "name": "stdout",
          "output_type": "stream",
          "text": [
            "Tiempo sin numpy: 1.5491323471069336\n",
            "Tiempo con numpy: 0.18154573440551758\n"
          ]
        }
      ],
      "source": [
        "an_array = np.arange(10000000)\n",
        "start_time_native = time.time()\n",
        "result_native = compute_cos_native(an_array)\n",
        "end_time_native = time.time()\n",
        "\n",
        "start_time_numpy = time.time()\n",
        "result_numpy = compute_cos_numpy(an_array)\n",
        "end_time_numpy = time.time()\n",
        "print(\"Tiempo sin numpy:\", end_time_native - start_time_native)\n",
        "print(\"Tiempo con numpy:\", end_time_numpy - start_time_numpy)\n",
        "assert(np.allclose(result_native, result_numpy))"
      ]
    },
    {
      "cell_type": "markdown",
      "metadata": {
        "id": "3ZMHdwF44-0U"
      },
      "source": [
        "Numpy tiene una función \"vectorize\" es acazo una forma de ganar performance? Pues veamos"
      ]
    },
    {
      "cell_type": "code",
      "execution_count": 91,
      "metadata": {
        "id": "R1fQU_uc2Itq"
      },
      "outputs": [],
      "source": [
        "def cos_native(x):\n",
        "    return math.cos(x)\n",
        "vectorized_cos = np.vectorize(cos_native)"
      ]
    },
    {
      "cell_type": "code",
      "execution_count": null,
      "metadata": {
        "id": "d2r2-_u821kQ"
      },
      "outputs": [],
      "source": [
        "an_array = np.arange(10000)"
      ]
    },
    {
      "cell_type": "markdown",
      "metadata": {
        "id": "vSTYan-45GnE"
      },
      "source": [
        "Usamos el magick command %timeit para calcular promedios de tiempos de ejecuciones"
      ]
    },
    {
      "cell_type": "code",
      "execution_count": 92,
      "metadata": {
        "colab": {
          "base_uri": "https://localhost:8080/"
        },
        "id": "Cv0Fgkmw2xUJ",
        "outputId": "9b75c56f-b48e-461d-c70f-6da89042f42d"
      },
      "outputs": [
        {
          "name": "stdout",
          "output_type": "stream",
          "text": [
            "1.46 s ± 16.4 ms per loop (mean ± std. dev. of 7 runs, 1 loop each)\n"
          ]
        }
      ],
      "source": [
        "%timeit compute_cos_native(an_array)"
      ]
    },
    {
      "cell_type": "code",
      "execution_count": 93,
      "metadata": {
        "colab": {
          "base_uri": "https://localhost:8080/"
        },
        "id": "wYA4rRFt2SPi",
        "outputId": "7629014a-b876-44ab-f9b3-48daa94fb5d7"
      },
      "outputs": [
        {
          "name": "stdout",
          "output_type": "stream",
          "text": [
            "2.04 s ± 44 ms per loop (mean ± std. dev. of 7 runs, 1 loop each)\n"
          ]
        }
      ],
      "source": [
        "%timeit vectorized_cos(an_array)"
      ]
    },
    {
      "cell_type": "code",
      "execution_count": 94,
      "metadata": {
        "colab": {
          "base_uri": "https://localhost:8080/"
        },
        "id": "l-g9Ndln2ayx",
        "outputId": "281a0384-7b63-4ef5-8d70-5d6a1bd51f6c"
      },
      "outputs": [
        {
          "name": "stdout",
          "output_type": "stream",
          "text": [
            "176 ms ± 20.4 ms per loop (mean ± std. dev. of 7 runs, 1 loop each)\n"
          ]
        }
      ],
      "source": [
        "%timeit np.cos(an_array)"
      ]
    },
    {
      "cell_type": "markdown",
      "metadata": {
        "id": "bLcq-1JvvYEb"
      },
      "source": [
        "## Numba\n",
        "\n",
        "Podemos usar Numba para compilar funciones escritas en puro python + numpy y lograr mejoras en performance\n",
        "\n",
        "https://numba.pydata.org/numba-doc/latest/user/jit.html\n",
        "\n"
      ]
    },
    {
      "cell_type": "code",
      "execution_count": 95,
      "metadata": {
        "id": "bhG9Lv-hvKmC"
      },
      "outputs": [],
      "source": [
        "def matvecmul(M,x):\n",
        "    out = np.zeros_like(x)\n",
        "    for i in range(M.shape[0]):\n",
        "        for j in range(M.shape[1]):\n",
        "            out[i] += M[i,j]*x[j]\n",
        "    return out"
      ]
    },
    {
      "cell_type": "code",
      "execution_count": 96,
      "metadata": {
        "id": "2y53aKjQwHZ5"
      },
      "outputs": [],
      "source": [
        "M = np.random.rand(100,100)\n",
        "x = np.random.rand(100,1)"
      ]
    },
    {
      "cell_type": "code",
      "execution_count": 97,
      "metadata": {
        "colab": {
          "base_uri": "https://localhost:8080/"
        },
        "id": "0fiB0KjZw_Mm",
        "outputId": "9c92c41e-47ae-4aa3-f57d-ad2a2269f9db"
      },
      "outputs": [
        {
          "data": {
            "text/plain": [
              "True"
            ]
          },
          "execution_count": 97,
          "metadata": {},
          "output_type": "execute_result"
        }
      ],
      "source": [
        "np.allclose(matvecmul(M,x),M@x)"
      ]
    },
    {
      "cell_type": "code",
      "execution_count": 98,
      "metadata": {
        "colab": {
          "base_uri": "https://localhost:8080/"
        },
        "id": "zyp_E98kwEkl",
        "outputId": "3cb1a5b3-6073-4913-e35c-aa89da8bb4fa"
      },
      "outputs": [
        {
          "name": "stdout",
          "output_type": "stream",
          "text": [
            "34.3 ms ± 742 µs per loop (mean ± std. dev. of 7 runs, 10 loops each)\n"
          ]
        }
      ],
      "source": [
        "%timeit matvecmul(M,x)"
      ]
    },
    {
      "cell_type": "code",
      "execution_count": 99,
      "metadata": {
        "id": "k0lQ76szwRO8"
      },
      "outputs": [],
      "source": [
        "from numba import jit\n",
        "\n",
        "def matvecmul_lento(M,x):\n",
        "    out = np.zeros_like(x)\n",
        "    for i in range(M.shape[0]):\n",
        "        for j in range(M.shape[1]):\n",
        "            out[i] += M[i,j]*x[j]\n",
        "    return out\n",
        "\n",
        "@jit(nopython=True)\n",
        "def matvecmul(M,x):\n",
        "    out = np.zeros_like(x)\n",
        "    for i in range(M.shape[0]):\n",
        "        for j in range(M.shape[1]):\n",
        "            out[i] += M[i,j]*x[j]\n",
        "    return out"
      ]
    },
    {
      "cell_type": "code",
      "execution_count": 100,
      "metadata": {
        "id": "RIlKyxijwWEM"
      },
      "outputs": [],
      "source": [
        "matvecmul(M,x)"
      ]
    },
    {
      "cell_type": "code",
      "execution_count": 101,
      "metadata": {
        "colab": {
          "base_uri": "https://localhost:8080/"
        },
        "id": "T-WcgHJQ-38X",
        "outputId": "adab1918-b8b2-4181-b000-a4251263f933"
      },
      "outputs": [
        {
          "name": "stdout",
          "output_type": "stream",
          "text": [
            "34.8 ms ± 559 µs per loop (mean ± std. dev. of 7 runs, 10 loops each)\n"
          ]
        }
      ],
      "source": [
        "%timeit matvecmul_lento(M,x)"
      ]
    },
    {
      "cell_type": "code",
      "execution_count": 102,
      "metadata": {
        "colab": {
          "base_uri": "https://localhost:8080/"
        },
        "id": "TAbpjR63wZC7",
        "outputId": "6294bd0a-3350-446e-a15a-38cbc63b6602"
      },
      "outputs": [
        {
          "name": "stdout",
          "output_type": "stream",
          "text": [
            "657 µs ± 23.2 µs per loop (mean ± std. dev. of 7 runs, 1,000 loops each)\n"
          ]
        }
      ],
      "source": [
        "%timeit matvecmul(M,x)"
      ]
    },
    {
      "cell_type": "code",
      "execution_count": null,
      "metadata": {
        "colab": {
          "base_uri": "https://localhost:8080/"
        },
        "id": "6AX5GobjweDZ",
        "outputId": "e24250c1-23b5-4bc7-f600-50945f181b2e"
      },
      "outputs": [
        {
          "name": "stdout",
          "output_type": "stream",
          "text": [
            "8.91 µs ± 3.21 µs per loop (mean ± std. dev. of 7 runs, 100000 loops each)\n"
          ]
        }
      ],
      "source": [
        "%timeit M@x"
      ]
    },
    {
      "cell_type": "markdown",
      "metadata": {
        "id": "36ig2IzoU4sk"
      },
      "source": [
        "## Acceso"
      ]
    },
    {
      "cell_type": "markdown",
      "metadata": {
        "id": "vTPdzaLeU4sk"
      },
      "source": [
        "Los arrays en NumPy se pueden acceder a posiciones particulares o mediante slicing de maneras parecidas a las listas nativas."
      ]
    },
    {
      "cell_type": "code",
      "execution_count": 104,
      "metadata": {
        "colab": {
          "base_uri": "https://localhost:8080/"
        },
        "id": "q2EThWzAU4sk",
        "outputId": "3b6cd488-8f70-489f-8cc7-633cdbafe8fc"
      },
      "outputs": [
        {
          "data": {
            "text/plain": [
              "array([ 0,  2,  4,  6,  8, 10, 12, 14, 16, 18, 20, 22, 24, 26, 28, 30, 32,\n",
              "       34, 36, 38])"
            ]
          },
          "execution_count": 104,
          "metadata": {},
          "output_type": "execute_result"
        }
      ],
      "source": [
        "an_array = np.arange(0,40,2)\n",
        "an_array"
      ]
    },
    {
      "cell_type": "code",
      "execution_count": 105,
      "metadata": {
        "colab": {
          "base_uri": "https://localhost:8080/"
        },
        "id": "yxltsYSoU4sk",
        "outputId": "03a211a6-153e-48ea-b809-5bbcb6c21959"
      },
      "outputs": [
        {
          "data": {
            "text/plain": [
              "12"
            ]
          },
          "execution_count": 105,
          "metadata": {},
          "output_type": "execute_result"
        }
      ],
      "source": [
        "an_array[6]"
      ]
    },
    {
      "cell_type": "code",
      "execution_count": 106,
      "metadata": {
        "colab": {
          "base_uri": "https://localhost:8080/"
        },
        "id": "RXuU03q_U4sk",
        "outputId": "2390c567-25ec-4b12-d1b9-c2c1de6f754e"
      },
      "outputs": [
        {
          "data": {
            "text/plain": [
              "array([ 4,  8, 12, 16, 20, 24, 28, 32])"
            ]
          },
          "execution_count": 106,
          "metadata": {},
          "output_type": "execute_result"
        }
      ],
      "source": [
        "start = 2\n",
        "end = 18\n",
        "step = 2\n",
        "\n",
        "an_array[start:end:step]"
      ]
    },
    {
      "cell_type": "code",
      "execution_count": 107,
      "metadata": {
        "colab": {
          "base_uri": "https://localhost:8080/"
        },
        "id": "6y8TEsivU4sk",
        "outputId": "b5613a70-b631-465f-b93f-a96edb244f1e"
      },
      "outputs": [
        {
          "data": {
            "text/plain": [
              "array([ 0,  2,  4,  6,  8, 10, 12, 14, 16, 18, 20, 22, 24, 26, 28, 30, 32,\n",
              "       34])"
            ]
          },
          "execution_count": 107,
          "metadata": {},
          "output_type": "execute_result"
        }
      ],
      "source": [
        "# Son equivalentes\n",
        "#an_array[0:end:]\n",
        "#an_array[:end:]\n",
        "an_array[:end]"
      ]
    },
    {
      "cell_type": "code",
      "execution_count": 108,
      "metadata": {
        "colab": {
          "base_uri": "https://localhost:8080/"
        },
        "id": "HSfX35TfU4sk",
        "outputId": "c2c870be-d026-42f8-a211-3143c96484fb"
      },
      "outputs": [
        {
          "data": {
            "text/plain": [
              "array([ 0,  2,  4,  6,  8, 10, 12, 14, 16, 18, 20, 22, 24, 26, 28, 30, 32,\n",
              "       34, 36])"
            ]
          },
          "execution_count": 108,
          "metadata": {},
          "output_type": "execute_result"
        }
      ],
      "source": [
        "an_array[:-1]  # la ultima posicion, la descartamos, ya que end es exclusivo"
      ]
    },
    {
      "cell_type": "code",
      "execution_count": null,
      "metadata": {
        "colab": {
          "base_uri": "https://localhost:8080/"
        },
        "id": "x1Ye-oiPU4sl",
        "outputId": "1e53c3f1-5daf-45b9-e78f-511348dc2463"
      },
      "outputs": [
        {
          "data": {
            "text/plain": [
              "array([ 0,  2,  4,  6,  8, 10, 12, 14, 16, 18, 20, 22, 24, 26, 28, 30, 32,\n",
              "       34, 36, 38])"
            ]
          },
          "execution_count": 98,
          "metadata": {},
          "output_type": "execute_result"
        }
      ],
      "source": [
        "an_array[::] # no cambia nada"
      ]
    },
    {
      "cell_type": "code",
      "execution_count": null,
      "metadata": {
        "colab": {
          "base_uri": "https://localhost:8080/"
        },
        "id": "1zzPz4kHU4sl",
        "outputId": "02cdf440-4b5f-4960-fb1f-a4c133f15a84"
      },
      "outputs": [
        {
          "data": {
            "text/plain": [
              "array([38, 36, 34, 32, 30, 28, 26, 24, 22, 20, 18, 16, 14, 12, 10,  8,  6,\n",
              "        4,  2,  0])"
            ]
          },
          "execution_count": 99,
          "metadata": {},
          "output_type": "execute_result"
        }
      ],
      "source": [
        "an_array[::-1] # invertimos"
      ]
    },
    {
      "cell_type": "code",
      "execution_count": null,
      "metadata": {
        "colab": {
          "base_uri": "https://localhost:8080/"
        },
        "id": "vX5OYJwvU4sl",
        "outputId": "e9f498a9-dc6a-4ee3-fdbb-b1369a74a9d7"
      },
      "outputs": [
        {
          "name": "stdout",
          "output_type": "stream",
          "text": [
            "0\n",
            "2\n",
            "4\n",
            "6\n",
            "8\n"
          ]
        }
      ],
      "source": [
        "for element in an_array[:5]: # muy pytonico\n",
        "    print(element)"
      ]
    },
    {
      "cell_type": "code",
      "execution_count": null,
      "metadata": {
        "colab": {
          "base_uri": "https://localhost:8080/"
        },
        "id": "QQdKq34QU4sl",
        "outputId": "ac8c5996-38ce-4ca7-c465-cb660765e3b1"
      },
      "outputs": [
        {
          "data": {
            "text/plain": [
              "array([[ 0,  1,  2,  3],\n",
              "       [ 4,  5,  6,  7],\n",
              "       [ 8,  9, 10, 11],\n",
              "       [12, 13, 14, 15]])"
            ]
          },
          "execution_count": 101,
          "metadata": {},
          "output_type": "execute_result"
        }
      ],
      "source": [
        "a_matrix = np.arange(16).reshape((4,4))\n",
        "a_matrix"
      ]
    },
    {
      "cell_type": "code",
      "execution_count": 111,
      "metadata": {
        "colab": {
          "base_uri": "https://localhost:8080/"
        },
        "id": "kb2VT3sTU4sl",
        "outputId": "6dcf9fcf-5013-4941-817f-4d3fc363d2bd"
      },
      "outputs": [
        {
          "data": {
            "text/plain": [
              "array([ 2,  6, 10, 14])"
            ]
          },
          "execution_count": 111,
          "metadata": {},
          "output_type": "execute_result"
        }
      ],
      "source": [
        "a_matrix[:, 2] # en matrices, podemos usar [:::, :::] un set para cada dimension\n",
        "\n",
        "# tomamos todas las rows, pero de cada row, solo la 2da col (index 0)\n",
        "# esto devuelve un array de dim 1. Shape (n, )"
      ]
    },
    {
      "cell_type": "code",
      "execution_count": 116,
      "metadata": {
        "colab": {
          "base_uri": "https://localhost:8080/"
        },
        "id": "UaiH5sWNU4sl",
        "outputId": "f1eb4016-2f85-4b77-9cdd-c3e3db916f1b"
      },
      "outputs": [
        {
          "data": {
            "text/plain": [
              "array([[ 2,  3],\n",
              "       [ 6,  7],\n",
              "       [10, 11],\n",
              "       [14, 15]])"
            ]
          },
          "execution_count": 116,
          "metadata": {},
          "output_type": "execute_result"
        }
      ],
      "source": [
        "a_matrix[:, 2:4]\n",
        "# aca tomamos todas las rows, pero de cada row, solo el rango de columnas [0, 4)"
      ]
    },
    {
      "cell_type": "code",
      "execution_count": 118,
      "metadata": {
        "colab": {
          "base_uri": "https://localhost:8080/"
        },
        "id": "FgrP1CgMU4sl",
        "outputId": "7dfee092-2400-42ad-8967-829d294823ae"
      },
      "outputs": [
        {
          "data": {
            "text/plain": [
              "array([12, 13, 14, 15])"
            ]
          },
          "execution_count": 118,
          "metadata": {},
          "output_type": "execute_result"
        }
      ],
      "source": [
        "a_matrix[-1, :]\n",
        "\n",
        "# la ultima row, todas las columnas"
      ]
    },
    {
      "cell_type": "code",
      "execution_count": null,
      "metadata": {
        "colab": {
          "base_uri": "https://localhost:8080/"
        },
        "id": "AwjWFp7VU4sl",
        "outputId": "79fc39dd-a4c6-4710-b875-633a9363c955"
      },
      "outputs": [
        {
          "name": "stdout",
          "output_type": "stream",
          "text": [
            "[0 1 2 3]\n",
            "[4 5 6 7]\n",
            "[ 8  9 10 11]\n",
            "[12 13 14 15]\n"
          ]
        }
      ],
      "source": [
        "for row in a_matrix:\n",
        "    print(row)"
      ]
    },
    {
      "cell_type": "code",
      "execution_count": null,
      "metadata": {
        "colab": {
          "base_uri": "https://localhost:8080/"
        },
        "id": "fUvNvhKRecIR",
        "outputId": "d8c792d9-48dd-4485-ec03-883efe9d2b22"
      },
      "outputs": [
        {
          "data": {
            "text/plain": [
              "array([[ 6,  7],\n",
              "       [10, 11]])"
            ]
          },
          "execution_count": 106,
          "metadata": {},
          "output_type": "execute_result"
        }
      ],
      "source": [
        "a_matrix[1:3, 2:4]"
      ]
    },
    {
      "cell_type": "markdown",
      "metadata": {
        "id": "yF0Ejzemz39I"
      },
      "source": [
        "## Máscaras\n",
        "\n",
        "Es posible seleecionar elementos de un arreglo con otro arreglo de booleanos"
      ]
    },
    {
      "cell_type": "code",
      "execution_count": null,
      "metadata": {
        "colab": {
          "base_uri": "https://localhost:8080/"
        },
        "id": "OCWHROmU089z",
        "outputId": "2147596d-cff2-40bb-e8dd-e2d9b8e4ef12"
      },
      "outputs": [
        {
          "data": {
            "text/plain": [
              "array([1, 2])"
            ]
          },
          "execution_count": 107,
          "metadata": {},
          "output_type": "execute_result"
        }
      ],
      "source": [
        "an_array = np.arange(4)\n",
        "mask = np.array([False,True,True,False])\n",
        "an_array[mask]"
      ]
    },
    {
      "cell_type": "markdown",
      "metadata": {
        "id": "1FN1XZVX1OUt"
      },
      "source": [
        "Las operaciones con máscaras son más rápidas que operar elemento a elemento con condiciones"
      ]
    },
    {
      "cell_type": "code",
      "execution_count": null,
      "metadata": {
        "colab": {
          "base_uri": "https://localhost:8080/"
        },
        "id": "l5WLTWfzz5_0",
        "outputId": "3fa06d28-6151-42e1-ae81-3c2e1f0f1a4f"
      },
      "outputs": [
        {
          "data": {
            "text/plain": [
              "array([ 0,  1,  2,  3,  4,  5,  6,  7,  8,  9, 10, 11, 12, 13, 14, 15, 16,\n",
              "       17, 18, 19, 20, 21, 22, 23, 24, 25, 26, 27, 28, 29, 30, 31, 32, 33,\n",
              "       34, 35, 36, 37, 38, 39, 40, 41, 42, 43, 44, 45, 46, 47, 48, 49, 50,\n",
              "       51, 52, 53, 54, 55, 56, 57, 58, 59, 60, 61, 62, 63, 64, 65, 66, 67,\n",
              "       68, 69, 70, 71, 72, 73, 74, 75, 76, 77, 78, 79, 80, 81, 82, 83, 84,\n",
              "       85, 86, 87, 88, 89, 90, 91, 92, 93, 94, 95, 96, 97, 98, 99])"
            ]
          },
          "execution_count": 108,
          "metadata": {},
          "output_type": "execute_result"
        }
      ],
      "source": [
        "an_array = np.arange(100)\n",
        "an_array"
      ]
    },
    {
      "cell_type": "code",
      "execution_count": null,
      "metadata": {
        "colab": {
          "base_uri": "https://localhost:8080/"
        },
        "id": "8C9Z5Uh50Zy5",
        "outputId": "46350ba7-e560-4222-a31b-641c42572499"
      },
      "outputs": [
        {
          "data": {
            "text/plain": [
              "array([51, 52, 53, 54, 55, 56, 57, 58, 59, 60, 61, 62, 63, 64, 65, 66, 67,\n",
              "       68, 69, 70, 71, 72, 73, 74, 75, 76, 77, 78, 79, 80, 81, 82, 83, 84,\n",
              "       85, 86, 87, 88, 89, 90, 91, 92, 93, 94, 95, 96, 97, 98, 99])"
            ]
          },
          "execution_count": 109,
          "metadata": {},
          "output_type": "execute_result"
        }
      ],
      "source": [
        "np.array([x for x in an_array if x>50])\n"
      ]
    },
    {
      "cell_type": "code",
      "execution_count": null,
      "metadata": {
        "colab": {
          "base_uri": "https://localhost:8080/"
        },
        "id": "BlnIbkeXz9Ze",
        "outputId": "90975462-ce54-413c-cf56-6ede68e61bfe"
      },
      "outputs": [
        {
          "data": {
            "text/plain": [
              "array([51, 52, 53, 54, 55, 56, 57, 58, 59, 60, 61, 62, 63, 64, 65, 66, 67,\n",
              "       68, 69, 70, 71, 72, 73, 74, 75, 76, 77, 78, 79, 80, 81, 82, 83, 84,\n",
              "       85, 86, 87, 88, 89, 90, 91, 92, 93, 94, 95, 96, 97, 98, 99])"
            ]
          },
          "execution_count": 110,
          "metadata": {},
          "output_type": "execute_result"
        }
      ],
      "source": [
        "an_array[an_array>50] # an_arrya>50 es una mascara, osea hacemos an_array[mask]"
      ]
    },
    {
      "cell_type": "code",
      "execution_count": 119,
      "metadata": {
        "colab": {
          "base_uri": "https://localhost:8080/"
        },
        "id": "RMzoSdWW0EMh",
        "outputId": "3d89260e-e13a-4dfa-e3f1-4bab078353e8"
      },
      "outputs": [
        {
          "name": "stdout",
          "output_type": "stream",
          "text": [
            "3.12 µs ± 142 ns per loop (mean ± std. dev. of 7 runs, 100,000 loops each)\n"
          ]
        }
      ],
      "source": [
        "%timeit np.array([x for x in an_array if x>50])"
      ]
    },
    {
      "cell_type": "code",
      "execution_count": 120,
      "metadata": {
        "colab": {
          "base_uri": "https://localhost:8080/"
        },
        "id": "8XK_HfVo0BG_",
        "outputId": "49d9da76-a23d-472a-9348-d63d35dd530e"
      },
      "outputs": [
        {
          "name": "stdout",
          "output_type": "stream",
          "text": [
            "1.49 µs ± 6.22 ns per loop (mean ± std. dev. of 7 runs, 1,000,000 loops each)\n"
          ]
        }
      ],
      "source": [
        "%timeit an_array[an_array>50]"
      ]
    },
    {
      "cell_type": "markdown",
      "metadata": {
        "id": "IxY0gwMbU4sm"
      },
      "source": [
        "## Tipos de asignación"
      ]
    },
    {
      "cell_type": "markdown",
      "metadata": {
        "id": "dQf-TooVU4sm"
      },
      "source": [
        "### Referencia"
      ]
    },
    {
      "cell_type": "code",
      "execution_count": 121,
      "metadata": {
        "colab": {
          "base_uri": "https://localhost:8080/"
        },
        "id": "6qJfUkAmU4sm",
        "outputId": "2c1910c1-4fef-4d54-cdae-db4ca3b6f17c"
      },
      "outputs": [
        {
          "data": {
            "text/plain": [
              "array([0, 1, 2, 3, 4, 5, 6, 7, 8, 9])"
            ]
          },
          "execution_count": 121,
          "metadata": {},
          "output_type": "execute_result"
        }
      ],
      "source": [
        "an_array = np.arange(10)\n",
        "an_array"
      ]
    },
    {
      "cell_type": "code",
      "execution_count": 122,
      "metadata": {
        "id": "urvep9JKU4sn"
      },
      "outputs": [],
      "source": [
        "another_array = an_array"
      ]
    },
    {
      "cell_type": "code",
      "execution_count": 123,
      "metadata": {
        "colab": {
          "base_uri": "https://localhost:8080/"
        },
        "id": "jfRToKcbU4sn",
        "outputId": "c1cae577-f931-407d-b6e8-b324b05bdc4d"
      },
      "outputs": [
        {
          "data": {
            "text/plain": [
              "array([0, 1, 2, 8, 4, 5, 6, 7, 8, 9])"
            ]
          },
          "execution_count": 123,
          "metadata": {},
          "output_type": "execute_result"
        }
      ],
      "source": [
        "another_array[3] = 8\n",
        "an_array"
      ]
    },
    {
      "cell_type": "markdown",
      "metadata": {
        "id": "V9cu9HB8U4sn"
      },
      "source": [
        "### Vista"
      ]
    },
    {
      "cell_type": "code",
      "execution_count": null,
      "metadata": {
        "colab": {
          "base_uri": "https://localhost:8080/"
        },
        "id": "yGrziPStU4sn",
        "outputId": "6cafab36-d5bf-4feb-9739-4ae23c8b6206"
      },
      "outputs": [
        {
          "data": {
            "text/plain": [
              "array([0, 1, 2, 3, 4, 5, 6, 7, 8, 9])"
            ]
          },
          "execution_count": 116,
          "metadata": {},
          "output_type": "execute_result"
        }
      ],
      "source": [
        "an_array = np.arange(10)\n",
        "an_array"
      ]
    },
    {
      "cell_type": "code",
      "execution_count": null,
      "metadata": {
        "id": "ooymuYYIU4so"
      },
      "outputs": [],
      "source": [
        "another_array = an_array.view()"
      ]
    },
    {
      "cell_type": "code",
      "execution_count": 124,
      "metadata": {
        "colab": {
          "base_uri": "https://localhost:8080/"
        },
        "id": "3I5DxIdrU4so",
        "outputId": "a1c912e2-1d93-49aa-d843-9df4128593df"
      },
      "outputs": [
        {
          "data": {
            "text/plain": [
              "array([[0, 1],\n",
              "       [2, 8],\n",
              "       [4, 5],\n",
              "       [6, 7],\n",
              "       [8, 9]])"
            ]
          },
          "execution_count": 124,
          "metadata": {},
          "output_type": "execute_result"
        }
      ],
      "source": [
        "another_array = another_array.reshape((5,2))\n",
        "another_array"
      ]
    },
    {
      "cell_type": "code",
      "execution_count": 125,
      "metadata": {
        "id": "M_suFG40U4so"
      },
      "outputs": [],
      "source": [
        "an_array[3] = 8"
      ]
    },
    {
      "cell_type": "code",
      "execution_count": 126,
      "metadata": {
        "colab": {
          "base_uri": "https://localhost:8080/"
        },
        "id": "hKoyH3WbU4so",
        "outputId": "0fe82a09-0e88-4847-96c7-ad39d467b9e0"
      },
      "outputs": [
        {
          "data": {
            "text/plain": [
              "array([[0, 1],\n",
              "       [2, 8],\n",
              "       [4, 5],\n",
              "       [6, 7],\n",
              "       [8, 9]])"
            ]
          },
          "execution_count": 126,
          "metadata": {},
          "output_type": "execute_result"
        }
      ],
      "source": [
        "another_array"
      ]
    },
    {
      "cell_type": "markdown",
      "metadata": {
        "id": "SjMWGnttU4so"
      },
      "source": [
        "### Copia\n"
      ]
    },
    {
      "cell_type": "code",
      "execution_count": null,
      "metadata": {
        "id": "A40b8ZA8U4so"
      },
      "outputs": [],
      "source": [
        "another_array = np.arange(10)"
      ]
    },
    {
      "cell_type": "code",
      "execution_count": null,
      "metadata": {
        "id": "nyhvyRYlU4sp"
      },
      "outputs": [],
      "source": [
        "an_array = another_array.copy()"
      ]
    },
    {
      "cell_type": "code",
      "execution_count": null,
      "metadata": {
        "id": "-btcd1wOU4sp"
      },
      "outputs": [],
      "source": [
        "an_array[3] = 8"
      ]
    },
    {
      "cell_type": "code",
      "execution_count": null,
      "metadata": {
        "colab": {
          "base_uri": "https://localhost:8080/"
        },
        "id": "euZ30kdaU4sp",
        "outputId": "2cac5eba-478c-4ffb-9b9c-54f0cdb94130"
      },
      "outputs": [
        {
          "data": {
            "text/plain": [
              "(array([0, 1, 2, 8, 4, 5, 6, 7, 8, 9]), array([0, 1, 2, 3, 4, 5, 6, 7, 8, 9]))"
            ]
          },
          "execution_count": 124,
          "metadata": {},
          "output_type": "execute_result"
        }
      ],
      "source": [
        "an_array, another_array"
      ]
    },
    {
      "cell_type": "markdown",
      "metadata": {
        "id": "EyIFsP5HHF1C"
      },
      "source": [
        "## Operaciones matemáticas"
      ]
    },
    {
      "cell_type": "code",
      "execution_count": null,
      "metadata": {
        "colab": {
          "base_uri": "https://localhost:8080/"
        },
        "id": "RDFFC5WxHR_f",
        "outputId": "05773444-dfb9-481d-b524-18b708d5f10a"
      },
      "outputs": [
        {
          "data": {
            "text/plain": [
              "499500"
            ]
          },
          "execution_count": 125,
          "metadata": {},
          "output_type": "execute_result"
        }
      ],
      "source": [
        "np.sum(np.arange(1000)) # suma un arreglo"
      ]
    },
    {
      "cell_type": "code",
      "execution_count": 127,
      "metadata": {
        "colab": {
          "base_uri": "https://localhost:8080/"
        },
        "id": "DENTJZcJHU05",
        "outputId": "ff871dca-8285-4c8d-82f0-66adb4564e9e"
      },
      "outputs": [
        {
          "name": "stdout",
          "output_type": "stream",
          "text": [
            "[[ 0  1  2  3]\n",
            " [ 4  5  6  7]\n",
            " [ 8  9 10 11]\n",
            " [12 13 14 15]]\n",
            "\n",
            "[24 28 32 36]\n"
          ]
        }
      ],
      "source": [
        "arr = np.arange(16).reshape(4,4,)\n",
        "print(arr)\n",
        "print()\n",
        "\n",
        "res = np.sum(arr,0) #  de un arreglo 2d, suma solo un eje, el 0, el primero (suma las columnas)\n",
        "print(res)"
      ]
    },
    {
      "cell_type": "code",
      "execution_count": null,
      "metadata": {
        "colab": {
          "base_uri": "https://localhost:8080/"
        },
        "id": "rOpJ-ag2HkR3",
        "outputId": "41302707-03da-47eb-b882-085a015ba6ab"
      },
      "outputs": [
        {
          "data": {
            "text/plain": [
              "array([1, 1, 1, 1, 1, 1, 1, 1, 1])"
            ]
          },
          "execution_count": 127,
          "metadata": {},
          "output_type": "execute_result"
        }
      ],
      "source": [
        "np.diff(np.arange(10)) # resta elementos consecutivos"
      ]
    },
    {
      "cell_type": "code",
      "execution_count": null,
      "metadata": {
        "colab": {
          "base_uri": "https://localhost:8080/"
        },
        "id": "Qg77ayKuHrzm",
        "outputId": "7abf4c9a-bdf7-4e2b-edb6-e0dd92a4f898"
      },
      "outputs": [
        {
          "data": {
            "text/plain": [
              "array([ 0,  1,  3,  6, 10, 15, 21, 28, 36, 45])"
            ]
          },
          "execution_count": 128,
          "metadata": {},
          "output_type": "execute_result"
        }
      ],
      "source": [
        "np.cumsum(np.arange(10)) # suma acumulada"
      ]
    },
    {
      "cell_type": "markdown",
      "metadata": {
        "id": "iof8f9p5gAcL"
      },
      "source": [
        "## Álgebra Lineal\n",
        "\n",
        "Numpy utiliza BLAS y LAPACK para las operaciones de álgebra lineal\n",
        "\n",
        "https://numpy.org/doc/stable/reference/routines.linalg.html#module-numpy.linalg\n",
        "\n",
        "Descomposiciones, autovalores, normas, determinante, rango, sistemas de ecuaciones, inversa"
      ]
    },
    {
      "cell_type": "code",
      "execution_count": 128,
      "metadata": {
        "id": "1B4nlEbKTD8Z"
      },
      "outputs": [],
      "source": [
        "import numpy.linalg as lng"
      ]
    },
    {
      "cell_type": "code",
      "execution_count": 135,
      "metadata": {
        "colab": {
          "base_uri": "https://localhost:8080/"
        },
        "id": "zrE773G_gFoJ",
        "outputId": "fb96f6c2-b2ec-47d3-cedc-7908feccd41a"
      },
      "outputs": [
        {
          "data": {
            "text/plain": [
              "array([[7, 7, 9],\n",
              "       [2, 6, 2],\n",
              "       [9, 4, 3]])"
            ]
          },
          "execution_count": 135,
          "metadata": {},
          "output_type": "execute_result"
        }
      ],
      "source": [
        "A = np.random.randint(1,10,(3,3))\n",
        "A"
      ]
    },
    {
      "cell_type": "code",
      "execution_count": 136,
      "metadata": {
        "colab": {
          "base_uri": "https://localhost:8080/"
        },
        "id": "5twKNrC4gE1U",
        "outputId": "fad5d84c-bcea-4806-832d-fba4c4520de6"
      },
      "outputs": [
        {
          "data": {
            "text/plain": [
              "array([[-0.03846154, -0.05769231,  0.15384615],\n",
              "       [-0.04615385,  0.23076923, -0.01538462],\n",
              "       [ 0.17692308, -0.13461538, -0.10769231]])"
            ]
          },
          "execution_count": 136,
          "metadata": {},
          "output_type": "execute_result"
        }
      ],
      "source": [
        "lng.inv(A)  # Inversa"
      ]
    },
    {
      "cell_type": "markdown",
      "metadata": {
        "id": "mgYZpsWownP0"
      },
      "source": [
        "## Resolver sistemas de ecuaciones"
      ]
    },
    {
      "cell_type": "code",
      "execution_count": null,
      "metadata": {
        "colab": {
          "base_uri": "https://localhost:8080/"
        },
        "id": "Nb6bTtiIwmpH",
        "outputId": "051b0111-0249-432e-ba5f-8314505dbbb5"
      },
      "outputs": [
        {
          "data": {
            "text/plain": [
              "(array([[ 1, -7, -8,  3, -1],\n",
              "        [-4, -4, -5,  7, -3],\n",
              "        [-5, -5, -6,  3,  5],\n",
              "        [-8, -4, -8, -7, -5],\n",
              "        [-4,  1,  5, -5,  2]]),\n",
              " array([[ 8],\n",
              "        [-7],\n",
              "        [-6],\n",
              "        [-6],\n",
              "        [ 4]]),\n",
              " array([[ 83],\n",
              "        [-28],\n",
              "        [ 33],\n",
              "        [ 34],\n",
              "        [-31]]))"
            ]
          },
          "execution_count": 132,
          "metadata": {},
          "output_type": "execute_result"
        }
      ],
      "source": [
        "A = np.random.randint(-9,10,(5,5))\n",
        "x = np.random.randint(-9,10,(5,1))\n",
        "b = A@x\n",
        "A, x, b"
      ]
    },
    {
      "cell_type": "code",
      "execution_count": null,
      "metadata": {
        "colab": {
          "base_uri": "https://localhost:8080/"
        },
        "id": "uQ2kt-3mw04b",
        "outputId": "bb757648-a5c5-430d-c814-0381f46035e3"
      },
      "outputs": [
        {
          "name": "stdout",
          "output_type": "stream",
          "text": [
            "[[ 8.]\n",
            " [-7.]\n",
            " [-6.]\n",
            " [-6.]\n",
            " [ 4.]]\n"
          ]
        },
        {
          "data": {
            "text/plain": [
              "True"
            ]
          },
          "execution_count": 133,
          "metadata": {},
          "output_type": "execute_result"
        }
      ],
      "source": [
        "x_solve = lng.solve(A,b)\n",
        "print(x_solve)\n",
        "np.allclose(x,x_solve)"
      ]
    },
    {
      "cell_type": "markdown",
      "metadata": {
        "id": "Dr5xCGZwhL6s"
      },
      "source": [
        "## Ejercicios"
      ]
    },
    {
      "cell_type": "markdown",
      "metadata": {
        "id": "GXeH49ml9yCD"
      },
      "source": [
        "### Ejercicio 1\n",
        "\n",
        "Guarde en una lista todos los numeros menores a 100 que sean pares, por un lado con un for y por otro construyendo un arreglo de numpy con un método apropiado en una linea"
      ]
    },
    {
      "cell_type": "code",
      "execution_count": 139,
      "metadata": {
        "id": "2-UZPgqX9oUp"
      },
      "outputs": [
        {
          "name": "stdout",
          "output_type": "stream",
          "text": [
            "[ 0  2  4  6  8 10 12 14 16 18 20 22 24 26 28 30 32 34 36 38 40 42 44 46\n",
            " 48 50 52 54 56 58 60 62 64 66 68 70 72 74 76 78 80 82 84 86 88 90 92 94\n",
            " 96 98]\n"
          ]
        }
      ],
      "source": [
        "numeros_pares_menores_a_100 = []\n",
        "for i in range(100):\n",
        "    if i%2 == 0:\n",
        "        numeros_pares_menores_a_100.append(i)\n",
        "\n",
        "numeros_pares_menores_a_100 = np.array([x for x in np.arange(100) if x%2 == 0])\n",
        "print(numeros_pares_menores_a_100)\n",
        "                                      "
      ]
    },
    {
      "cell_type": "markdown",
      "metadata": {
        "id": "-z42wGNTG0bv"
      },
      "source": [
        "### Ejercicio 2\n",
        "\n",
        "Dada una secuencia aleatoria de valores False y True, contar cuantas transiciones False->True hay. Hacerlo con puro python y puro numpy."
      ]
    },
    {
      "cell_type": "code",
      "execution_count": 231,
      "metadata": {
        "id": "-v7AdYkKG2TN"
      },
      "outputs": [
        {
          "name": "stdout",
          "output_type": "stream",
          "text": [
            "246 246\n"
          ]
        }
      ],
      "source": [
        "secuencia = list(np.random.choice([False, True], size=1000))\n",
        "\n",
        "# con python normal\n",
        "def f(lista):\n",
        "    res = 0\n",
        "    for i in range(len(lista)-1):\n",
        "        res += (1 if not lista[i] and lista[i+1] else 0)\n",
        "    return res\n",
        "\n",
        "# con numpy puro \n",
        "def f2(lista):\n",
        "    shifted = np.roll(lista, -1)\n",
        "    negated = np.logical_not(lista)\n",
        "    res = np.sum(np.logical_and(shifted[:-1], negated[:-1])) # el ultimo elemento no lo quiero, por el shift\n",
        "    return res\n",
        "\n",
        "res1 = f(secuencia)\n",
        "res2 = f2(secuencia)\n",
        "\n",
        "print(res1, res2)\n",
        "\n",
        "# secuencia_np = np.array[]\n",
        "\n"
      ]
    },
    {
      "cell_type": "markdown",
      "metadata": {
        "id": "Q0iTLQrsAtT5"
      },
      "source": [
        "### Ejercicio 3\n",
        "\n",
        "Un número palíndromo se lee del derecho y el reves de la misma forma. El palíndromo hecho por el producto de dos numeros de dos digitos mas grande es 9009 pues es producto de $91*99$ (https://projecteuler.net/problem=4)\n",
        "\n",
        "Escriba un código para crear el palindromo más grande hecho por el producto de 2 numeros de 3 digitos. Hacerlo usando puro python y puro numpy."
      ]
    },
    {
      "cell_type": "code",
      "execution_count": 267,
      "metadata": {},
      "outputs": [
        {
          "name": "stdout",
          "output_type": "stream",
          "text": [
            "906609\n"
          ]
        }
      ],
      "source": [
        "def esPalindromo(num):\n",
        "    original = num\n",
        "    reversed = 0\n",
        "    while num !=0:\n",
        "        reversed *= 10      # es importante que esto este primero, sino, multplicariamos x10 de mas en la ultima iteracion\n",
        "        reversed += num%10\n",
        "        num = num//10\n",
        "    return reversed == original\n",
        "\n",
        "def maxPal_py():  # res:   906609\n",
        "    res = 0\n",
        "    for x in range(100,1000):\n",
        "        for y in range(100,1000):\n",
        "            prod = x*y\n",
        "            if(prod > res and esPalindromo(prod)): res = prod\n",
        "    return res\n",
        "\n",
        "def maxPal_np():  # res:   906609\n",
        "    res = 0\n",
        "    for i in range(100, 1000):\n",
        "        arr = np.arange(100, 1000) * i\n",
        "        vectorized_esPal = np.vectorize(esPalindromo)\n",
        "        mask = vectorized_esPal(arr)\n",
        "        maskedArr = arr[mask]\n",
        "        temp = 0 if len(maskedArr) == 0 else np.max(maskedArr)\n",
        "        res = max(temp, res)\n",
        "    return res\n",
        "\n",
        "\n"
      ]
    },
    {
      "cell_type": "code",
      "execution_count": 268,
      "metadata": {},
      "outputs": [
        {
          "name": "stdout",
          "output_type": "stream",
          "text": [
            "9.95 ns ± 0.188 ns per loop (mean ± std. dev. of 7 runs, 100,000,000 loops each)\n"
          ]
        }
      ],
      "source": [
        "%timeit maxPal_py"
      ]
    },
    {
      "cell_type": "code",
      "execution_count": 269,
      "metadata": {},
      "outputs": [
        {
          "name": "stdout",
          "output_type": "stream",
          "text": [
            "9.8 ns ± 0.148 ns per loop (mean ± std. dev. of 7 runs, 100,000,000 loops each)\n"
          ]
        }
      ],
      "source": [
        "%timeit maxPal_np"
      ]
    },
    {
      "cell_type": "markdown",
      "metadata": {
        "id": "QVUTp1p5TD8h"
      },
      "source": [
        "### Ejercicio 4\n",
        "Dados x<sub>1</sub>, ..., x<sub>n</sub> una muestra de una variable aleatoria, implementar rutinas que calculen la media y la varianza utilizando operaciones vectoriales."
      ]
    },
    {
      "cell_type": "code",
      "execution_count": null,
      "metadata": {
        "id": "yVQ4x0n6TD8i"
      },
      "outputs": [],
      "source": [
        "def mean(x):\n",
        "    # COMPLETAR\n",
        "\n",
        "def var(x):\n",
        "    # COMPLETAR\n"
      ]
    },
    {
      "cell_type": "code",
      "execution_count": null,
      "metadata": {
        "id": "LNp-QBDbTD8i"
      },
      "outputs": [],
      "source": [
        "N = 4\n",
        "x = np.array(np.random.rand(N,1))\n",
        "print(\"x:\" + str(x) + \"\\n media: \" + str(mean(x)) + \" varianza: \" + str(var(x)))\n",
        "assert(np.abs(mean(x) - np.mean(x)) < 1e-6 )\n",
        "assert(np.abs(var(x) - np.var(x)) < 1e-6 )\n",
        "print(\"OK\")"
      ]
    },
    {
      "cell_type": "markdown",
      "metadata": {
        "id": "suiYkqslTD8j"
      },
      "source": [
        "### Ejercicio 5\n",
        "Sea A matriz en R<sup>m×n</sup><br>\n",
        "1. Demostrar que A<sup>t</sup> A y AA<sup>t</sup> son simétricas<br>\n",
        "2. Implementar una rutina que dada una matriz cuadrada verifique si la misma es simétrica"
      ]
    },
    {
      "cell_type": "code",
      "execution_count": 274,
      "metadata": {
        "id": "7g8NnHs7TD8k"
      },
      "outputs": [],
      "source": [
        "def esSimetrica(A):\n",
        "    return np.all(A == A.T)  # (A == A.T) es un array de bools, que dice si todas las rows coinciden, el .all es para ver si el array es todo trues\n",
        "\n",
        "\n",
        "\n",
        "            \n",
        "            \n",
        "\n"
      ]
    },
    {
      "cell_type": "code",
      "execution_count": 275,
      "metadata": {
        "id": "KitvOWAUTD8k"
      },
      "outputs": [
        {
          "name": "stdout",
          "output_type": "stream",
          "text": [
            "A: \n",
            "[[1 2]\n",
            " [2 6]\n",
            " [3 7]\n",
            " [4 8]]\n",
            "B: \n",
            "[[0.42933476 0.94980792 0.32470963 0.17984967]\n",
            " [0.4341894  0.70875301 0.99025317 0.55322465]\n",
            " [0.48719318 0.62976745 0.47915314 0.50375152]\n",
            " [0.994767   0.75476229 0.98595877 0.03451172]]\n",
            "OK\n"
          ]
        }
      ],
      "source": [
        "A = np.array([[1,2],[2,6],[3,7],[4,8]])\n",
        "B = np.random.rand(4,4)\n",
        "\n",
        "print(\"A: \\n\"  + str(A))\n",
        "print(\"B: \\n\" + str(B))\n",
        "assert(esSimetrica(A @ A.T))\n",
        "assert(esSimetrica(B.T @ B))\n",
        "print(\"OK\")"
      ]
    },
    {
      "cell_type": "markdown",
      "metadata": {
        "id": "_5P6-hE6TD8l"
      },
      "source": [
        "### Ejercicio 6\n",
        "\n",
        "Analizar la función implementada en el item anterior con la matriz B generada de la siguiente forma:\n",
        "\n",
        "```\n",
        "A = np.random.rand(4,4)\n",
        "B = A.T * A * 0.1 / 0.1\n",
        "```\n",
        "\n",
        "Analizar el resultado, revisar la implementación y (eventualmente) reimplementar la función."
      ]
    },
    {
      "cell_type": "code",
      "execution_count": 288,
      "metadata": {
        "id": "oNRi_SROTD8l"
      },
      "outputs": [
        {
          "name": "stdout",
          "output_type": "stream",
          "text": [
            "[[0.67188978 0.82422882 0.07890531 0.49655938]\n",
            " [0.43889102 0.37205248 0.00820362 0.10293165]\n",
            " [0.9118614  0.51641502 0.8792697  0.53763705]\n",
            " [0.75480493 0.91112084 0.71256257 0.06814137]]\n",
            "Ok\n"
          ]
        }
      ],
      "source": [
        "D = np.array(np.diag([1,2]))\n",
        "I = np.array(np.eye(5))\n",
        "A = np.random.rand(4,4)\n",
        "\n",
        "print(A)\n",
        "assert(not(esSimetrica(A)))\n",
        "\n",
        "# Ojo! usamos @ para el producto matricial\n",
        "assert(esSimetrica(A.T@(A*0.10)/0.10))\n",
        "assert(esSimetrica(D) and esSimetrica(I))\n",
        "print(\"Ok\")"
      ]
    },
    {
      "cell_type": "markdown",
      "metadata": {
        "id": "64dXwIUhTD8m"
      },
      "source": [
        "### Ejercicio 7\n",
        "Sean A, B en R<sup>n×n</sup>, con n par y B triangular inferior,\n",
        "1. Realizar la multiplicación AB por bloques, partiendo ambas matrices en bloques de tamaño n/2.\n",
        "2. Implementar una rutina que realice la multiplicación por bloques, **evitando cuentas innecesarias**."
      ]
    },
    {
      "cell_type": "code",
      "execution_count": null,
      "metadata": {
        "id": "NwB3WSz8TD8m"
      },
      "outputs": [],
      "source": [
        "A = np.array(np.random.rand(N,N))\n",
        "n = A.shape[0]\n",
        "A, A[n//2:,n//2:]"
      ]
    },
    {
      "cell_type": "code",
      "execution_count": null,
      "metadata": {
        "id": "p5WlSHCnTD8m"
      },
      "outputs": [],
      "source": [
        "def block_multiplication(A,B):\n",
        "\n",
        "    n = A.shape[0]\n",
        "    assert(n % 2 == 0)\n",
        "\n",
        "    # Completar\n",
        "    A11 = None\n",
        "    A12 = None\n",
        "    A21 = None\n",
        "    A22 = None\n",
        "\n",
        "    B11 = None\n",
        "    B12 = None\n",
        "    B21 = None\n",
        "    B22 = None\n",
        "\n",
        "    C_11 = None\n",
        "    C_12 = None\n",
        "    C_21 = None\n",
        "    C_22 = None\n",
        "\n",
        "    return np.block([[C_11,C_12],[C_21,C_22]])\n"
      ]
    },
    {
      "cell_type": "code",
      "execution_count": null,
      "metadata": {
        "id": "DTCVtP4pTD8n"
      },
      "outputs": [],
      "source": [
        "N = 4\n",
        "A = np.array(np.random.rand(N,N))\n",
        "B = np.array(np.random.rand(N,N))\n",
        "assert(np.allclose(A @ B,block_multiplication(A,B)))\n",
        "\n",
        "print(\"Ok\")"
      ]
    },
    {
      "cell_type": "markdown",
      "metadata": {
        "id": "SixGc9ZrTD8n"
      },
      "source": [
        "### Ejercicio 8\n",
        "\n",
        "Describir e implementar un algoritmo que calcule un vector no nulo $z \\in  \\mathbb{R}^{n}$ tal que $Uz = 0$, donde $U \\in  \\mathbb{R}^{nxn}$ sea una matriz triangular superior con $u_{nn} = 0$ y $u_{ii} \\neq 0 \\ i \\neq n$"
      ]
    },
    {
      "cell_type": "markdown",
      "metadata": {
        "id": "JJ8UUKR5rXSP"
      },
      "source": [
        "### Ejercicios de la práctica\n",
        "\n",
        "En las prácticas hay ejercicios para realizar con la computadora, hacerlos!"
      ]
    }
  ],
  "metadata": {
    "colab": {
      "provenance": [],
      "toc_visible": true
    },
    "kernelspec": {
      "display_name": "Python 3",
      "language": "python",
      "name": "python3"
    },
    "language_info": {
      "codemirror_mode": {
        "name": "ipython",
        "version": 3
      },
      "file_extension": ".py",
      "mimetype": "text/x-python",
      "name": "python",
      "nbconvert_exporter": "python",
      "pygments_lexer": "ipython3",
      "version": "3.11.7"
    }
  },
  "nbformat": 4,
  "nbformat_minor": 0
}
