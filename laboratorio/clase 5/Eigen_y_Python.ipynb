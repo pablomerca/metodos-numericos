{
  "cells": [
    {
      "cell_type": "markdown",
      "metadata": {
        "id": "PFFs8-baNq0o"
      },
      "source": [
        "# Eigen y Python\n",
        "\n",
        "En linux se puede instalar Eigen con el paquete libeigen3-dev. También se puede bajar la carpeta eigen para poder elegir bien la versión."
      ]
    },
    {
      "cell_type": "code",
      "execution_count": 2,
      "metadata": {
        "colab": {
          "base_uri": "https://localhost:8080/"
        },
        "id": "VgPMqShmLtWq",
        "outputId": "790242e4-e1f2-4b00-9831-589ec96b9d3b"
      },
      "outputs": [
        {
          "name": "stdout",
          "output_type": "stream",
          "text": [
            "E: Could not open lock file /var/lib/dpkg/lock-frontend - open (13: Permission denied)\n",
            "E: Unable to acquire the dpkg frontend lock (/var/lib/dpkg/lock-frontend), are you root?\n"
          ]
        }
      ],
      "source": [
        "# !git clone https://gitlab.com/libeigen/eigen.git\n",
        "!apt-get install libeigen3-dev"
      ]
    },
    {
      "cell_type": "markdown",
      "metadata": {
        "id": "wIn_vPU1Np68"
      },
      "source": [
        "# Ejemplo Eigen básico"
      ]
    },
    {
      "cell_type": "markdown",
      "metadata": {},
      "source": [
        "%%file file_name, copia todo el contendio de la celda y lo agrega al archivo file_name"
      ]
    },
    {
      "cell_type": "code",
      "execution_count": 4,
      "metadata": {
        "colab": {
          "base_uri": "https://localhost:8080/"
        },
        "id": "FY8QivUpHnzn",
        "outputId": "334e5176-b248-42c6-f32d-455f56945404"
      },
      "outputs": [
        {
          "name": "stdout",
          "output_type": "stream",
          "text": [
            "Overwriting eigen_test.cpp\n"
          ]
        }
      ],
      "source": [
        "%%file eigen_test.cpp\n",
        "\n",
        "\n",
        "#include <iostream>\n",
        "#include <eigen3/Eigen/Dense>\n",
        "\n",
        "int main()\n",
        "{\n",
        "  Eigen::Matrix2d a;\n",
        "  a << 1, 2,\n",
        "       3, 4;\n",
        "  Eigen::MatrixXd b(2,2);   // matriz de tamanio dinamico\n",
        "  b << 2, 3,\n",
        "       1, 4;\n",
        "  std::cout << \"a + b =\\n\" << a + b << std::endl;\n",
        "  std::cout << \"a - b =\\n\" << a - b << std::endl;\n",
        "  std::cout << \"Doing a += b;\" << std::endl;\n",
        "  a += b;\n",
        "  std::cout << \"Now a =\\n\" << a << std::endl;\n",
        "  Eigen::Vector3d v(1,2,3);\n",
        "  Eigen::Vector3d w(1,0,0);\n",
        "  std::cout << \"-v + w - v =\\n\" << -v + w - v << std::endl;\n",
        "}"
      ]
    },
    {
      "cell_type": "code",
      "execution_count": 5,
      "metadata": {
        "colab": {
          "base_uri": "https://localhost:8080/"
        },
        "id": "qCHOTPHHLGNq",
        "outputId": "600f9370-2917-4a08-f635-8239164c1787"
      },
      "outputs": [
        {
          "name": "stdout",
          "output_type": "stream",
          "text": [
            "a + b =\n",
            "3 5\n",
            "4 8\n",
            "a - b =\n",
            "-1 -1\n",
            " 2  0\n",
            "Doing a += b;\n",
            "Now a =\n",
            "3 5\n",
            "4 8\n",
            "-v + w - v =\n",
            "-1\n",
            "-4\n",
            "-6\n"
          ]
        }
      ],
      "source": [
        "%%bash\n",
        "\n",
        "# g++ -I eigen eigen_test.cpp -o out\n",
        "g++ eigen_test.cpp -o out\n",
        "./out"
      ]
    },
    {
      "cell_type": "markdown",
      "metadata": {
        "id": "mzV9zoFLOOeK"
      },
      "source": [
        "## Ejemplo con una función de producto matriz vector"
      ]
    },
    {
      "cell_type": "code",
      "execution_count": 6,
      "metadata": {
        "colab": {
          "base_uri": "https://localhost:8080/"
        },
        "id": "-rwvKND9Onn7",
        "outputId": "b1816abc-92ab-45cb-8be7-306915bca11c"
      },
      "outputs": [
        {
          "name": "stdout",
          "output_type": "stream",
          "text": [
            "Writing eigen_types_test.cpp\n"
          ]
        }
      ],
      "source": [
        "%%file eigen_types_test.cpp\n",
        "\n",
        "#include <iostream>\n",
        "#include <eigen3/Eigen/Dense>\n",
        "\n",
        "using Eigen::MatrixXd;\n",
        "using Eigen::VectorXd;\n",
        "\n",
        "VectorXd matrix_vector_multiplication(const MatrixXd& matrix, const VectorXd& vector) {\n",
        "    return matrix * vector;\n",
        "}\n",
        "\n",
        "\n",
        "int main() {\n",
        "    // Example usage\n",
        "    MatrixXd A(3, 3);\n",
        "    A << 1, 2, 3,\n",
        "         4, 5, 6,\n",
        "         7, 8, 9;\n",
        "\n",
        "    VectorXd b(3);\n",
        "    b << 1, 2, 3;\n",
        "\n",
        "    VectorXd c = matrix_vector_multiplication(A, b);\n",
        "\n",
        "    std::cout << \"Result of matrix-vector multiplication: \" << c.transpose() << std::endl;\n",
        "\n",
        "    return 0;\n",
        "}"
      ]
    },
    {
      "cell_type": "markdown",
      "metadata": {
        "id": "VgSS_GCfOVGP"
      },
      "source": [
        "## Compilamos"
      ]
    },
    {
      "cell_type": "code",
      "execution_count": 7,
      "metadata": {
        "colab": {
          "base_uri": "https://localhost:8080/"
        },
        "id": "aI83vHtVRehz",
        "outputId": "fb68f951-28a9-44e1-91aa-e7bbcf7c3bb8"
      },
      "outputs": [
        {
          "name": "stdout",
          "output_type": "stream",
          "text": [
            "Result of matrix-vector multiplication: 14 32 50\n"
          ]
        }
      ],
      "source": [
        "%%bash\n",
        "# g++ -Ieigen eigen_types_test.cpp -o out\n",
        "g++ eigen_types_test.cpp -o out\n",
        "./out"
      ]
    },
    {
      "cell_type": "markdown",
      "metadata": {
        "id": "5-HCLU62OS49"
      },
      "source": [
        "## Comparamos con numpy"
      ]
    },
    {
      "cell_type": "code",
      "execution_count": 8,
      "metadata": {
        "colab": {
          "base_uri": "https://localhost:8080/"
        },
        "id": "sTIb0b2SaZfd",
        "outputId": "08c4f0b3-914f-4a63-a38b-3704a39efe8b"
      },
      "outputs": [
        {
          "data": {
            "text/plain": [
              "array([14., 32., 50.])"
            ]
          },
          "execution_count": 8,
          "metadata": {},
          "output_type": "execute_result"
        }
      ],
      "source": [
        "import numpy as np\n",
        "A = np.array([[1, 2, 3], [4, 5, 6], [7, 8, 9]], dtype=np.float64)\n",
        "b = np.array([1, 2, 3], dtype=np.float64)\n",
        "A@b"
      ]
    },
    {
      "cell_type": "markdown",
      "metadata": {
        "id": "D7tD2_CbOcwU"
      },
      "source": [
        "# Opción con entrada y salida de archivos de texto"
      ]
    },
    {
      "cell_type": "code",
      "execution_count": 9,
      "metadata": {
        "colab": {
          "base_uri": "https://localhost:8080/"
        },
        "id": "o4rM_Wk-Kgyt",
        "outputId": "1d250a37-7f19-4986-b2fa-024267cdafe5"
      },
      "outputs": [
        {
          "name": "stdout",
          "output_type": "stream",
          "text": [
            "Writing eigen_types_iofile_test.cpp\n"
          ]
        }
      ],
      "source": [
        "%%file eigen_types_iofile_test.cpp\n",
        "\n",
        "#include <iostream>\n",
        "#include <fstream>\n",
        "#include <eigen3/Eigen/Dense>\n",
        "\n",
        "using Eigen::MatrixXd;\n",
        "using Eigen::VectorXd;\n",
        "\n",
        "VectorXd matrix_vector_multiplication(const MatrixXd& matrix, const VectorXd& vector) {\n",
        "    return matrix * vector;\n",
        "}\n",
        "\n",
        "int main(int argc, char** argv) {\n",
        "    if (argc != 3) {\n",
        "        std::cerr << \"Usage: \" << argv[0] << \" input_file output_file\" << std::endl;\n",
        "        return 1;  // codigo 1 para cantidad incorrecta de argumentos.\n",
        "    }\n",
        "\n",
        "    const char* input_file = argv[1];\n",
        "    const char* output_file = argv[2];\n",
        "\n",
        "    std::ifstream fin(input_file);\n",
        "    if (!fin.is_open()) {\n",
        "        std::cerr << \"Error: could not open input file \" << input_file << std::endl;\n",
        "        return 1;\n",
        "    }\n",
        "\n",
        "    // Read matrix and vector from file\n",
        "    int nrows, ncols;\n",
        "    fin >> nrows >> ncols;\n",
        "\n",
        "    MatrixXd A(nrows, ncols);\n",
        "    for (int i = 0; i < nrows; i++) {\n",
        "        for (int j = 0; j < ncols; j++) {\n",
        "            fin >> A(i, j);\n",
        "        }\n",
        "    }\n",
        "\n",
        "    VectorXd b(ncols);\n",
        "    for (int i = 0; i < ncols; i++) {\n",
        "        fin >> b(i);\n",
        "    }\n",
        "\n",
        "    fin.close();\n",
        "\n",
        "    // Perform matrix-vector multiplication\n",
        "    VectorXd c = matrix_vector_multiplication(A, b);\n",
        "\n",
        "    // Write result to output file\n",
        "    std::ofstream fout(output_file);\n",
        "    if (!fout.is_open()) {\n",
        "        std::cerr << \"Error: could not open output file \" << output_file << std::endl;\n",
        "        return 1;\n",
        "    }\n",
        "\n",
        "    fout << c.transpose() << std::endl;\n",
        "\n",
        "    fout.close();\n",
        "\n",
        "    return 0;\n",
        "}\n"
      ]
    },
    {
      "cell_type": "markdown",
      "metadata": {
        "id": "yrD71RsoOgTi"
      },
      "source": [
        "## Escribimos un archivo de texto con numpy"
      ]
    },
    {
      "cell_type": "markdown",
      "metadata": {},
      "source": [
        "!rm input_data.txt  # borra el archivo si es que ya existe.\n",
        "\n",
        "with open('input_data.txt','a') as f: line opens the file input_data.txt in append mode ('a')."
      ]
    },
    {
      "cell_type": "code",
      "execution_count": 10,
      "metadata": {
        "colab": {
          "base_uri": "https://localhost:8080/"
        },
        "id": "3Bft8GqzKy2o",
        "outputId": "37efa844-0865-4f22-c0e2-49b51f9dc78c"
      },
      "outputs": [
        {
          "name": "stdout",
          "output_type": "stream",
          "text": [
            "rm: cannot remove 'input_data.txt': No such file or directory\n",
            "3 3\n",
            "1.000000000000000000e+00 2.000000000000000000e+00 3.000000000000000000e+00\n",
            "4.000000000000000000e+00 5.000000000000000000e+00 6.000000000000000000e+00\n",
            "7.000000000000000000e+00 8.000000000000000000e+00 9.000000000000000000e+00\n",
            "1.000 2.000 3.000\n"
          ]
        }
      ],
      "source": [
        "A = np.array([[1, 2, 3], [4, 5, 6], [7, 8, 9]], dtype=np.float64)\n",
        "b = np.array([1, 2, 3], dtype=np.float64)\n",
        "\n",
        "# borramos el archivo input si ya existe\n",
        "!rm input_data.txt \n",
        "\n",
        "with open('input_data.txt','a') as f: \n",
        "    f.write(f\"{A.shape[0]} {A.shape[1]}\\n\")\n",
        "    np.savetxt(f,A, newline=\"\\n\")\n",
        "    # np.savetxt(f,b.reshape(1,-1), fmt='%1.3f', newline=\"\\n\")\n",
        "    np.savetxt(f,b, fmt='%1.3f', newline=\"\\n\")\n",
        "!cat input_data.txt"
      ]
    },
    {
      "cell_type": "markdown",
      "metadata": {
        "id": "e3hgu6HrOjTo"
      },
      "source": [
        "## Compilamos y ejecutamos"
      ]
    },
    {
      "cell_type": "code",
      "execution_count": null,
      "metadata": {
        "colab": {
          "base_uri": "https://localhost:8080/"
        },
        "id": "moPr6yRfMFma",
        "outputId": "e111a13e-35a3-46d4-d67c-29f0ad7f5569"
      },
      "outputs": [
        {
          "name": "stdout",
          "output_type": "stream",
          "text": [
            "14 32 50\n"
          ]
        }
      ],
      "source": [
        "%%bash\n",
        "\n",
        "g++ eigen_types_iofile_test.cpp -o out\n",
        "./out input_data.txt output_data.txt\n",
        "cat output_data.txt"
      ]
    },
    {
      "cell_type": "code",
      "execution_count": null,
      "metadata": {
        "colab": {
          "base_uri": "https://localhost:8080/"
        },
        "id": "8DrJB157NY1f",
        "outputId": "1b6f8cd4-1ee4-440e-c361-fd170a1bfd9b"
      },
      "outputs": [
        {
          "data": {
            "text/plain": [
              "array([14., 32., 50.])"
            ]
          },
          "execution_count": 10,
          "metadata": {},
          "output_type": "execute_result"
        }
      ],
      "source": [
        "np.loadtxt('output_data.txt')"
      ]
    },
    {
      "cell_type": "markdown",
      "metadata": {
        "id": "I_wTexFlNlmX"
      },
      "source": [
        "# Usando Python ctypes"
      ]
    },
    {
      "cell_type": "code",
      "execution_count": null,
      "metadata": {
        "colab": {
          "base_uri": "https://localhost:8080/"
        },
        "id": "dr6bNB64ZkVN",
        "outputId": "ab1dc9b9-24ce-416f-c5fb-2efdaaaef831"
      },
      "outputs": [
        {
          "name": "stdout",
          "output_type": "stream",
          "text": [
            "Writing eigen_ctypes_test.cpp\n"
          ]
        }
      ],
      "source": [
        "%%file eigen_ctypes_test.cpp\n",
        "\n",
        "#include <iostream>\n",
        "#include <eigen3/Eigen/Dense>\n",
        "#include <dlfcn.h>\n",
        "\n",
        "using namespace Eigen;\n",
        "\n",
        "extern \"C\" {\n",
        "    void matrix_vector_multiply(double* matrix, double* vector, double* result, int rows, int cols) {\n",
        "        Map<MatrixXd> mat(matrix, rows, cols);\n",
        "        Map<VectorXd> vec(vector, cols);\n",
        "        Map<VectorXd> res(result, rows);\n",
        "        res = mat * vec ;\n",
        "    }\n",
        "}"
      ]
    },
    {
      "cell_type": "code",
      "execution_count": null,
      "metadata": {
        "colab": {
          "base_uri": "https://localhost:8080/"
        },
        "id": "gQ2ZBGfLZpf9",
        "outputId": "6f2b8d71-d640-4936-ced9-32c0394b9b97"
      },
      "outputs": [
        {
          "name": "stdout",
          "output_type": "stream",
          "text": [
            "rm: cannot remove 'eigen_ctypes_test.so': No such file or directory\n",
            "eigen_ctypes_test.cpp  eigen_types_iofile_test.cpp  out\n",
            "eigen_ctypes_test.so   eigen_types_test.cpp\t    output_data.txt\n",
            "eigen_test.cpp\t       input_data.txt\t\t    sample_data\n"
          ]
        }
      ],
      "source": [
        "!rm eigen_ctypes_test.so # borramos por las dudas\n",
        "!g++ -shared -fPIC -Llibdl -o eigen_ctypes_test.so eigen_ctypes_test.cpp\n",
        "!ls # chequeamos que este la lib"
      ]
    },
    {
      "cell_type": "code",
      "execution_count": null,
      "metadata": {
        "colab": {
          "base_uri": "https://localhost:8080/"
        },
        "id": "JT_zJndNZp5y",
        "outputId": "1c911f13-b3f0-48da-9623-bd25d0ca1fd6"
      },
      "outputs": [
        {
          "data": {
            "text/plain": [
              "array([14., 32., 50.])"
            ]
          },
          "execution_count": 13,
          "metadata": {},
          "output_type": "execute_result"
        }
      ],
      "source": [
        "import ctypes\n",
        "import numpy as np\n",
        "\n",
        "class sharedlib():\n",
        "    dlclose = ctypes.CDLL(None).dlclose  # This WON'T work on Win\n",
        "    dlclose.argtypes = (ctypes.c_void_p,)\n",
        "\n",
        "    def __init__(self, path, method, *args):\n",
        "        self.lib = ctypes.cdll.LoadLibrary(f'./{path}')\n",
        "\n",
        "        # Se explicitan los tipos de los argumentos para el método deseado\n",
        "        self.method_object = getattr(self.lib, method)\n",
        "        self.method_object.argtypes = args\n",
        "\n",
        "    def __call__(self, *args):\n",
        "        return self.method_object(*args)\n",
        "\n",
        "    def unload(self):\n",
        "        while self.dlclose(self.lib._handle)!=-1:\n",
        "            pass\n",
        "\n",
        "lib = sharedlib('eigen_ctypes_test.so', 'matrix_vector_multiply',\n",
        "                                                                ctypes.POINTER(ctypes.c_double),\n",
        "                                                                ctypes.POINTER(ctypes.c_double),\n",
        "                                                                ctypes.POINTER(ctypes.c_double),\n",
        "                                                                ctypes.c_int,\n",
        "                                                                ctypes.c_int\n",
        "                                                            )\n",
        "\n",
        "# Creamos la matriz de entrada\n",
        "A = np.array([[1, 2, 3], [4, 5, 6], [7, 8, 9]], dtype=np.float64)\n",
        "# Eigen la mapea transpuesta a la información del puntero así que hay que pasarlo a orden tipo Fortran\n",
        "A = np.asfortranarray(A)\n",
        "b = np.array([1, 2, 3], dtype=np.float64)\n",
        "\n",
        "# Definimos el vector donde se van a guardar los resultados\n",
        "result = np.zeros((3,), dtype=np.float64)\n",
        "\n",
        "# Llamamos a nuestra función en C++ pasando los argumentos de entrada\n",
        "lib(\n",
        "    A.ctypes.data_as(ctypes.POINTER(ctypes.c_double)),\n",
        "    b.ctypes.data_as(ctypes.POINTER(ctypes.c_double)),\n",
        "    result.ctypes.data_as(ctypes.POINTER(ctypes.c_double)),\n",
        "    ctypes.c_int(A.shape[0]),\n",
        "    ctypes.c_int(A.shape[1])\n",
        ")\n",
        "\n",
        "lib.unload() # para poder recompilar la lib hay que cerrarla\n",
        "\n",
        "result"
      ]
    },
    {
      "cell_type": "markdown",
      "metadata": {
        "id": "IpvKMpSRM0gO"
      },
      "source": [
        "# Cython"
      ]
    },
    {
      "cell_type": "code",
      "execution_count": null,
      "metadata": {
        "id": "W9O1mKlVNMsV"
      },
      "outputs": [],
      "source": [
        "%reload_ext cython"
      ]
    },
    {
      "cell_type": "code",
      "execution_count": null,
      "metadata": {
        "id": "8j2QDZ-INIq8"
      },
      "outputs": [],
      "source": [
        "%%cython -a --verbose\n",
        "\n",
        "import math\n",
        "# use C math functions\n",
        "from libc.math cimport sin, cos\n",
        "\n",
        "# use C types instead of Python types\n",
        "def r_cython(double[:] x_vec, double[:] y_vec):\n",
        "    cdef double s = 0\n",
        "    cdef int i\n",
        "    for i in range(len(x_vec)):\n",
        "        s += cos(x_vec[i])*sin(y_vec[i])\n",
        "    return s"
      ]
    },
    {
      "cell_type": "code",
      "execution_count": null,
      "metadata": {
        "colab": {
          "base_uri": "https://localhost:8080/"
        },
        "id": "veouVIlLNQOu",
        "outputId": "59cac13e-2e0a-4d07-84ca-0913333c8cf0"
      },
      "outputs": [
        {
          "data": {
            "text/plain": [
              "4.546487134128409"
            ]
          },
          "execution_count": 22,
          "metadata": {},
          "output_type": "execute_result"
        }
      ],
      "source": [
        "x = np.ones(10)\n",
        "r_cython(x, x)"
      ]
    },
    {
      "cell_type": "code",
      "execution_count": null,
      "metadata": {
        "id": "88_5gC-vO02F"
      },
      "outputs": [],
      "source": [
        "!python -m pip install eigency\n",
        "%reload_ext cython"
      ]
    },
    {
      "cell_type": "code",
      "execution_count": null,
      "metadata": {
        "colab": {
          "base_uri": "https://localhost:8080/"
        },
        "id": "VIz9324SU6W6",
        "outputId": "d19422fd-4da8-405b-ffac-5c1188eb0acf"
      },
      "outputs": [
        {
          "name": "stdout",
          "output_type": "stream",
          "text": [
            "Overwriting functions.h\n"
          ]
        }
      ],
      "source": [
        "%%writefile functions.h\n",
        "Eigen::MatrixXd function_w_mat_arg(const Eigen::Map<Eigen::MatrixXd> &mat) {\n",
        "    std::cout << mat << \"\\n\";\n",
        "    return mat;\n",
        "}"
      ]
    },
    {
      "cell_type": "code",
      "execution_count": null,
      "metadata": {
        "colab": {
          "base_uri": "https://localhost:8080/",
          "height": 527
        },
        "id": "fGTQDpXZNn0j",
        "outputId": "92f6f921-b69f-4542-d461-eac8beea2a5e"
      },
      "outputs": [
        {
          "name": "stdout",
          "output_type": "stream",
          "text": [
            "[1/1] Cythonizing /root/.cache/ipython/cython/_cython_magic_583902f51c5075cee7617670ace3d5165134481a.pyx\n"
          ]
        },
        {
          "name": "stderr",
          "output_type": "stream",
          "text": [
            "INFO:root:building '_cython_magic_583902f51c5075cee7617670ace3d5165134481a' extension\n",
            "INFO:root:x86_64-linux-gnu-gcc -Wno-unused-result -Wsign-compare -DNDEBUG -g -fwrapv -O2 -Wall -g -fstack-protector-strong -Wformat -Werror=format-security -g -fwrapv -O2 -fPIC -I/usr/local/lib/python3.10/dist-packages/eigency -I/usr/local/lib/python3.10/dist-packages/numpy/core/include/ -I/usr/include/eigen3 -I./ -I/usr/include/python3.10 -c /root/.cache/ipython/cython/_cython_magic_583902f51c5075cee7617670ace3d5165134481a.cpp -o /root/.cache/ipython/cython/root/.cache/ipython/cython/_cython_magic_583902f51c5075cee7617670ace3d5165134481a.o\n",
            "INFO:root:x86_64-linux-gnu-g++ -shared -Wl,-O1 -Wl,-Bsymbolic-functions -Wl,-Bsymbolic-functions -g -fwrapv -O2 /root/.cache/ipython/cython/root/.cache/ipython/cython/_cython_magic_583902f51c5075cee7617670ace3d5165134481a.o -L/usr/lib/x86_64-linux-gnu -o /root/.cache/ipython/cython/_cython_magic_583902f51c5075cee7617670ace3d5165134481a.cpython-310-x86_64-linux-gnu.so\n"
          ]
        },
        {
          "name": "stdout",
          "output_type": "stream",
          "text": [
            "Content of stderr:\n",
            "In file included from /usr/local/lib/python3.10/dist-packages/numpy/core/include/numpy/ndarraytypes.h:1929,\n",
            "                 from /usr/local/lib/python3.10/dist-packages/numpy/core/include/numpy/ndarrayobject.h:12,\n",
            "                 from /usr/local/lib/python3.10/dist-packages/numpy/core/include/numpy/arrayobject.h:5,\n",
            "                 from /root/.cache/ipython/cython/_cython_magic_583902f51c5075cee7617670ace3d5165134481a.cpp:1268:\n",
            "/usr/local/lib/python3.10/dist-packages/numpy/core/include/numpy/npy_1_7_deprecated_api.h:17:2: warning: #warning \"Using deprecated NumPy API, disable it with \" \"#define NPY_NO_DEPRECATED_API NPY_1_7_API_VERSION\" [-Wcpp]\n",
            "   17 | #warning \"Using deprecated NumPy API, disable it with \" \\\n",
            "      |  ^~~~~~~"
          ]
        },
        {
          "data": {
            "text/html": [
              "<!DOCTYPE html>\n",
              "<!-- Generated by Cython 3.0.10 -->\n",
              "<html>\n",
              "<head>\n",
              "    <meta http-equiv=\"Content-Type\" content=\"text/html; charset=utf-8\" />\n",
              "    <title>Cython: _cython_magic_583902f51c5075cee7617670ace3d5165134481a.pyx</title>\n",
              "    <style type=\"text/css\">\n",
              "    \n",
              "body.cython { font-family: courier; font-size: 12; }\n",
              "\n",
              ".cython.tag  {  }\n",
              ".cython.line { color: #000000; margin: 0em }\n",
              ".cython.code { font-size: 9; color: #444444; display: none; margin: 0px 0px 0px 8px; border-left: 8px none; }\n",
              "\n",
              ".cython.line .run { background-color: #B0FFB0; }\n",
              ".cython.line .mis { background-color: #FFB0B0; }\n",
              ".cython.code.run  { border-left: 8px solid #B0FFB0; }\n",
              ".cython.code.mis  { border-left: 8px solid #FFB0B0; }\n",
              "\n",
              ".cython.code .py_c_api  { color: red; }\n",
              ".cython.code .py_macro_api  { color: #FF7000; }\n",
              ".cython.code .pyx_c_api  { color: #FF3000; }\n",
              ".cython.code .pyx_macro_api  { color: #FF7000; }\n",
              ".cython.code .refnanny  { color: #FFA000; }\n",
              ".cython.code .trace  { color: #FFA000; }\n",
              ".cython.code .error_goto  { color: #FFA000; }\n",
              "\n",
              ".cython.code .coerce  { color: #008000; border: 1px dotted #008000 }\n",
              ".cython.code .py_attr { color: #FF0000; font-weight: bold; }\n",
              ".cython.code .c_attr  { color: #0000FF; }\n",
              ".cython.code .py_call { color: #FF0000; font-weight: bold; }\n",
              ".cython.code .c_call  { color: #0000FF; }\n",
              "\n",
              ".cython.score-0 {background-color: #FFFFff;}\n",
              ".cython.score-1 {background-color: #FFFFe7;}\n",
              ".cython.score-2 {background-color: #FFFFd4;}\n",
              ".cython.score-3 {background-color: #FFFFc4;}\n",
              ".cython.score-4 {background-color: #FFFFb6;}\n",
              ".cython.score-5 {background-color: #FFFFaa;}\n",
              ".cython.score-6 {background-color: #FFFF9f;}\n",
              ".cython.score-7 {background-color: #FFFF96;}\n",
              ".cython.score-8 {background-color: #FFFF8d;}\n",
              ".cython.score-9 {background-color: #FFFF86;}\n",
              ".cython.score-10 {background-color: #FFFF7f;}\n",
              ".cython.score-11 {background-color: #FFFF79;}\n",
              ".cython.score-12 {background-color: #FFFF73;}\n",
              ".cython.score-13 {background-color: #FFFF6e;}\n",
              ".cython.score-14 {background-color: #FFFF6a;}\n",
              ".cython.score-15 {background-color: #FFFF66;}\n",
              ".cython.score-16 {background-color: #FFFF62;}\n",
              ".cython.score-17 {background-color: #FFFF5e;}\n",
              ".cython.score-18 {background-color: #FFFF5b;}\n",
              ".cython.score-19 {background-color: #FFFF57;}\n",
              ".cython.score-20 {background-color: #FFFF55;}\n",
              ".cython.score-21 {background-color: #FFFF52;}\n",
              ".cython.score-22 {background-color: #FFFF4f;}\n",
              ".cython.score-23 {background-color: #FFFF4d;}\n",
              ".cython.score-24 {background-color: #FFFF4b;}\n",
              ".cython.score-25 {background-color: #FFFF48;}\n",
              ".cython.score-26 {background-color: #FFFF46;}\n",
              ".cython.score-27 {background-color: #FFFF44;}\n",
              ".cython.score-28 {background-color: #FFFF43;}\n",
              ".cython.score-29 {background-color: #FFFF41;}\n",
              ".cython.score-30 {background-color: #FFFF3f;}\n",
              ".cython.score-31 {background-color: #FFFF3e;}\n",
              ".cython.score-32 {background-color: #FFFF3c;}\n",
              ".cython.score-33 {background-color: #FFFF3b;}\n",
              ".cython.score-34 {background-color: #FFFF39;}\n",
              ".cython.score-35 {background-color: #FFFF38;}\n",
              ".cython.score-36 {background-color: #FFFF37;}\n",
              ".cython.score-37 {background-color: #FFFF36;}\n",
              ".cython.score-38 {background-color: #FFFF35;}\n",
              ".cython.score-39 {background-color: #FFFF34;}\n",
              ".cython.score-40 {background-color: #FFFF33;}\n",
              ".cython.score-41 {background-color: #FFFF32;}\n",
              ".cython.score-42 {background-color: #FFFF31;}\n",
              ".cython.score-43 {background-color: #FFFF30;}\n",
              ".cython.score-44 {background-color: #FFFF2f;}\n",
              ".cython.score-45 {background-color: #FFFF2e;}\n",
              ".cython.score-46 {background-color: #FFFF2d;}\n",
              ".cython.score-47 {background-color: #FFFF2c;}\n",
              ".cython.score-48 {background-color: #FFFF2b;}\n",
              ".cython.score-49 {background-color: #FFFF2b;}\n",
              ".cython.score-50 {background-color: #FFFF2a;}\n",
              ".cython.score-51 {background-color: #FFFF29;}\n",
              ".cython.score-52 {background-color: #FFFF29;}\n",
              ".cython.score-53 {background-color: #FFFF28;}\n",
              ".cython.score-54 {background-color: #FFFF27;}\n",
              ".cython.score-55 {background-color: #FFFF27;}\n",
              ".cython.score-56 {background-color: #FFFF26;}\n",
              ".cython.score-57 {background-color: #FFFF26;}\n",
              ".cython.score-58 {background-color: #FFFF25;}\n",
              ".cython.score-59 {background-color: #FFFF24;}\n",
              ".cython.score-60 {background-color: #FFFF24;}\n",
              ".cython.score-61 {background-color: #FFFF23;}\n",
              ".cython.score-62 {background-color: #FFFF23;}\n",
              ".cython.score-63 {background-color: #FFFF22;}\n",
              ".cython.score-64 {background-color: #FFFF22;}\n",
              ".cython.score-65 {background-color: #FFFF22;}\n",
              ".cython.score-66 {background-color: #FFFF21;}\n",
              ".cython.score-67 {background-color: #FFFF21;}\n",
              ".cython.score-68 {background-color: #FFFF20;}\n",
              ".cython.score-69 {background-color: #FFFF20;}\n",
              ".cython.score-70 {background-color: #FFFF1f;}\n",
              ".cython.score-71 {background-color: #FFFF1f;}\n",
              ".cython.score-72 {background-color: #FFFF1f;}\n",
              ".cython.score-73 {background-color: #FFFF1e;}\n",
              ".cython.score-74 {background-color: #FFFF1e;}\n",
              ".cython.score-75 {background-color: #FFFF1e;}\n",
              ".cython.score-76 {background-color: #FFFF1d;}\n",
              ".cython.score-77 {background-color: #FFFF1d;}\n",
              ".cython.score-78 {background-color: #FFFF1c;}\n",
              ".cython.score-79 {background-color: #FFFF1c;}\n",
              ".cython.score-80 {background-color: #FFFF1c;}\n",
              ".cython.score-81 {background-color: #FFFF1c;}\n",
              ".cython.score-82 {background-color: #FFFF1b;}\n",
              ".cython.score-83 {background-color: #FFFF1b;}\n",
              ".cython.score-84 {background-color: #FFFF1b;}\n",
              ".cython.score-85 {background-color: #FFFF1a;}\n",
              ".cython.score-86 {background-color: #FFFF1a;}\n",
              ".cython.score-87 {background-color: #FFFF1a;}\n",
              ".cython.score-88 {background-color: #FFFF1a;}\n",
              ".cython.score-89 {background-color: #FFFF19;}\n",
              ".cython.score-90 {background-color: #FFFF19;}\n",
              ".cython.score-91 {background-color: #FFFF19;}\n",
              ".cython.score-92 {background-color: #FFFF19;}\n",
              ".cython.score-93 {background-color: #FFFF18;}\n",
              ".cython.score-94 {background-color: #FFFF18;}\n",
              ".cython.score-95 {background-color: #FFFF18;}\n",
              ".cython.score-96 {background-color: #FFFF18;}\n",
              ".cython.score-97 {background-color: #FFFF17;}\n",
              ".cython.score-98 {background-color: #FFFF17;}\n",
              ".cython.score-99 {background-color: #FFFF17;}\n",
              ".cython.score-100 {background-color: #FFFF17;}\n",
              ".cython.score-101 {background-color: #FFFF16;}\n",
              ".cython.score-102 {background-color: #FFFF16;}\n",
              ".cython.score-103 {background-color: #FFFF16;}\n",
              ".cython.score-104 {background-color: #FFFF16;}\n",
              ".cython.score-105 {background-color: #FFFF16;}\n",
              ".cython.score-106 {background-color: #FFFF15;}\n",
              ".cython.score-107 {background-color: #FFFF15;}\n",
              ".cython.score-108 {background-color: #FFFF15;}\n",
              ".cython.score-109 {background-color: #FFFF15;}\n",
              ".cython.score-110 {background-color: #FFFF15;}\n",
              ".cython.score-111 {background-color: #FFFF15;}\n",
              ".cython.score-112 {background-color: #FFFF14;}\n",
              ".cython.score-113 {background-color: #FFFF14;}\n",
              ".cython.score-114 {background-color: #FFFF14;}\n",
              ".cython.score-115 {background-color: #FFFF14;}\n",
              ".cython.score-116 {background-color: #FFFF14;}\n",
              ".cython.score-117 {background-color: #FFFF14;}\n",
              ".cython.score-118 {background-color: #FFFF13;}\n",
              ".cython.score-119 {background-color: #FFFF13;}\n",
              ".cython.score-120 {background-color: #FFFF13;}\n",
              ".cython.score-121 {background-color: #FFFF13;}\n",
              ".cython.score-122 {background-color: #FFFF13;}\n",
              ".cython.score-123 {background-color: #FFFF13;}\n",
              ".cython.score-124 {background-color: #FFFF13;}\n",
              ".cython.score-125 {background-color: #FFFF12;}\n",
              ".cython.score-126 {background-color: #FFFF12;}\n",
              ".cython.score-127 {background-color: #FFFF12;}\n",
              ".cython.score-128 {background-color: #FFFF12;}\n",
              ".cython.score-129 {background-color: #FFFF12;}\n",
              ".cython.score-130 {background-color: #FFFF12;}\n",
              ".cython.score-131 {background-color: #FFFF12;}\n",
              ".cython.score-132 {background-color: #FFFF11;}\n",
              ".cython.score-133 {background-color: #FFFF11;}\n",
              ".cython.score-134 {background-color: #FFFF11;}\n",
              ".cython.score-135 {background-color: #FFFF11;}\n",
              ".cython.score-136 {background-color: #FFFF11;}\n",
              ".cython.score-137 {background-color: #FFFF11;}\n",
              ".cython.score-138 {background-color: #FFFF11;}\n",
              ".cython.score-139 {background-color: #FFFF11;}\n",
              ".cython.score-140 {background-color: #FFFF11;}\n",
              ".cython.score-141 {background-color: #FFFF10;}\n",
              ".cython.score-142 {background-color: #FFFF10;}\n",
              ".cython.score-143 {background-color: #FFFF10;}\n",
              ".cython.score-144 {background-color: #FFFF10;}\n",
              ".cython.score-145 {background-color: #FFFF10;}\n",
              ".cython.score-146 {background-color: #FFFF10;}\n",
              ".cython.score-147 {background-color: #FFFF10;}\n",
              ".cython.score-148 {background-color: #FFFF10;}\n",
              ".cython.score-149 {background-color: #FFFF10;}\n",
              ".cython.score-150 {background-color: #FFFF0f;}\n",
              ".cython.score-151 {background-color: #FFFF0f;}\n",
              ".cython.score-152 {background-color: #FFFF0f;}\n",
              ".cython.score-153 {background-color: #FFFF0f;}\n",
              ".cython.score-154 {background-color: #FFFF0f;}\n",
              ".cython.score-155 {background-color: #FFFF0f;}\n",
              ".cython.score-156 {background-color: #FFFF0f;}\n",
              ".cython.score-157 {background-color: #FFFF0f;}\n",
              ".cython.score-158 {background-color: #FFFF0f;}\n",
              ".cython.score-159 {background-color: #FFFF0f;}\n",
              ".cython.score-160 {background-color: #FFFF0f;}\n",
              ".cython.score-161 {background-color: #FFFF0e;}\n",
              ".cython.score-162 {background-color: #FFFF0e;}\n",
              ".cython.score-163 {background-color: #FFFF0e;}\n",
              ".cython.score-164 {background-color: #FFFF0e;}\n",
              ".cython.score-165 {background-color: #FFFF0e;}\n",
              ".cython.score-166 {background-color: #FFFF0e;}\n",
              ".cython.score-167 {background-color: #FFFF0e;}\n",
              ".cython.score-168 {background-color: #FFFF0e;}\n",
              ".cython.score-169 {background-color: #FFFF0e;}\n",
              ".cython.score-170 {background-color: #FFFF0e;}\n",
              ".cython.score-171 {background-color: #FFFF0e;}\n",
              ".cython.score-172 {background-color: #FFFF0e;}\n",
              ".cython.score-173 {background-color: #FFFF0d;}\n",
              ".cython.score-174 {background-color: #FFFF0d;}\n",
              ".cython.score-175 {background-color: #FFFF0d;}\n",
              ".cython.score-176 {background-color: #FFFF0d;}\n",
              ".cython.score-177 {background-color: #FFFF0d;}\n",
              ".cython.score-178 {background-color: #FFFF0d;}\n",
              ".cython.score-179 {background-color: #FFFF0d;}\n",
              ".cython.score-180 {background-color: #FFFF0d;}\n",
              ".cython.score-181 {background-color: #FFFF0d;}\n",
              ".cython.score-182 {background-color: #FFFF0d;}\n",
              ".cython.score-183 {background-color: #FFFF0d;}\n",
              ".cython.score-184 {background-color: #FFFF0d;}\n",
              ".cython.score-185 {background-color: #FFFF0d;}\n",
              ".cython.score-186 {background-color: #FFFF0d;}\n",
              ".cython.score-187 {background-color: #FFFF0c;}\n",
              ".cython.score-188 {background-color: #FFFF0c;}\n",
              ".cython.score-189 {background-color: #FFFF0c;}\n",
              ".cython.score-190 {background-color: #FFFF0c;}\n",
              ".cython.score-191 {background-color: #FFFF0c;}\n",
              ".cython.score-192 {background-color: #FFFF0c;}\n",
              ".cython.score-193 {background-color: #FFFF0c;}\n",
              ".cython.score-194 {background-color: #FFFF0c;}\n",
              ".cython.score-195 {background-color: #FFFF0c;}\n",
              ".cython.score-196 {background-color: #FFFF0c;}\n",
              ".cython.score-197 {background-color: #FFFF0c;}\n",
              ".cython.score-198 {background-color: #FFFF0c;}\n",
              ".cython.score-199 {background-color: #FFFF0c;}\n",
              ".cython.score-200 {background-color: #FFFF0c;}\n",
              ".cython.score-201 {background-color: #FFFF0c;}\n",
              ".cython.score-202 {background-color: #FFFF0c;}\n",
              ".cython.score-203 {background-color: #FFFF0b;}\n",
              ".cython.score-204 {background-color: #FFFF0b;}\n",
              ".cython.score-205 {background-color: #FFFF0b;}\n",
              ".cython.score-206 {background-color: #FFFF0b;}\n",
              ".cython.score-207 {background-color: #FFFF0b;}\n",
              ".cython.score-208 {background-color: #FFFF0b;}\n",
              ".cython.score-209 {background-color: #FFFF0b;}\n",
              ".cython.score-210 {background-color: #FFFF0b;}\n",
              ".cython.score-211 {background-color: #FFFF0b;}\n",
              ".cython.score-212 {background-color: #FFFF0b;}\n",
              ".cython.score-213 {background-color: #FFFF0b;}\n",
              ".cython.score-214 {background-color: #FFFF0b;}\n",
              ".cython.score-215 {background-color: #FFFF0b;}\n",
              ".cython.score-216 {background-color: #FFFF0b;}\n",
              ".cython.score-217 {background-color: #FFFF0b;}\n",
              ".cython.score-218 {background-color: #FFFF0b;}\n",
              ".cython.score-219 {background-color: #FFFF0b;}\n",
              ".cython.score-220 {background-color: #FFFF0b;}\n",
              ".cython.score-221 {background-color: #FFFF0b;}\n",
              ".cython.score-222 {background-color: #FFFF0a;}\n",
              ".cython.score-223 {background-color: #FFFF0a;}\n",
              ".cython.score-224 {background-color: #FFFF0a;}\n",
              ".cython.score-225 {background-color: #FFFF0a;}\n",
              ".cython.score-226 {background-color: #FFFF0a;}\n",
              ".cython.score-227 {background-color: #FFFF0a;}\n",
              ".cython.score-228 {background-color: #FFFF0a;}\n",
              ".cython.score-229 {background-color: #FFFF0a;}\n",
              ".cython.score-230 {background-color: #FFFF0a;}\n",
              ".cython.score-231 {background-color: #FFFF0a;}\n",
              ".cython.score-232 {background-color: #FFFF0a;}\n",
              ".cython.score-233 {background-color: #FFFF0a;}\n",
              ".cython.score-234 {background-color: #FFFF0a;}\n",
              ".cython.score-235 {background-color: #FFFF0a;}\n",
              ".cython.score-236 {background-color: #FFFF0a;}\n",
              ".cython.score-237 {background-color: #FFFF0a;}\n",
              ".cython.score-238 {background-color: #FFFF0a;}\n",
              ".cython.score-239 {background-color: #FFFF0a;}\n",
              ".cython.score-240 {background-color: #FFFF0a;}\n",
              ".cython.score-241 {background-color: #FFFF0a;}\n",
              ".cython.score-242 {background-color: #FFFF0a;}\n",
              ".cython.score-243 {background-color: #FFFF0a;}\n",
              ".cython.score-244 {background-color: #FFFF0a;}\n",
              ".cython.score-245 {background-color: #FFFF0a;}\n",
              ".cython.score-246 {background-color: #FFFF09;}\n",
              ".cython.score-247 {background-color: #FFFF09;}\n",
              ".cython.score-248 {background-color: #FFFF09;}\n",
              ".cython.score-249 {background-color: #FFFF09;}\n",
              ".cython.score-250 {background-color: #FFFF09;}\n",
              ".cython.score-251 {background-color: #FFFF09;}\n",
              ".cython.score-252 {background-color: #FFFF09;}\n",
              ".cython.score-253 {background-color: #FFFF09;}\n",
              ".cython.score-254 {background-color: #FFFF09;}\n",
              "pre { line-height: 125%; }\n",
              "td.linenos .normal { color: inherit; background-color: transparent; padding-left: 5px; padding-right: 5px; }\n",
              "span.linenos { color: inherit; background-color: transparent; padding-left: 5px; padding-right: 5px; }\n",
              "td.linenos .special { color: #000000; background-color: #ffffc0; padding-left: 5px; padding-right: 5px; }\n",
              "span.linenos.special { color: #000000; background-color: #ffffc0; padding-left: 5px; padding-right: 5px; }\n",
              ".cython .hll { background-color: #ffffcc }\n",
              ".cython { background: #f8f8f8; }\n",
              ".cython .c { color: #3D7B7B; font-style: italic } /* Comment */\n",
              ".cython .err { border: 1px solid #FF0000 } /* Error */\n",
              ".cython .k { color: #008000; font-weight: bold } /* Keyword */\n",
              ".cython .o { color: #666666 } /* Operator */\n",
              ".cython .ch { color: #3D7B7B; font-style: italic } /* Comment.Hashbang */\n",
              ".cython .cm { color: #3D7B7B; font-style: italic } /* Comment.Multiline */\n",
              ".cython .cp { color: #9C6500 } /* Comment.Preproc */\n",
              ".cython .cpf { color: #3D7B7B; font-style: italic } /* Comment.PreprocFile */\n",
              ".cython .c1 { color: #3D7B7B; font-style: italic } /* Comment.Single */\n",
              ".cython .cs { color: #3D7B7B; font-style: italic } /* Comment.Special */\n",
              ".cython .gd { color: #A00000 } /* Generic.Deleted */\n",
              ".cython .ge { font-style: italic } /* Generic.Emph */\n",
              ".cython .ges { font-weight: bold; font-style: italic } /* Generic.EmphStrong */\n",
              ".cython .gr { color: #E40000 } /* Generic.Error */\n",
              ".cython .gh { color: #000080; font-weight: bold } /* Generic.Heading */\n",
              ".cython .gi { color: #008400 } /* Generic.Inserted */\n",
              ".cython .go { color: #717171 } /* Generic.Output */\n",
              ".cython .gp { color: #000080; font-weight: bold } /* Generic.Prompt */\n",
              ".cython .gs { font-weight: bold } /* Generic.Strong */\n",
              ".cython .gu { color: #800080; font-weight: bold } /* Generic.Subheading */\n",
              ".cython .gt { color: #0044DD } /* Generic.Traceback */\n",
              ".cython .kc { color: #008000; font-weight: bold } /* Keyword.Constant */\n",
              ".cython .kd { color: #008000; font-weight: bold } /* Keyword.Declaration */\n",
              ".cython .kn { color: #008000; font-weight: bold } /* Keyword.Namespace */\n",
              ".cython .kp { color: #008000 } /* Keyword.Pseudo */\n",
              ".cython .kr { color: #008000; font-weight: bold } /* Keyword.Reserved */\n",
              ".cython .kt { color: #B00040 } /* Keyword.Type */\n",
              ".cython .m { color: #666666 } /* Literal.Number */\n",
              ".cython .s { color: #BA2121 } /* Literal.String */\n",
              ".cython .na { color: #687822 } /* Name.Attribute */\n",
              ".cython .nb { color: #008000 } /* Name.Builtin */\n",
              ".cython .nc { color: #0000FF; font-weight: bold } /* Name.Class */\n",
              ".cython .no { color: #880000 } /* Name.Constant */\n",
              ".cython .nd { color: #AA22FF } /* Name.Decorator */\n",
              ".cython .ni { color: #717171; font-weight: bold } /* Name.Entity */\n",
              ".cython .ne { color: #CB3F38; font-weight: bold } /* Name.Exception */\n",
              ".cython .nf { color: #0000FF } /* Name.Function */\n",
              ".cython .nl { color: #767600 } /* Name.Label */\n",
              ".cython .nn { color: #0000FF; font-weight: bold } /* Name.Namespace */\n",
              ".cython .nt { color: #008000; font-weight: bold } /* Name.Tag */\n",
              ".cython .nv { color: #19177C } /* Name.Variable */\n",
              ".cython .ow { color: #AA22FF; font-weight: bold } /* Operator.Word */\n",
              ".cython .w { color: #bbbbbb } /* Text.Whitespace */\n",
              ".cython .mb { color: #666666 } /* Literal.Number.Bin */\n",
              ".cython .mf { color: #666666 } /* Literal.Number.Float */\n",
              ".cython .mh { color: #666666 } /* Literal.Number.Hex */\n",
              ".cython .mi { color: #666666 } /* Literal.Number.Integer */\n",
              ".cython .mo { color: #666666 } /* Literal.Number.Oct */\n",
              ".cython .sa { color: #BA2121 } /* Literal.String.Affix */\n",
              ".cython .sb { color: #BA2121 } /* Literal.String.Backtick */\n",
              ".cython .sc { color: #BA2121 } /* Literal.String.Char */\n",
              ".cython .dl { color: #BA2121 } /* Literal.String.Delimiter */\n",
              ".cython .sd { color: #BA2121; font-style: italic } /* Literal.String.Doc */\n",
              ".cython .s2 { color: #BA2121 } /* Literal.String.Double */\n",
              ".cython .se { color: #AA5D1F; font-weight: bold } /* Literal.String.Escape */\n",
              ".cython .sh { color: #BA2121 } /* Literal.String.Heredoc */\n",
              ".cython .si { color: #A45A77; font-weight: bold } /* Literal.String.Interpol */\n",
              ".cython .sx { color: #008000 } /* Literal.String.Other */\n",
              ".cython .sr { color: #A45A77 } /* Literal.String.Regex */\n",
              ".cython .s1 { color: #BA2121 } /* Literal.String.Single */\n",
              ".cython .ss { color: #19177C } /* Literal.String.Symbol */\n",
              ".cython .bp { color: #008000 } /* Name.Builtin.Pseudo */\n",
              ".cython .fm { color: #0000FF } /* Name.Function.Magic */\n",
              ".cython .vc { color: #19177C } /* Name.Variable.Class */\n",
              ".cython .vg { color: #19177C } /* Name.Variable.Global */\n",
              ".cython .vi { color: #19177C } /* Name.Variable.Instance */\n",
              ".cython .vm { color: #19177C } /* Name.Variable.Magic */\n",
              ".cython .il { color: #666666 } /* Literal.Number.Integer.Long */\n",
              "    </style>\n",
              "</head>\n",
              "<body class=\"cython\">\n",
              "<p><span style=\"border-bottom: solid 1px grey;\">Generated by Cython 3.0.10</span></p>\n",
              "<p>\n",
              "    <span style=\"background-color: #FFFF00\">Yellow lines</span> hint at Python interaction.<br />\n",
              "    Click on a line that starts with a \"<code>+</code>\" to see the C code that Cython generated for it.\n",
              "</p>\n",
              "<div class=\"cython\"><pre class=\"cython line score-0\">&#xA0;<span class=\"\">01</span>: </pre>\n",
              "<pre class=\"cython line score-16\" onclick=\"(function(s){s.display=s.display==='block'?'none':'block'})(this.nextElementSibling.style)\">+<span class=\"\">02</span>: <span class=\"k\">import</span> <span class=\"nn\">math</span></pre>\n",
              "<pre class='cython code score-16 '>  __pyx_t_2 = <span class='pyx_c_api'>__Pyx_ImportDottedModule</span>(__pyx_n_s_math, NULL);<span class='error_goto'> if (unlikely(!__pyx_t_2)) __PYX_ERR(1, 2, __pyx_L1_error)</span>\n",
              "  <span class='refnanny'>__Pyx_GOTREF</span>(__pyx_t_2);\n",
              "  if (<span class='py_c_api'>PyDict_SetItem</span>(__pyx_d, __pyx_n_s_math, __pyx_t_2) &lt; 0) <span class='error_goto'>__PYX_ERR(1, 2, __pyx_L1_error)</span>\n",
              "  <span class='pyx_macro_api'>__Pyx_DECREF</span>(__pyx_t_2); __pyx_t_2 = 0;\n",
              "/* … */\n",
              "  __pyx_t_2 = <span class='pyx_c_api'>__Pyx_PyDict_NewPresized</span>(0);<span class='error_goto'> if (unlikely(!__pyx_t_2)) __PYX_ERR(1, 2, __pyx_L1_error)</span>\n",
              "  <span class='refnanny'>__Pyx_GOTREF</span>(__pyx_t_2);\n",
              "  if (<span class='py_c_api'>PyDict_SetItem</span>(__pyx_d, __pyx_n_s_test, __pyx_t_2) &lt; 0) <span class='error_goto'>__PYX_ERR(1, 2, __pyx_L1_error)</span>\n",
              "  <span class='pyx_macro_api'>__Pyx_DECREF</span>(__pyx_t_2); __pyx_t_2 = 0;\n",
              "</pre><pre class=\"cython line score-0\">&#xA0;<span class=\"\">03</span>: <span class=\"c\"># use C math functions</span></pre>\n",
              "<pre class=\"cython line score-0\">&#xA0;<span class=\"\">04</span>: <span class=\"k\">from</span> <span class=\"nn\">libc.math</span> <span class=\"k\">cimport</span> <span class=\"n\">sin</span><span class=\"p\">,</span> <span class=\"n\">cos</span></pre>\n",
              "<pre class=\"cython line score-0\">&#xA0;<span class=\"\">05</span>: <span class=\"k\">from</span> <span class=\"nn\">eigency.core</span> <span class=\"k\">cimport</span> <span class=\"o\">*</span></pre>\n",
              "<pre class=\"cython line score-0\">&#xA0;<span class=\"\">06</span>: </pre>\n",
              "<pre class=\"cython line score-0\">&#xA0;<span class=\"\">07</span>: <span class=\"k\">cdef</span> <span class=\"kr\">extern</span> <span class=\"k\">from</span> <span class=\"s\">&quot;functions.h&quot;</span><span class=\"p\">:</span></pre>\n",
              "<pre class=\"cython line score-0\">&#xA0;<span class=\"\">08</span>:      <span class=\"k\">cdef</span> <span class=\"kt\">MatrixXd</span> <span class=\"kt\">_function_w_mat_arg</span> <span class=\"s\">&quot;function_w_mat_arg&quot;</span><span class=\"p\">(</span><span class=\"n\">Map</span><span class=\"p\">[</span><span class=\"n\">MatrixXd</span><span class=\"p\">]</span> <span class=\"o\">&amp;</span><span class=\"p\">)</span></pre>\n",
              "<pre class=\"cython line score-0\">&#xA0;<span class=\"\">09</span>: </pre>\n",
              "<pre class=\"cython line score-0\">&#xA0;<span class=\"\">10</span>: <span class=\"c\"># use C types instead of Python types</span></pre>\n",
              "<pre class=\"cython line score-51\" onclick=\"(function(s){s.display=s.display==='block'?'none':'block'})(this.nextElementSibling.style)\">+<span class=\"\">11</span>: <span class=\"k\">def</span> <span class=\"nf\">function_w_mat_arg</span><span class=\"p\">(</span><span class=\"n\">np</span><span class=\"o\">.</span><span class=\"n\">ndarray</span> <span class=\"n\">array</span><span class=\"p\">):</span></pre>\n",
              "<pre class='cython code score-51 '>/* Python wrapper */\n",
              "static PyObject *__pyx_pw_54_cython_magic_583902f51c5075cee7617670ace3d5165134481a_1function_w_mat_arg(PyObject *__pyx_self, \n",
              "#if CYTHON_METH_FASTCALL\n",
              "PyObject *const *__pyx_args, Py_ssize_t __pyx_nargs, PyObject *__pyx_kwds\n",
              "#else\n",
              "PyObject *__pyx_args, PyObject *__pyx_kwds\n",
              "#endif\n",
              "); /*proto*/\n",
              "static PyMethodDef __pyx_mdef_54_cython_magic_583902f51c5075cee7617670ace3d5165134481a_1function_w_mat_arg = {\"function_w_mat_arg\", (PyCFunction)(void*)(__Pyx_PyCFunction_FastCallWithKeywords)__pyx_pw_54_cython_magic_583902f51c5075cee7617670ace3d5165134481a_1function_w_mat_arg, __Pyx_METH_FASTCALL|METH_KEYWORDS, 0};\n",
              "static PyObject *__pyx_pw_54_cython_magic_583902f51c5075cee7617670ace3d5165134481a_1function_w_mat_arg(PyObject *__pyx_self, \n",
              "#if CYTHON_METH_FASTCALL\n",
              "PyObject *const *__pyx_args, Py_ssize_t __pyx_nargs, PyObject *__pyx_kwds\n",
              "#else\n",
              "PyObject *__pyx_args, PyObject *__pyx_kwds\n",
              "#endif\n",
              ") {\n",
              "  PyArrayObject *__pyx_v_array = 0;\n",
              "  #if !CYTHON_METH_FASTCALL\n",
              "  CYTHON_UNUSED Py_ssize_t __pyx_nargs;\n",
              "  #endif\n",
              "  CYTHON_UNUSED PyObject *const *__pyx_kwvalues;\n",
              "  PyObject *__pyx_r = 0;\n",
              "  <span class='refnanny'>__Pyx_RefNannyDeclarations</span>\n",
              "  <span class='refnanny'>__Pyx_RefNannySetupContext</span>(\"function_w_mat_arg (wrapper)\", 0);\n",
              "  #if !CYTHON_METH_FASTCALL\n",
              "  #if CYTHON_ASSUME_SAFE_MACROS\n",
              "  __pyx_nargs = <span class='py_macro_api'>PyTuple_GET_SIZE</span>(__pyx_args);\n",
              "  #else\n",
              "  __pyx_nargs = <span class='py_c_api'>PyTuple_Size</span>(__pyx_args); if (unlikely(__pyx_nargs &lt; 0)) return NULL;\n",
              "  #endif\n",
              "  #endif\n",
              "  __pyx_kwvalues = <span class='pyx_c_api'>__Pyx_KwValues_FASTCALL</span>(__pyx_args, __pyx_nargs);\n",
              "  {\n",
              "    PyObject **__pyx_pyargnames[] = {&amp;__pyx_n_s_array,0};\n",
              "  PyObject* values[1] = {0};\n",
              "    if (__pyx_kwds) {\n",
              "      Py_ssize_t kw_args;\n",
              "      switch (__pyx_nargs) {\n",
              "        case  1: values[0] = <span class='pyx_c_api'>__Pyx_Arg_FASTCALL</span>(__pyx_args, 0);\n",
              "        CYTHON_FALLTHROUGH;\n",
              "        case  0: break;\n",
              "        default: goto __pyx_L5_argtuple_error;\n",
              "      }\n",
              "      kw_args = <span class='pyx_c_api'>__Pyx_NumKwargs_FASTCALL</span>(__pyx_kwds);\n",
              "      switch (__pyx_nargs) {\n",
              "        case  0:\n",
              "        if (likely((values[0] = <span class='pyx_c_api'>__Pyx_GetKwValue_FASTCALL</span>(__pyx_kwds, __pyx_kwvalues, __pyx_n_s_array)) != 0)) {\n",
              "          (void)<span class='pyx_c_api'>__Pyx_Arg_NewRef_FASTCALL</span>(values[0]);\n",
              "          kw_args--;\n",
              "        }\n",
              "        else if (unlikely(<span class='py_c_api'>PyErr_Occurred</span>())) <span class='error_goto'>__PYX_ERR(1, 11, __pyx_L3_error)</span>\n",
              "        else goto __pyx_L5_argtuple_error;\n",
              "      }\n",
              "      if (unlikely(kw_args &gt; 0)) {\n",
              "        const Py_ssize_t kwd_pos_args = __pyx_nargs;\n",
              "        if (unlikely(<span class='pyx_c_api'>__Pyx_ParseOptionalKeywords</span>(__pyx_kwds, __pyx_kwvalues, __pyx_pyargnames, 0, values + 0, kwd_pos_args, \"function_w_mat_arg\") &lt; 0)) <span class='error_goto'>__PYX_ERR(1, 11, __pyx_L3_error)</span>\n",
              "      }\n",
              "    } else if (unlikely(__pyx_nargs != 1)) {\n",
              "      goto __pyx_L5_argtuple_error;\n",
              "    } else {\n",
              "      values[0] = <span class='pyx_c_api'>__Pyx_Arg_FASTCALL</span>(__pyx_args, 0);\n",
              "    }\n",
              "    __pyx_v_array = ((PyArrayObject *)values[0]);\n",
              "  }\n",
              "  goto __pyx_L6_skip;\n",
              "  __pyx_L5_argtuple_error:;\n",
              "  <span class='pyx_c_api'>__Pyx_RaiseArgtupleInvalid</span>(\"function_w_mat_arg\", 1, 1, 1, __pyx_nargs); <span class='error_goto'>__PYX_ERR(1, 11, __pyx_L3_error)</span>\n",
              "  __pyx_L6_skip:;\n",
              "  goto __pyx_L4_argument_unpacking_done;\n",
              "  __pyx_L3_error:;\n",
              "  {\n",
              "    Py_ssize_t __pyx_temp;\n",
              "    for (__pyx_temp=0; __pyx_temp &lt; (Py_ssize_t)(sizeof(values)/sizeof(values[0])); ++__pyx_temp) {\n",
              "      <span class='pyx_c_api'>__Pyx_Arg_XDECREF_FASTCALL</span>(values[__pyx_temp]);\n",
              "    }\n",
              "  }\n",
              "  <span class='pyx_c_api'>__Pyx_AddTraceback</span>(\"_cython_magic_583902f51c5075cee7617670ace3d5165134481a.function_w_mat_arg\", __pyx_clineno, __pyx_lineno, __pyx_filename);\n",
              "  <span class='refnanny'>__Pyx_RefNannyFinishContext</span>();\n",
              "  return NULL;\n",
              "  __pyx_L4_argument_unpacking_done:;\n",
              "  if (unlikely(!<span class='pyx_c_api'>__Pyx_ArgTypeTest</span>(((PyObject *)__pyx_v_array), __pyx_ptype_5numpy_ndarray, 1, \"array\", 0))) <span class='error_goto'>__PYX_ERR(1, 11, __pyx_L1_error)</span>\n",
              "  __pyx_r = __pyx_pf_54_cython_magic_583902f51c5075cee7617670ace3d5165134481a_function_w_mat_arg(__pyx_self, __pyx_v_array);\n",
              "  int __pyx_lineno = 0;\n",
              "  const char *__pyx_filename = NULL;\n",
              "  int __pyx_clineno = 0;\n",
              "\n",
              "  /* function exit code */\n",
              "  goto __pyx_L0;\n",
              "  __pyx_L1_error:;\n",
              "  __pyx_r = NULL;\n",
              "  __pyx_L0:;\n",
              "  {\n",
              "    Py_ssize_t __pyx_temp;\n",
              "    for (__pyx_temp=0; __pyx_temp &lt; (Py_ssize_t)(sizeof(values)/sizeof(values[0])); ++__pyx_temp) {\n",
              "      <span class='pyx_c_api'>__Pyx_Arg_XDECREF_FASTCALL</span>(values[__pyx_temp]);\n",
              "    }\n",
              "  }\n",
              "  <span class='refnanny'>__Pyx_RefNannyFinishContext</span>();\n",
              "  return __pyx_r;\n",
              "}\n",
              "\n",
              "static PyObject *__pyx_pf_54_cython_magic_583902f51c5075cee7617670ace3d5165134481a_function_w_mat_arg(CYTHON_UNUSED PyObject *__pyx_self, PyArrayObject *__pyx_v_array) {\n",
              "  PyObject *__pyx_r = NULL;\n",
              "/* … */\n",
              "  /* function exit code */\n",
              "  __pyx_L1_error:;\n",
              "  <span class='pyx_macro_api'>__Pyx_XDECREF</span>(__pyx_t_2);\n",
              "  <span class='pyx_c_api'>__Pyx_AddTraceback</span>(\"_cython_magic_583902f51c5075cee7617670ace3d5165134481a.function_w_mat_arg\", __pyx_clineno, __pyx_lineno, __pyx_filename);\n",
              "  __pyx_r = NULL;\n",
              "  __pyx_L0:;\n",
              "  <span class='refnanny'>__Pyx_XGIVEREF</span>(__pyx_r);\n",
              "  <span class='refnanny'>__Pyx_RefNannyFinishContext</span>();\n",
              "  return __pyx_r;\n",
              "}\n",
              "/* … */\n",
              "  __pyx_tuple__4 = <span class='py_c_api'>PyTuple_Pack</span>(1, __pyx_n_s_array);<span class='error_goto'> if (unlikely(!__pyx_tuple__4)) __PYX_ERR(1, 11, __pyx_L1_error)</span>\n",
              "  <span class='refnanny'>__Pyx_GOTREF</span>(__pyx_tuple__4);\n",
              "  <span class='refnanny'>__Pyx_GIVEREF</span>(__pyx_tuple__4);\n",
              "/* … */\n",
              "  __pyx_t_2 = <span class='pyx_c_api'>__Pyx_CyFunction_New</span>(&amp;__pyx_mdef_54_cython_magic_583902f51c5075cee7617670ace3d5165134481a_1function_w_mat_arg, 0, __pyx_n_s_function_w_mat_arg, NULL, __pyx_n_s_cython_magic_583902f51c5075cee7, __pyx_d, ((PyObject *)__pyx_codeobj__5));<span class='error_goto'> if (unlikely(!__pyx_t_2)) __PYX_ERR(1, 11, __pyx_L1_error)</span>\n",
              "  <span class='refnanny'>__Pyx_GOTREF</span>(__pyx_t_2);\n",
              "  if (<span class='py_c_api'>PyDict_SetItem</span>(__pyx_d, __pyx_n_s_function_w_mat_arg, __pyx_t_2) &lt; 0) <span class='error_goto'>__PYX_ERR(1, 11, __pyx_L1_error)</span>\n",
              "  <span class='pyx_macro_api'>__Pyx_DECREF</span>(__pyx_t_2); __pyx_t_2 = 0;\n",
              "</pre><pre class=\"cython line score-1\" onclick=\"(function(s){s.display=s.display==='block'?'none':'block'})(this.nextElementSibling.style)\">+<span class=\"\">12</span>:     <span class=\"k\">return</span> <span class=\"n\">ndarray</span><span class=\"p\">(</span><span class=\"n\">_function_w_mat_arg</span><span class=\"p\">(</span><span class=\"n\">Map</span><span class=\"p\">[</span><span class=\"n\">MatrixXd</span><span class=\"p\">](</span><span class=\"n\">array</span><span class=\"p\">)))</span></pre>\n",
              "<pre class='cython code score-1 '>  <span class='pyx_macro_api'>__Pyx_XDECREF</span>(__pyx_r);\n",
              "  try {\n",
              "    __pyx_t_1 = eigency::Map&lt;Eigen::MatrixXd&gt; (__pyx_v_array);\n",
              "  } catch(...) {\n",
              "    __Pyx_CppExn2PyErr();\n",
              "    <span class='error_goto'>__PYX_ERR(1, 12, __pyx_L1_error)</span>\n",
              "  }\n",
              "  __pyx_t_2 = ((PyObject *)eigency::ndarray(function_w_mat_arg(__pyx_t_1)));<span class='error_goto'> if (unlikely(!__pyx_t_2)) __PYX_ERR(1, 12, __pyx_L1_error)</span>\n",
              "  <span class='refnanny'>__Pyx_GOTREF</span>(__pyx_t_2);\n",
              "  __pyx_r = __pyx_t_2;\n",
              "  __pyx_t_2 = 0;\n",
              "  goto __pyx_L0;\n",
              "</pre></div></body></html>"
            ],
            "text/plain": [
              "<IPython.core.display.HTML object>"
            ]
          },
          "execution_count": 93,
          "metadata": {},
          "output_type": "execute_result"
        }
      ],
      "source": [
        "%%cython -a --verbose -+ -I /usr/local/lib/python3.10/dist-packages/numpy/core/include/ -I /usr/include/eigen3 -I ./\n",
        "\n",
        "import math\n",
        "# use C math functions\n",
        "from libc.math cimport sin, cos\n",
        "from eigency.core cimport *\n",
        "\n",
        "cdef extern from \"functions.h\":\n",
        "     cdef MatrixXd _function_w_mat_arg \"function_w_mat_arg\"(Map[MatrixXd] &)\n",
        "\n",
        "# use C types instead of Python types\n",
        "def function_w_mat_arg(np.ndarray array):\n",
        "    return ndarray(_function_w_mat_arg(Map[MatrixXd](array)))"
      ]
    },
    {
      "cell_type": "code",
      "execution_count": null,
      "metadata": {
        "colab": {
          "base_uri": "https://localhost:8080/"
        },
        "id": "CJuMglLYVL4K",
        "outputId": "c6d5be83-5dba-4ffc-ebbd-63d9cadaff38"
      },
      "outputs": [
        {
          "data": {
            "text/plain": [
              "array([[1., 1., 1.],\n",
              "       [1., 1., 1.],\n",
              "       [1., 1., 1.]])"
            ]
          },
          "execution_count": 94,
          "metadata": {},
          "output_type": "execute_result"
        }
      ],
      "source": [
        "function_w_mat_arg(np.ones((3,3)))"
      ]
    },
    {
      "cell_type": "markdown",
      "metadata": {
        "id": "A48B3G93Mx0l"
      },
      "source": [
        "# pybind11"
      ]
    },
    {
      "cell_type": "code",
      "execution_count": null,
      "metadata": {
        "colab": {
          "base_uri": "https://localhost:8080/",
          "height": 86
        },
        "id": "vJMA-yx2O3K5",
        "outputId": "bcbdcb27-f90b-4398-b1dd-757d62427bb0"
      },
      "outputs": [
        {
          "name": "stdout",
          "output_type": "stream",
          "text": [
            "  Preparing metadata (setup.py) ... \u001b[?25l\u001b[?25hdone\n",
            "\u001b[2K     \u001b[90m━━━━━━━━━━━━━━━━━━━━━━━━━━━━━━━━━━━━━━━━\u001b[0m \u001b[32m235.0/235.0 kB\u001b[0m \u001b[31m4.7 MB/s\u001b[0m eta \u001b[36m0:00:00\u001b[0m\n",
            "\u001b[2K     \u001b[90m━━━━━━━━━━━━━━━━━━━━━━━━━━━━━━━━━━━━━━━━\u001b[0m \u001b[32m1.6/1.6 MB\u001b[0m \u001b[31m39.7 MB/s\u001b[0m eta \u001b[36m0:00:00\u001b[0m\n",
            "\u001b[?25h  Building wheel for ipybind (setup.py) ... \u001b[?25l\u001b[?25hdone\n"
          ]
        },
        {
          "data": {
            "application/javascript": "\n    require(['notebook/js/codecell'], function(cc) {\n        cc.CodeCell.options_default.highlight_modes['magic_text/x-c++src'] =\n            {reg: [/^\\s*%%pybind11/]};\n    });\n    "
          },
          "metadata": {},
          "output_type": "display_data"
        },
        {
          "data": {
            "text/html": [
              "\n",
              "    <style>\n",
              "    .cm-s-ipython span.cm-variable-3 {\n",
              "        color: #208ffb;\n",
              "        font-weight: bold;\n",
              "    }\n",
              "    </style>\n",
              "    "
            ]
          },
          "metadata": {},
          "output_type": "display_data"
        }
      ],
      "source": [
        "if \"google.colab\" in str(get_ipython()):\n",
        "    !pip install git+https://github.com/aldanor/ipybind.git -qqq\n",
        "%load_ext ipybind"
      ]
    },
    {
      "cell_type": "code",
      "execution_count": null,
      "metadata": {
        "id": "79rzg3p7SrNl"
      },
      "outputs": [],
      "source": [
        "%%pybind11\n",
        "\n",
        "#include <pybind11/numpy.h>\n",
        "#include <math.h>\n",
        "#include <eigen3/Eigen/Dense>\n",
        "#include <iostream>\n",
        "PYBIND11_PLUGIN(example) {\n",
        "    py::module m(\"example\");\n",
        "    m.def(\"r_pybind\", [](const py::array_t<double>& x, const py::array_t<double>& y) {\n",
        "        double sum{0};\n",
        "        auto rx{x.unchecked<1>()};\n",
        "        auto ry{y.unchecked<1>()};\n",
        "        for (py::ssize_t i = 0; i < rx.shape(0); i++){\n",
        "            sum += std::cos(rx[i])*std::sin(ry[i]);\n",
        "        }\n",
        "        Eigen::Matrix2d a;\n",
        "        a << 1, 2,\n",
        "            3, 4;\n",
        "\n",
        "        return sum;\n",
        "\n",
        "    });\n",
        "    return m.ptr();\n",
        "}"
      ]
    },
    {
      "cell_type": "code",
      "execution_count": null,
      "metadata": {
        "id": "FRqtLsLlP64v"
      },
      "outputs": [],
      "source": [
        "r_pybind(x, x)"
      ]
    },
    {
      "cell_type": "code",
      "execution_count": null,
      "metadata": {
        "id": "ZtnOeCyMP7dB"
      },
      "outputs": [],
      "source": []
    }
  ],
  "metadata": {
    "colab": {
      "provenance": []
    },
    "kernelspec": {
      "display_name": "Python 3",
      "name": "python3"
    },
    "language_info": {
      "codemirror_mode": {
        "name": "ipython",
        "version": 3
      },
      "file_extension": ".py",
      "mimetype": "text/x-python",
      "name": "python",
      "nbconvert_exporter": "python",
      "pygments_lexer": "ipython3",
      "version": "3.11.7"
    }
  },
  "nbformat": 4,
  "nbformat_minor": 0
}
