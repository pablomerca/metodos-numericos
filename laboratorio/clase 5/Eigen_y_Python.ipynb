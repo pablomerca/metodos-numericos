{
  "cells": [
    {
      "cell_type": "markdown",
      "metadata": {
        "id": "PFFs8-baNq0o"
      },
      "source": [
        "# Eigen y Python\n",
        "\n",
        "En linux se puede instalar Eigen con el paquete libeigen3-dev. También se puede bajar la carpeta eigen para poder elegir bien la versión."
      ]
    },
    {
      "cell_type": "code",
      "execution_count": 2,
      "metadata": {
        "colab": {
          "base_uri": "https://localhost:8080/"
        },
        "id": "VgPMqShmLtWq",
        "outputId": "790242e4-e1f2-4b00-9831-589ec96b9d3b"
      },
      "outputs": [
        {
          "name": "stdout",
          "output_type": "stream",
          "text": [
            "E: Could not open lock file /var/lib/dpkg/lock-frontend - open (13: Permission denied)\n",
            "E: Unable to acquire the dpkg frontend lock (/var/lib/dpkg/lock-frontend), are you root?\n"
          ]
        }
      ],
      "source": [
        "# !git clone https://gitlab.com/libeigen/eigen.git\n",
        "!apt-get install libeigen3-dev"
      ]
    },
    {
      "cell_type": "markdown",
      "metadata": {
        "id": "wIn_vPU1Np68"
      },
      "source": [
        "# Ejemplo Eigen básico"
      ]
    },
    {
      "cell_type": "markdown",
      "metadata": {},
      "source": [
        "%%file file_name, copia todo el contendio de la celda y lo agrega al archivo file_name"
      ]
    },
    {
      "cell_type": "code",
      "execution_count": 2,
      "metadata": {
        "colab": {
          "base_uri": "https://localhost:8080/"
        },
        "id": "FY8QivUpHnzn",
        "outputId": "334e5176-b248-42c6-f32d-455f56945404"
      },
      "outputs": [
        {
          "name": "stdout",
          "output_type": "stream",
          "text": [
            "Overwriting eigen_test.cpp\n"
          ]
        }
      ],
      "source": [
        "%%file eigen_test.cpp\n",
        "\n",
        "\n",
        "#include <iostream>\n",
        "#include <eigen3/Eigen/Dense>\n",
        "\n",
        "int main()\n",
        "{\n",
        "  Eigen::Matrix2d a;\n",
        "  a << 1, 2,\n",
        "       3, 4;\n",
        "  Eigen::MatrixXd b(2,2);   // matriz de tamanio dinamico\n",
        "  b << 2, 3,\n",
        "       1, 4;\n",
        "  std::cout << \"a + b =\\n\" << a + b << std::endl;\n",
        "  std::cout << \"a - b =\\n\" << a - b << std::endl;\n",
        "  std::cout << \"Doing a += b;\" << std::endl;\n",
        "  a += b;\n",
        "  std::cout << \"Now a =\\n\" << a << std::endl;\n",
        "  Eigen::Vector3d v(1,2,3);\n",
        "  Eigen::Vector3d w(1,0,0);\n",
        "  std::cout << \"-v + w - v =\\n\" << -v + w - v << std::endl;\n",
        "}"
      ]
    },
    {
      "cell_type": "code",
      "execution_count": 3,
      "metadata": {
        "colab": {
          "base_uri": "https://localhost:8080/"
        },
        "id": "qCHOTPHHLGNq",
        "outputId": "600f9370-2917-4a08-f635-8239164c1787"
      },
      "outputs": [
        {
          "name": "stdout",
          "output_type": "stream",
          "text": [
            "a + b =\n",
            "3 5\n",
            "4 8\n",
            "a - b =\n",
            "-1 -1\n",
            " 2  0\n",
            "Doing a += b;\n",
            "Now a =\n",
            "3 5\n",
            "4 8\n",
            "-v + w - v =\n",
            "-1\n",
            "-4\n",
            "-6\n"
          ]
        }
      ],
      "source": [
        "%%bash\n",
        "\n",
        "# g++ -I eigen eigen_test.cpp -o out\n",
        "g++ eigen_test.cpp -o out\n",
        "./out"
      ]
    },
    {
      "cell_type": "markdown",
      "metadata": {
        "id": "mzV9zoFLOOeK"
      },
      "source": [
        "## Ejemplo con una función de producto matriz vector"
      ]
    },
    {
      "cell_type": "code",
      "execution_count": 6,
      "metadata": {
        "colab": {
          "base_uri": "https://localhost:8080/"
        },
        "id": "-rwvKND9Onn7",
        "outputId": "b1816abc-92ab-45cb-8be7-306915bca11c"
      },
      "outputs": [
        {
          "name": "stdout",
          "output_type": "stream",
          "text": [
            "Writing eigen_types_test.cpp\n"
          ]
        }
      ],
      "source": [
        "%%file eigen_types_test.cpp\n",
        "\n",
        "#include <iostream>\n",
        "#include <eigen3/Eigen/Dense>\n",
        "\n",
        "using Eigen::MatrixXd;\n",
        "using Eigen::VectorXd;\n",
        "\n",
        "VectorXd matrix_vector_multiplication(const MatrixXd& matrix, const VectorXd& vector) {\n",
        "    return matrix * vector;\n",
        "}\n",
        "\n",
        "\n",
        "int main() {\n",
        "    // Example usage\n",
        "    MatrixXd A(3, 3);\n",
        "    A << 1, 2, 3,\n",
        "         4, 5, 6,\n",
        "         7, 8, 9;\n",
        "\n",
        "    VectorXd b(3);\n",
        "    b << 1, 2, 3;\n",
        "\n",
        "    VectorXd c = matrix_vector_multiplication(A, b);\n",
        "\n",
        "    std::cout << \"Result of matrix-vector multiplication: \" << c.transpose() << std::endl;\n",
        "\n",
        "    return 0;\n",
        "}"
      ]
    },
    {
      "cell_type": "markdown",
      "metadata": {
        "id": "VgSS_GCfOVGP"
      },
      "source": [
        "## Compilamos"
      ]
    },
    {
      "cell_type": "code",
      "execution_count": 7,
      "metadata": {
        "colab": {
          "base_uri": "https://localhost:8080/"
        },
        "id": "aI83vHtVRehz",
        "outputId": "fb68f951-28a9-44e1-91aa-e7bbcf7c3bb8"
      },
      "outputs": [
        {
          "name": "stdout",
          "output_type": "stream",
          "text": [
            "Result of matrix-vector multiplication: 14 32 50\n"
          ]
        }
      ],
      "source": [
        "%%bash\n",
        "# g++ -Ieigen eigen_types_test.cpp -o out\n",
        "g++ eigen_types_test.cpp -o out\n",
        "./out"
      ]
    },
    {
      "cell_type": "markdown",
      "metadata": {
        "id": "5-HCLU62OS49"
      },
      "source": [
        "## Comparamos con numpy"
      ]
    },
    {
      "cell_type": "code",
      "execution_count": 4,
      "metadata": {
        "colab": {
          "base_uri": "https://localhost:8080/"
        },
        "id": "sTIb0b2SaZfd",
        "outputId": "08c4f0b3-914f-4a63-a38b-3704a39efe8b"
      },
      "outputs": [
        {
          "data": {
            "text/plain": [
              "array([14., 32., 50.])"
            ]
          },
          "execution_count": 4,
          "metadata": {},
          "output_type": "execute_result"
        }
      ],
      "source": [
        "import numpy as np\n",
        "A = np.array([[1, 2, 3], [4, 5, 6], [7, 8, 9]], dtype=np.float64)\n",
        "b = np.array([1, 2, 3], dtype=np.float64)\n",
        "A@b"
      ]
    },
    {
      "cell_type": "markdown",
      "metadata": {
        "id": "D7tD2_CbOcwU"
      },
      "source": [
        "# Opción con entrada y salida de archivos de texto"
      ]
    },
    {
      "cell_type": "code",
      "execution_count": 9,
      "metadata": {
        "colab": {
          "base_uri": "https://localhost:8080/"
        },
        "id": "o4rM_Wk-Kgyt",
        "outputId": "1d250a37-7f19-4986-b2fa-024267cdafe5"
      },
      "outputs": [
        {
          "name": "stdout",
          "output_type": "stream",
          "text": [
            "Writing eigen_types_iofile_test.cpp\n"
          ]
        }
      ],
      "source": [
        "%%file eigen_types_iofile_test.cpp\n",
        "\n",
        "#include <iostream>\n",
        "#include <fstream>\n",
        "#include <eigen3/Eigen/Dense>\n",
        "\n",
        "using Eigen::MatrixXd;\n",
        "using Eigen::VectorXd;\n",
        "\n",
        "VectorXd matrix_vector_multiplication(const MatrixXd& matrix, const VectorXd& vector) {\n",
        "    return matrix * vector;\n",
        "}\n",
        "\n",
        "int main(int argc, char** argv) {\n",
        "    if (argc != 3) {\n",
        "        std::cerr << \"Usage: \" << argv[0] << \" input_file output_file\" << std::endl;\n",
        "        return 1;  // codigo 1 para cantidad incorrecta de argumentos.\n",
        "    }\n",
        "\n",
        "    const char* input_file = argv[1];\n",
        "    const char* output_file = argv[2];\n",
        "\n",
        "    std::ifstream fin(input_file);\n",
        "    if (!fin.is_open()) {\n",
        "        std::cerr << \"Error: could not open input file \" << input_file << std::endl;\n",
        "        return 1;\n",
        "    }\n",
        "\n",
        "    // Read matrix and vector from file\n",
        "    int nrows, ncols;\n",
        "    fin >> nrows >> ncols;\n",
        "\n",
        "    MatrixXd A(nrows, ncols);\n",
        "    for (int i = 0; i < nrows; i++) {\n",
        "        for (int j = 0; j < ncols; j++) {\n",
        "            fin >> A(i, j);\n",
        "        }\n",
        "    }\n",
        "\n",
        "    VectorXd b(ncols);\n",
        "    for (int i = 0; i < ncols; i++) {\n",
        "        fin >> b(i);\n",
        "    }\n",
        "\n",
        "    fin.close();\n",
        "\n",
        "    // Perform matrix-vector multiplication\n",
        "    VectorXd c = matrix_vector_multiplication(A, b);\n",
        "\n",
        "    // Write result to output file\n",
        "    std::ofstream fout(output_file);\n",
        "    if (!fout.is_open()) {\n",
        "        std::cerr << \"Error: could not open output file \" << output_file << std::endl;\n",
        "        return 1;\n",
        "    }\n",
        "\n",
        "    fout << c.transpose() << std::endl;\n",
        "\n",
        "    fout.close();\n",
        "\n",
        "    return 0;\n",
        "}\n"
      ]
    },
    {
      "cell_type": "markdown",
      "metadata": {
        "id": "yrD71RsoOgTi"
      },
      "source": [
        "## Escribimos un archivo de texto con numpy"
      ]
    },
    {
      "cell_type": "markdown",
      "metadata": {},
      "source": [
        "!rm input_data.txt  # borra el archivo si es que ya existe.\n",
        "\n",
        "with foo as bar :\n",
        "crea un contexto en el que vamos a trabajar, y se encarga de manejar las excepciones... si lo usamos con archivos, va a cerrar el archivo automaticamente al terminar su scope, aunque se hayan producido exepciones."
      ]
    },
    {
      "cell_type": "code",
      "execution_count": 5,
      "metadata": {
        "colab": {
          "base_uri": "https://localhost:8080/"
        },
        "id": "3Bft8GqzKy2o",
        "outputId": "37efa844-0865-4f22-c0e2-49b51f9dc78c"
      },
      "outputs": [
        {
          "name": "stdout",
          "output_type": "stream",
          "text": [
            "3 3\n",
            "1.000000000000000000e+00 2.000000000000000000e+00 3.000000000000000000e+00\n",
            "4.000000000000000000e+00 5.000000000000000000e+00 6.000000000000000000e+00\n",
            "7.000000000000000000e+00 8.000000000000000000e+00 9.000000000000000000e+00\n",
            "1.000 2.000 3.000\n"
          ]
        }
      ],
      "source": [
        "A = np.array([[1, 2, 3], [4, 5, 6], [7, 8, 9]], dtype=np.float64)\n",
        "b = np.array([1, 2, 3], dtype=np.float64)\n",
        "\n",
        "# borramos el archivo input si ya existe\n",
        "!rm input_data.txt \n",
        "\n",
        "with open('input_data.txt','a') as fin: \n",
        "    fin.write(f\"{A.shape[0]} {A.shape[1]}\\n\")\n",
        "    np.savetxt(fin,A, newline=\"\\n\")\n",
        "\n",
        "    # si no hacemos reshape a b,lo imprime como vector columna!\n",
        "    # reshape(1,-1) es volverlo matriz de 1 row, y cuantas cols necesite (-1)\n",
        "    np.savetxt(fin, b.reshape(1,-1), fmt='%1.3f', newline=\"\\n\")\n",
        "\n",
        "!cat input_data.txt\n"
      ]
    },
    {
      "cell_type": "markdown",
      "metadata": {
        "id": "e3hgu6HrOjTo"
      },
      "source": [
        "## Compilamos y ejecutamos"
      ]
    },
    {
      "cell_type": "code",
      "execution_count": 17,
      "metadata": {
        "colab": {
          "base_uri": "https://localhost:8080/"
        },
        "id": "moPr6yRfMFma",
        "outputId": "e111a13e-35a3-46d4-d67c-29f0ad7f5569"
      },
      "outputs": [
        {
          "name": "stdout",
          "output_type": "stream",
          "text": [
            "14 32 50\n"
          ]
        }
      ],
      "source": [
        "%%bash\n",
        "\n",
        "# compilamos\n",
        "g++ eigen_types_iofile_test.cpp -o out\n",
        "\n",
        "# llamamos a la funcion con sus argumentos por linea de comandos\n",
        "./out input_data.txt output_data.txt\n",
        "\n",
        "# printeamos el resultado del archivo output\n",
        "cat output_data.txt"
      ]
    },
    {
      "cell_type": "code",
      "execution_count": 19,
      "metadata": {
        "colab": {
          "base_uri": "https://localhost:8080/"
        },
        "id": "8DrJB157NY1f",
        "outputId": "1b6f8cd4-1ee4-440e-c361-fd170a1bfd9b"
      },
      "outputs": [
        {
          "data": {
            "text/plain": [
              "array([14., 32., 50.])"
            ]
          },
          "execution_count": 19,
          "metadata": {},
          "output_type": "execute_result"
        }
      ],
      "source": [
        "np.loadtxt('output_data.txt')"
      ]
    },
    {
      "cell_type": "markdown",
      "metadata": {
        "id": "I_wTexFlNlmX"
      },
      "source": [
        "# Usando Python ctypes"
      ]
    },
    {
      "cell_type": "markdown",
      "metadata": {},
      "source": [
        "Map<MatrixXd> es para crear un objeto que utiliza un pedazo de memoria existente!!\n",
        "Osea, mapea una region de memoria para que sea una MatrixXd en este caso!\n",
        "Los parametros que toman estos mapas, son un puntero a la region de memoria y las dimensiones\n",
        "del objeto."
      ]
    },
    {
      "cell_type": "code",
      "execution_count": 22,
      "metadata": {
        "colab": {
          "base_uri": "https://localhost:8080/"
        },
        "id": "dr6bNB64ZkVN",
        "outputId": "ab1dc9b9-24ce-416f-c5fb-2efdaaaef831"
      },
      "outputs": [
        {
          "name": "stdout",
          "output_type": "stream",
          "text": [
            "Overwriting eigen_ctypes_test.cpp\n"
          ]
        }
      ],
      "source": [
        "%%file eigen_ctypes_test.cpp\n",
        "\n",
        "#include <iostream>\n",
        "#include <eigen3/Eigen/Dense>\n",
        "#include <dlfcn.h>\n",
        "\n",
        "using namespace Eigen;\n",
        "\n",
        "extern \"C\" {\n",
        "    void matrix_vector_multiply(double* matrix, double* vector, double* result, int rows, int cols) {\n",
        "        Map<MatrixXd> mat(matrix, rows, cols);\n",
        "        Map<VectorXd> vec(vector, cols);\n",
        "        Map<VectorXd> res(result, rows);\n",
        "        res = mat * vec ;\n",
        "    }\n",
        "}"
      ]
    },
    {
      "cell_type": "markdown",
      "metadata": {},
      "source": [
        "The .so file extension stands for \"Shared Object\". It is used for dynamically linked libraries in Unix-like operating systems, including Linux. These libraries are loaded at runtime by the operating system when they are required by a program. They are similar to DLL files in Windows."
      ]
    },
    {
      "cell_type": "code",
      "execution_count": 23,
      "metadata": {
        "colab": {
          "base_uri": "https://localhost:8080/"
        },
        "id": "gQ2ZBGfLZpf9",
        "outputId": "6f2b8d71-d640-4936-ced9-32c0394b9b97"
      },
      "outputs": [
        {
          "name": "stdout",
          "output_type": "stream",
          "text": [
            "clase.pdf\t       eigen_types_iofile_test.cpp  met_pot_alu_20241C.ipynb\n",
            "eigen_ctypes_test.cpp  eigen_types_test.cpp\t    out\n",
            "eigen_ctypes_test.so   Eigen_y_Python.ipynb\t    output_data.txt\n",
            "eigen_test.cpp\t       input_data.txt\n"
          ]
        }
      ],
      "source": [
        "!rm eigen_ctypes_test.so # borramos por las dudas\n",
        "\n",
        "# compila el .cpp en una shared library .so  (shared object)\n",
        "!g++ -shared -fPIC -Llibdl -o eigen_ctypes_test.so eigen_ctypes_test.cpp\n",
        "\n",
        "!ls # chequeamos que este la lib .so"
      ]
    },
    {
      "cell_type": "markdown",
      "metadata": {},
      "source": [
        "The provided Python code defines a class sharedlib that is used to load and interact with shared libraries (also known as dynamic link libraries). This is done using the ctypes module, which provides C-compatible data types and allows calling functions in DLLs/shared libraries.\n",
        "\n",
        "Here's a breakdown of the class:\n",
        "\n",
        "- dlclose = ctypes.CDLL(None).dlclose: This line loads the dlclose function from the standard C library. dlclose is a function that closes a library previously opened by dlopen. Note that this won't work on Windows because dlclose is not available in the Windows C runtime.\n",
        "\n",
        "- dlclose.argtypes = (ctypes.c_void_p,): This line sets the argument types for the dlclose function. It expects a single argument of type void* (pointer to void).\n",
        "\n",
        "__init__(self, path, method, *args): This is the constructor of the sharedlib class. It takes a path to the shared library, the name of a method in the library, and a variable number of arguments that specify the argument types of the method.\n",
        "\n",
        "- self.lib = ctypes.cdll.LoadLibrary(f'./{path}'): This line loads the shared library at the given path.\n",
        "\n",
        "- self.method_object = getattr(self.lib, method): This line gets the method from the library.\n",
        "\n",
        "- self.method_object.argtypes = args: This line sets the argument types for the method. This is necessary because ctypes needs to know the argument types to correctly convert Python values to C values.\n",
        "\n",
        "__call__(self, *args): This method allows instances of the class to be called like functions. It calls the method in the shared library with the given arguments.\n",
        "\n",
        "- unload(self): This method unloads the shared library by repeatedly calling dlclose until it fails (which indicates that the library has been successfully unloaded).\n",
        "\n",
        "The last lines of the code create an instance of the sharedlib class for a shared library named eigen_ctypes_test.so and a method named matrix_vector_multiply. The method takes five arguments: three pointers to doubles and two integers."
      ]
    },
    {
      "cell_type": "code",
      "execution_count": 26,
      "metadata": {
        "colab": {
          "base_uri": "https://localhost:8080/"
        },
        "id": "JT_zJndNZp5y",
        "outputId": "1c911f13-b3f0-48da-9623-bd25d0ca1fd6"
      },
      "outputs": [
        {
          "data": {
            "text/plain": [
              "array([14., 32., 50.])"
            ]
          },
          "execution_count": 26,
          "metadata": {},
          "output_type": "execute_result"
        }
      ],
      "source": [
        "import ctypes\n",
        "import numpy as np\n",
        "\n",
        "class sharedlib():\n",
        "    # dlclose es una funcion en una variable    \n",
        "    dlclose = ctypes.CDLL(None).dlclose  # This WON'T work on Win\n",
        "    dlclose.argtypes = (ctypes.c_void_p,)\n",
        "\n",
        "    def __init__(self, path, method, *args):\n",
        "        \n",
        "        # en el atributo lib, tenemos la libreria que importamos.\n",
        "        self.lib = ctypes.cdll.LoadLibrary(f'./{path}')\n",
        "\n",
        "        # en method_object tenemos el metodo que queremos usar de la libreria que importamos.\n",
        "        self.method_object = getattr(self.lib, method)\n",
        "\n",
        "        # Se explicitan los tipos de los argumentos para el método deseado\n",
        "        self.method_object.argtypes = args\n",
        "\n",
        "    # de esta manera, podemos llamar a una instancia de la clase como una funcion\n",
        "    def __call__(self, *args):\n",
        "        # al llamar a la instancia, ejecutamos el metodo de C que le cargamos en init\n",
        "        return self.method_object(*args)\n",
        "\n",
        "    def unload(self):\n",
        "        while self.dlclose(self.lib._handle) != -1:\n",
        "            pass\n",
        "\n",
        "\n",
        "lib = sharedlib('eigen_ctypes_test.so', 'matrix_vector_multiply',\n",
        "                                                                ctypes.POINTER(ctypes.c_double),\n",
        "                                                                ctypes.POINTER(ctypes.c_double),\n",
        "                                                                ctypes.POINTER(ctypes.c_double),\n",
        "                                                                ctypes.c_int,\n",
        "                                                                ctypes.c_int\n",
        "                                                            )\n",
        "\n",
        "# Creamos la matriz de entrada\n",
        "A = np.array([[1, 2, 3], [4, 5, 6], [7, 8, 9]], dtype=np.float64)\n",
        "\n",
        "# Eigen la mapea transpuesta a la información del puntero así que hay que pasarlo a orden tipo Fortran\n",
        "A = np.asfortranarray(A)\n",
        "b = np.array([1, 2, 3], dtype=np.float64)\n",
        "\n",
        "# Definimos el vector donde se van a guardar los resultados\n",
        "result = np.zeros((3,), dtype=np.float64)\n",
        "\n",
        "# Llamamos a nuestra función en C++ pasando los argumentos de entrada\n",
        "lib(\n",
        "    A.ctypes.data_as(ctypes.POINTER(ctypes.c_double)),\n",
        "    b.ctypes.data_as(ctypes.POINTER(ctypes.c_double)),\n",
        "    result.ctypes.data_as(ctypes.POINTER(ctypes.c_double)),\n",
        "    ctypes.c_int(A.shape[0]),\n",
        "    ctypes.c_int(A.shape[1])\n",
        ")\n",
        "\n",
        "lib.unload() # para poder recompilar la lib hay que cerrarla\n",
        "\n",
        "result"
      ]
    },
    {
      "cell_type": "markdown",
      "metadata": {
        "id": "IpvKMpSRM0gO"
      },
      "source": [
        "# Cython"
      ]
    },
    {
      "cell_type": "code",
      "execution_count": 30,
      "metadata": {},
      "outputs": [
        {
          "name": "stdout",
          "output_type": "stream",
          "text": [
            "Collecting cython\n",
            "  Downloading Cython-3.0.10-cp311-cp311-manylinux_2_17_x86_64.manylinux2014_x86_64.whl.metadata (3.2 kB)\n",
            "Downloading Cython-3.0.10-cp311-cp311-manylinux_2_17_x86_64.manylinux2014_x86_64.whl (3.6 MB)\n",
            "\u001b[2K   \u001b[38;2;114;156;31m━━━━━━━━━━━━━━━━━━━━━━━━━━━━━━━━━━━━━━━━\u001b[0m \u001b[32m3.6/3.6 MB\u001b[0m \u001b[31m15.3 MB/s\u001b[0m eta \u001b[36m0:00:00\u001b[0mm eta \u001b[36m0:00:01\u001b[0m0:01\u001b[0m\n",
            "\u001b[?25hInstalling collected packages: cython\n",
            "Successfully installed cython-3.0.10\n"
          ]
        }
      ],
      "source": [
        "!pip install cython"
      ]
    },
    {
      "cell_type": "code",
      "execution_count": 6,
      "metadata": {
        "id": "W9O1mKlVNMsV"
      },
      "outputs": [],
      "source": [
        "%reload_ext cython"
      ]
    },
    {
      "cell_type": "markdown",
      "metadata": {},
      "source": [
        "This Python code is written in Cython, a programming language that aims to be a superset of Python, designed to give C-like performance with code that is written mostly in Python. Cython is often used to optimize Python code and to extend Python's capabilities by interfacing with C libraries.\n",
        "\n",
        "%%cython -a --verbose\n",
        "\n",
        "This line is a magic command in Jupyter notebook that allows the cell to be run with Cython. The -a flag is used to produce an annotated version of the code, which shows how the Python code is translated into C. The --verbose flag is used to provide more detailed output about the compilation process.\n",
        "\n",
        "- from libc.math cimport sin, cos\n",
        "\n",
        "This line imports the sin and cos functions from the C standard library's math module. In Cython, cimport is used to import C functions, types, or variables.\n",
        "\n",
        "- def r_cython(double[:] x_vec, double[:] y_vec):\n",
        "\n",
        "This line defines a function r_cython that takes two 1D arrays of doubles as arguments. The double[:] syntax is a Cython type declaration for a memoryview, which is a data structure that provides efficient access to arrays of homogeneous C types.\n",
        "\n",
        "- cdef double s = 0 and cdef int i\n",
        "\n",
        "These lines declare two C variables, s of type double and i of type int. In Cython, cdef is used to declare C variables.\n",
        "\n",
        "- for i in range(len(x_vec)): s += cos(x_vec[i])*sin(y_vec[i])\n",
        "\n",
        "This loop iterates over each element in x_vec and y_vec, computes the cosine of the element in x_vec times the sine of the element in y_vec, and adds the result to s.\n",
        "\n",
        "- return s\n",
        "\n",
        "This line returns the final value of s."
      ]
    },
    {
      "cell_type": "code",
      "execution_count": 7,
      "metadata": {
        "id": "8j2QDZ-INIq8"
      },
      "outputs": [
        {
          "name": "stdout",
          "output_type": "stream",
          "text": [
            "[1/1] Cythonizing /home/pablo/.cache/ipython/cython/_cython_magic_24ab382f3e71fd51fa3da52eb6cfeb6826dfa5cd.pyx\n",
            "building '_cython_magic_24ab382f3e71fd51fa3da52eb6cfeb6826dfa5cd' extension\n",
            "x86_64-linux-gnu-gcc -Wno-unused-result -Wsign-compare -DNDEBUG -g -fwrapv -O2 -Wall -g -fstack-protector-strong -Wformat -Werror=format-security -g -fwrapv -O2 -g -fstack-protector-strong -Wformat -Werror=format-security -Wdate-time -D_FORTIFY_SOURCE=2 -fPIC -I/usr/include/python3.10 -c /home/pablo/.cache/ipython/cython/_cython_magic_24ab382f3e71fd51fa3da52eb6cfeb6826dfa5cd.c -o /home/pablo/.cache/ipython/cython/home/pablo/.cache/ipython/cython/_cython_magic_24ab382f3e71fd51fa3da52eb6cfeb6826dfa5cd.o\n",
            "x86_64-linux-gnu-gcc -shared -Wl,-O1 -Wl,-Bsymbolic-functions -Wl,-Bsymbolic-functions -g -fwrapv -O2 -Wl,-Bsymbolic-functions -g -fwrapv -O2 -g -fstack-protector-strong -Wformat -Werror=format-security -Wdate-time -D_FORTIFY_SOURCE=2 /home/pablo/.cache/ipython/cython/home/pablo/.cache/ipython/cython/_cython_magic_24ab382f3e71fd51fa3da52eb6cfeb6826dfa5cd.o -o /home/pablo/.cache/ipython/cython/_cython_magic_24ab382f3e71fd51fa3da52eb6cfeb6826dfa5cd.cpython-310-x86_64-linux-gnu.so\n"
          ]
        },
        {
          "data": {
            "text/html": [
              "<!DOCTYPE html>\n",
              "<!-- Generated by Cython 3.0.10 -->\n",
              "<html>\n",
              "<head>\n",
              "    <meta http-equiv=\"Content-Type\" content=\"text/html; charset=utf-8\" />\n",
              "    <title>Cython: _cython_magic_24ab382f3e71fd51fa3da52eb6cfeb6826dfa5cd.pyx</title>\n",
              "    <style type=\"text/css\">\n",
              "    \n",
              "body.cython { font-family: courier; font-size: 12; }\n",
              "\n",
              ".cython.tag  {  }\n",
              ".cython.line { color: #000000; margin: 0em }\n",
              ".cython.code { font-size: 9; color: #444444; display: none; margin: 0px 0px 0px 8px; border-left: 8px none; }\n",
              "\n",
              ".cython.line .run { background-color: #B0FFB0; }\n",
              ".cython.line .mis { background-color: #FFB0B0; }\n",
              ".cython.code.run  { border-left: 8px solid #B0FFB0; }\n",
              ".cython.code.mis  { border-left: 8px solid #FFB0B0; }\n",
              "\n",
              ".cython.code .py_c_api  { color: red; }\n",
              ".cython.code .py_macro_api  { color: #FF7000; }\n",
              ".cython.code .pyx_c_api  { color: #FF3000; }\n",
              ".cython.code .pyx_macro_api  { color: #FF7000; }\n",
              ".cython.code .refnanny  { color: #FFA000; }\n",
              ".cython.code .trace  { color: #FFA000; }\n",
              ".cython.code .error_goto  { color: #FFA000; }\n",
              "\n",
              ".cython.code .coerce  { color: #008000; border: 1px dotted #008000 }\n",
              ".cython.code .py_attr { color: #FF0000; font-weight: bold; }\n",
              ".cython.code .c_attr  { color: #0000FF; }\n",
              ".cython.code .py_call { color: #FF0000; font-weight: bold; }\n",
              ".cython.code .c_call  { color: #0000FF; }\n",
              "\n",
              ".cython.score-0 {background-color: #FFFFff;}\n",
              ".cython.score-1 {background-color: #FFFFe7;}\n",
              ".cython.score-2 {background-color: #FFFFd4;}\n",
              ".cython.score-3 {background-color: #FFFFc4;}\n",
              ".cython.score-4 {background-color: #FFFFb6;}\n",
              ".cython.score-5 {background-color: #FFFFaa;}\n",
              ".cython.score-6 {background-color: #FFFF9f;}\n",
              ".cython.score-7 {background-color: #FFFF96;}\n",
              ".cython.score-8 {background-color: #FFFF8d;}\n",
              ".cython.score-9 {background-color: #FFFF86;}\n",
              ".cython.score-10 {background-color: #FFFF7f;}\n",
              ".cython.score-11 {background-color: #FFFF79;}\n",
              ".cython.score-12 {background-color: #FFFF73;}\n",
              ".cython.score-13 {background-color: #FFFF6e;}\n",
              ".cython.score-14 {background-color: #FFFF6a;}\n",
              ".cython.score-15 {background-color: #FFFF66;}\n",
              ".cython.score-16 {background-color: #FFFF62;}\n",
              ".cython.score-17 {background-color: #FFFF5e;}\n",
              ".cython.score-18 {background-color: #FFFF5b;}\n",
              ".cython.score-19 {background-color: #FFFF57;}\n",
              ".cython.score-20 {background-color: #FFFF55;}\n",
              ".cython.score-21 {background-color: #FFFF52;}\n",
              ".cython.score-22 {background-color: #FFFF4f;}\n",
              ".cython.score-23 {background-color: #FFFF4d;}\n",
              ".cython.score-24 {background-color: #FFFF4b;}\n",
              ".cython.score-25 {background-color: #FFFF48;}\n",
              ".cython.score-26 {background-color: #FFFF46;}\n",
              ".cython.score-27 {background-color: #FFFF44;}\n",
              ".cython.score-28 {background-color: #FFFF43;}\n",
              ".cython.score-29 {background-color: #FFFF41;}\n",
              ".cython.score-30 {background-color: #FFFF3f;}\n",
              ".cython.score-31 {background-color: #FFFF3e;}\n",
              ".cython.score-32 {background-color: #FFFF3c;}\n",
              ".cython.score-33 {background-color: #FFFF3b;}\n",
              ".cython.score-34 {background-color: #FFFF39;}\n",
              ".cython.score-35 {background-color: #FFFF38;}\n",
              ".cython.score-36 {background-color: #FFFF37;}\n",
              ".cython.score-37 {background-color: #FFFF36;}\n",
              ".cython.score-38 {background-color: #FFFF35;}\n",
              ".cython.score-39 {background-color: #FFFF34;}\n",
              ".cython.score-40 {background-color: #FFFF33;}\n",
              ".cython.score-41 {background-color: #FFFF32;}\n",
              ".cython.score-42 {background-color: #FFFF31;}\n",
              ".cython.score-43 {background-color: #FFFF30;}\n",
              ".cython.score-44 {background-color: #FFFF2f;}\n",
              ".cython.score-45 {background-color: #FFFF2e;}\n",
              ".cython.score-46 {background-color: #FFFF2d;}\n",
              ".cython.score-47 {background-color: #FFFF2c;}\n",
              ".cython.score-48 {background-color: #FFFF2b;}\n",
              ".cython.score-49 {background-color: #FFFF2b;}\n",
              ".cython.score-50 {background-color: #FFFF2a;}\n",
              ".cython.score-51 {background-color: #FFFF29;}\n",
              ".cython.score-52 {background-color: #FFFF29;}\n",
              ".cython.score-53 {background-color: #FFFF28;}\n",
              ".cython.score-54 {background-color: #FFFF27;}\n",
              ".cython.score-55 {background-color: #FFFF27;}\n",
              ".cython.score-56 {background-color: #FFFF26;}\n",
              ".cython.score-57 {background-color: #FFFF26;}\n",
              ".cython.score-58 {background-color: #FFFF25;}\n",
              ".cython.score-59 {background-color: #FFFF24;}\n",
              ".cython.score-60 {background-color: #FFFF24;}\n",
              ".cython.score-61 {background-color: #FFFF23;}\n",
              ".cython.score-62 {background-color: #FFFF23;}\n",
              ".cython.score-63 {background-color: #FFFF22;}\n",
              ".cython.score-64 {background-color: #FFFF22;}\n",
              ".cython.score-65 {background-color: #FFFF22;}\n",
              ".cython.score-66 {background-color: #FFFF21;}\n",
              ".cython.score-67 {background-color: #FFFF21;}\n",
              ".cython.score-68 {background-color: #FFFF20;}\n",
              ".cython.score-69 {background-color: #FFFF20;}\n",
              ".cython.score-70 {background-color: #FFFF1f;}\n",
              ".cython.score-71 {background-color: #FFFF1f;}\n",
              ".cython.score-72 {background-color: #FFFF1f;}\n",
              ".cython.score-73 {background-color: #FFFF1e;}\n",
              ".cython.score-74 {background-color: #FFFF1e;}\n",
              ".cython.score-75 {background-color: #FFFF1e;}\n",
              ".cython.score-76 {background-color: #FFFF1d;}\n",
              ".cython.score-77 {background-color: #FFFF1d;}\n",
              ".cython.score-78 {background-color: #FFFF1c;}\n",
              ".cython.score-79 {background-color: #FFFF1c;}\n",
              ".cython.score-80 {background-color: #FFFF1c;}\n",
              ".cython.score-81 {background-color: #FFFF1c;}\n",
              ".cython.score-82 {background-color: #FFFF1b;}\n",
              ".cython.score-83 {background-color: #FFFF1b;}\n",
              ".cython.score-84 {background-color: #FFFF1b;}\n",
              ".cython.score-85 {background-color: #FFFF1a;}\n",
              ".cython.score-86 {background-color: #FFFF1a;}\n",
              ".cython.score-87 {background-color: #FFFF1a;}\n",
              ".cython.score-88 {background-color: #FFFF1a;}\n",
              ".cython.score-89 {background-color: #FFFF19;}\n",
              ".cython.score-90 {background-color: #FFFF19;}\n",
              ".cython.score-91 {background-color: #FFFF19;}\n",
              ".cython.score-92 {background-color: #FFFF19;}\n",
              ".cython.score-93 {background-color: #FFFF18;}\n",
              ".cython.score-94 {background-color: #FFFF18;}\n",
              ".cython.score-95 {background-color: #FFFF18;}\n",
              ".cython.score-96 {background-color: #FFFF18;}\n",
              ".cython.score-97 {background-color: #FFFF17;}\n",
              ".cython.score-98 {background-color: #FFFF17;}\n",
              ".cython.score-99 {background-color: #FFFF17;}\n",
              ".cython.score-100 {background-color: #FFFF17;}\n",
              ".cython.score-101 {background-color: #FFFF16;}\n",
              ".cython.score-102 {background-color: #FFFF16;}\n",
              ".cython.score-103 {background-color: #FFFF16;}\n",
              ".cython.score-104 {background-color: #FFFF16;}\n",
              ".cython.score-105 {background-color: #FFFF16;}\n",
              ".cython.score-106 {background-color: #FFFF15;}\n",
              ".cython.score-107 {background-color: #FFFF15;}\n",
              ".cython.score-108 {background-color: #FFFF15;}\n",
              ".cython.score-109 {background-color: #FFFF15;}\n",
              ".cython.score-110 {background-color: #FFFF15;}\n",
              ".cython.score-111 {background-color: #FFFF15;}\n",
              ".cython.score-112 {background-color: #FFFF14;}\n",
              ".cython.score-113 {background-color: #FFFF14;}\n",
              ".cython.score-114 {background-color: #FFFF14;}\n",
              ".cython.score-115 {background-color: #FFFF14;}\n",
              ".cython.score-116 {background-color: #FFFF14;}\n",
              ".cython.score-117 {background-color: #FFFF14;}\n",
              ".cython.score-118 {background-color: #FFFF13;}\n",
              ".cython.score-119 {background-color: #FFFF13;}\n",
              ".cython.score-120 {background-color: #FFFF13;}\n",
              ".cython.score-121 {background-color: #FFFF13;}\n",
              ".cython.score-122 {background-color: #FFFF13;}\n",
              ".cython.score-123 {background-color: #FFFF13;}\n",
              ".cython.score-124 {background-color: #FFFF13;}\n",
              ".cython.score-125 {background-color: #FFFF12;}\n",
              ".cython.score-126 {background-color: #FFFF12;}\n",
              ".cython.score-127 {background-color: #FFFF12;}\n",
              ".cython.score-128 {background-color: #FFFF12;}\n",
              ".cython.score-129 {background-color: #FFFF12;}\n",
              ".cython.score-130 {background-color: #FFFF12;}\n",
              ".cython.score-131 {background-color: #FFFF12;}\n",
              ".cython.score-132 {background-color: #FFFF11;}\n",
              ".cython.score-133 {background-color: #FFFF11;}\n",
              ".cython.score-134 {background-color: #FFFF11;}\n",
              ".cython.score-135 {background-color: #FFFF11;}\n",
              ".cython.score-136 {background-color: #FFFF11;}\n",
              ".cython.score-137 {background-color: #FFFF11;}\n",
              ".cython.score-138 {background-color: #FFFF11;}\n",
              ".cython.score-139 {background-color: #FFFF11;}\n",
              ".cython.score-140 {background-color: #FFFF11;}\n",
              ".cython.score-141 {background-color: #FFFF10;}\n",
              ".cython.score-142 {background-color: #FFFF10;}\n",
              ".cython.score-143 {background-color: #FFFF10;}\n",
              ".cython.score-144 {background-color: #FFFF10;}\n",
              ".cython.score-145 {background-color: #FFFF10;}\n",
              ".cython.score-146 {background-color: #FFFF10;}\n",
              ".cython.score-147 {background-color: #FFFF10;}\n",
              ".cython.score-148 {background-color: #FFFF10;}\n",
              ".cython.score-149 {background-color: #FFFF10;}\n",
              ".cython.score-150 {background-color: #FFFF0f;}\n",
              ".cython.score-151 {background-color: #FFFF0f;}\n",
              ".cython.score-152 {background-color: #FFFF0f;}\n",
              ".cython.score-153 {background-color: #FFFF0f;}\n",
              ".cython.score-154 {background-color: #FFFF0f;}\n",
              ".cython.score-155 {background-color: #FFFF0f;}\n",
              ".cython.score-156 {background-color: #FFFF0f;}\n",
              ".cython.score-157 {background-color: #FFFF0f;}\n",
              ".cython.score-158 {background-color: #FFFF0f;}\n",
              ".cython.score-159 {background-color: #FFFF0f;}\n",
              ".cython.score-160 {background-color: #FFFF0f;}\n",
              ".cython.score-161 {background-color: #FFFF0e;}\n",
              ".cython.score-162 {background-color: #FFFF0e;}\n",
              ".cython.score-163 {background-color: #FFFF0e;}\n",
              ".cython.score-164 {background-color: #FFFF0e;}\n",
              ".cython.score-165 {background-color: #FFFF0e;}\n",
              ".cython.score-166 {background-color: #FFFF0e;}\n",
              ".cython.score-167 {background-color: #FFFF0e;}\n",
              ".cython.score-168 {background-color: #FFFF0e;}\n",
              ".cython.score-169 {background-color: #FFFF0e;}\n",
              ".cython.score-170 {background-color: #FFFF0e;}\n",
              ".cython.score-171 {background-color: #FFFF0e;}\n",
              ".cython.score-172 {background-color: #FFFF0e;}\n",
              ".cython.score-173 {background-color: #FFFF0d;}\n",
              ".cython.score-174 {background-color: #FFFF0d;}\n",
              ".cython.score-175 {background-color: #FFFF0d;}\n",
              ".cython.score-176 {background-color: #FFFF0d;}\n",
              ".cython.score-177 {background-color: #FFFF0d;}\n",
              ".cython.score-178 {background-color: #FFFF0d;}\n",
              ".cython.score-179 {background-color: #FFFF0d;}\n",
              ".cython.score-180 {background-color: #FFFF0d;}\n",
              ".cython.score-181 {background-color: #FFFF0d;}\n",
              ".cython.score-182 {background-color: #FFFF0d;}\n",
              ".cython.score-183 {background-color: #FFFF0d;}\n",
              ".cython.score-184 {background-color: #FFFF0d;}\n",
              ".cython.score-185 {background-color: #FFFF0d;}\n",
              ".cython.score-186 {background-color: #FFFF0d;}\n",
              ".cython.score-187 {background-color: #FFFF0c;}\n",
              ".cython.score-188 {background-color: #FFFF0c;}\n",
              ".cython.score-189 {background-color: #FFFF0c;}\n",
              ".cython.score-190 {background-color: #FFFF0c;}\n",
              ".cython.score-191 {background-color: #FFFF0c;}\n",
              ".cython.score-192 {background-color: #FFFF0c;}\n",
              ".cython.score-193 {background-color: #FFFF0c;}\n",
              ".cython.score-194 {background-color: #FFFF0c;}\n",
              ".cython.score-195 {background-color: #FFFF0c;}\n",
              ".cython.score-196 {background-color: #FFFF0c;}\n",
              ".cython.score-197 {background-color: #FFFF0c;}\n",
              ".cython.score-198 {background-color: #FFFF0c;}\n",
              ".cython.score-199 {background-color: #FFFF0c;}\n",
              ".cython.score-200 {background-color: #FFFF0c;}\n",
              ".cython.score-201 {background-color: #FFFF0c;}\n",
              ".cython.score-202 {background-color: #FFFF0c;}\n",
              ".cython.score-203 {background-color: #FFFF0b;}\n",
              ".cython.score-204 {background-color: #FFFF0b;}\n",
              ".cython.score-205 {background-color: #FFFF0b;}\n",
              ".cython.score-206 {background-color: #FFFF0b;}\n",
              ".cython.score-207 {background-color: #FFFF0b;}\n",
              ".cython.score-208 {background-color: #FFFF0b;}\n",
              ".cython.score-209 {background-color: #FFFF0b;}\n",
              ".cython.score-210 {background-color: #FFFF0b;}\n",
              ".cython.score-211 {background-color: #FFFF0b;}\n",
              ".cython.score-212 {background-color: #FFFF0b;}\n",
              ".cython.score-213 {background-color: #FFFF0b;}\n",
              ".cython.score-214 {background-color: #FFFF0b;}\n",
              ".cython.score-215 {background-color: #FFFF0b;}\n",
              ".cython.score-216 {background-color: #FFFF0b;}\n",
              ".cython.score-217 {background-color: #FFFF0b;}\n",
              ".cython.score-218 {background-color: #FFFF0b;}\n",
              ".cython.score-219 {background-color: #FFFF0b;}\n",
              ".cython.score-220 {background-color: #FFFF0b;}\n",
              ".cython.score-221 {background-color: #FFFF0b;}\n",
              ".cython.score-222 {background-color: #FFFF0a;}\n",
              ".cython.score-223 {background-color: #FFFF0a;}\n",
              ".cython.score-224 {background-color: #FFFF0a;}\n",
              ".cython.score-225 {background-color: #FFFF0a;}\n",
              ".cython.score-226 {background-color: #FFFF0a;}\n",
              ".cython.score-227 {background-color: #FFFF0a;}\n",
              ".cython.score-228 {background-color: #FFFF0a;}\n",
              ".cython.score-229 {background-color: #FFFF0a;}\n",
              ".cython.score-230 {background-color: #FFFF0a;}\n",
              ".cython.score-231 {background-color: #FFFF0a;}\n",
              ".cython.score-232 {background-color: #FFFF0a;}\n",
              ".cython.score-233 {background-color: #FFFF0a;}\n",
              ".cython.score-234 {background-color: #FFFF0a;}\n",
              ".cython.score-235 {background-color: #FFFF0a;}\n",
              ".cython.score-236 {background-color: #FFFF0a;}\n",
              ".cython.score-237 {background-color: #FFFF0a;}\n",
              ".cython.score-238 {background-color: #FFFF0a;}\n",
              ".cython.score-239 {background-color: #FFFF0a;}\n",
              ".cython.score-240 {background-color: #FFFF0a;}\n",
              ".cython.score-241 {background-color: #FFFF0a;}\n",
              ".cython.score-242 {background-color: #FFFF0a;}\n",
              ".cython.score-243 {background-color: #FFFF0a;}\n",
              ".cython.score-244 {background-color: #FFFF0a;}\n",
              ".cython.score-245 {background-color: #FFFF0a;}\n",
              ".cython.score-246 {background-color: #FFFF09;}\n",
              ".cython.score-247 {background-color: #FFFF09;}\n",
              ".cython.score-248 {background-color: #FFFF09;}\n",
              ".cython.score-249 {background-color: #FFFF09;}\n",
              ".cython.score-250 {background-color: #FFFF09;}\n",
              ".cython.score-251 {background-color: #FFFF09;}\n",
              ".cython.score-252 {background-color: #FFFF09;}\n",
              ".cython.score-253 {background-color: #FFFF09;}\n",
              ".cython.score-254 {background-color: #FFFF09;}\n",
              "pre { line-height: 125%; }\n",
              "td.linenos .normal { color: inherit; background-color: transparent; padding-left: 5px; padding-right: 5px; }\n",
              "span.linenos { color: inherit; background-color: transparent; padding-left: 5px; padding-right: 5px; }\n",
              "td.linenos .special { color: #000000; background-color: #ffffc0; padding-left: 5px; padding-right: 5px; }\n",
              "span.linenos.special { color: #000000; background-color: #ffffc0; padding-left: 5px; padding-right: 5px; }\n",
              ".cython .hll { background-color: #ffffcc }\n",
              ".cython { background: #f8f8f8; }\n",
              ".cython .c { color: #3D7B7B; font-style: italic } /* Comment */\n",
              ".cython .err { border: 1px solid #FF0000 } /* Error */\n",
              ".cython .k { color: #008000; font-weight: bold } /* Keyword */\n",
              ".cython .o { color: #666666 } /* Operator */\n",
              ".cython .ch { color: #3D7B7B; font-style: italic } /* Comment.Hashbang */\n",
              ".cython .cm { color: #3D7B7B; font-style: italic } /* Comment.Multiline */\n",
              ".cython .cp { color: #9C6500 } /* Comment.Preproc */\n",
              ".cython .cpf { color: #3D7B7B; font-style: italic } /* Comment.PreprocFile */\n",
              ".cython .c1 { color: #3D7B7B; font-style: italic } /* Comment.Single */\n",
              ".cython .cs { color: #3D7B7B; font-style: italic } /* Comment.Special */\n",
              ".cython .gd { color: #A00000 } /* Generic.Deleted */\n",
              ".cython .ge { font-style: italic } /* Generic.Emph */\n",
              ".cython .gr { color: #E40000 } /* Generic.Error */\n",
              ".cython .gh { color: #000080; font-weight: bold } /* Generic.Heading */\n",
              ".cython .gi { color: #008400 } /* Generic.Inserted */\n",
              ".cython .go { color: #717171 } /* Generic.Output */\n",
              ".cython .gp { color: #000080; font-weight: bold } /* Generic.Prompt */\n",
              ".cython .gs { font-weight: bold } /* Generic.Strong */\n",
              ".cython .gu { color: #800080; font-weight: bold } /* Generic.Subheading */\n",
              ".cython .gt { color: #0044DD } /* Generic.Traceback */\n",
              ".cython .kc { color: #008000; font-weight: bold } /* Keyword.Constant */\n",
              ".cython .kd { color: #008000; font-weight: bold } /* Keyword.Declaration */\n",
              ".cython .kn { color: #008000; font-weight: bold } /* Keyword.Namespace */\n",
              ".cython .kp { color: #008000 } /* Keyword.Pseudo */\n",
              ".cython .kr { color: #008000; font-weight: bold } /* Keyword.Reserved */\n",
              ".cython .kt { color: #B00040 } /* Keyword.Type */\n",
              ".cython .m { color: #666666 } /* Literal.Number */\n",
              ".cython .s { color: #BA2121 } /* Literal.String */\n",
              ".cython .na { color: #687822 } /* Name.Attribute */\n",
              ".cython .nb { color: #008000 } /* Name.Builtin */\n",
              ".cython .nc { color: #0000FF; font-weight: bold } /* Name.Class */\n",
              ".cython .no { color: #880000 } /* Name.Constant */\n",
              ".cython .nd { color: #AA22FF } /* Name.Decorator */\n",
              ".cython .ni { color: #717171; font-weight: bold } /* Name.Entity */\n",
              ".cython .ne { color: #CB3F38; font-weight: bold } /* Name.Exception */\n",
              ".cython .nf { color: #0000FF } /* Name.Function */\n",
              ".cython .nl { color: #767600 } /* Name.Label */\n",
              ".cython .nn { color: #0000FF; font-weight: bold } /* Name.Namespace */\n",
              ".cython .nt { color: #008000; font-weight: bold } /* Name.Tag */\n",
              ".cython .nv { color: #19177C } /* Name.Variable */\n",
              ".cython .ow { color: #AA22FF; font-weight: bold } /* Operator.Word */\n",
              ".cython .w { color: #bbbbbb } /* Text.Whitespace */\n",
              ".cython .mb { color: #666666 } /* Literal.Number.Bin */\n",
              ".cython .mf { color: #666666 } /* Literal.Number.Float */\n",
              ".cython .mh { color: #666666 } /* Literal.Number.Hex */\n",
              ".cython .mi { color: #666666 } /* Literal.Number.Integer */\n",
              ".cython .mo { color: #666666 } /* Literal.Number.Oct */\n",
              ".cython .sa { color: #BA2121 } /* Literal.String.Affix */\n",
              ".cython .sb { color: #BA2121 } /* Literal.String.Backtick */\n",
              ".cython .sc { color: #BA2121 } /* Literal.String.Char */\n",
              ".cython .dl { color: #BA2121 } /* Literal.String.Delimiter */\n",
              ".cython .sd { color: #BA2121; font-style: italic } /* Literal.String.Doc */\n",
              ".cython .s2 { color: #BA2121 } /* Literal.String.Double */\n",
              ".cython .se { color: #AA5D1F; font-weight: bold } /* Literal.String.Escape */\n",
              ".cython .sh { color: #BA2121 } /* Literal.String.Heredoc */\n",
              ".cython .si { color: #A45A77; font-weight: bold } /* Literal.String.Interpol */\n",
              ".cython .sx { color: #008000 } /* Literal.String.Other */\n",
              ".cython .sr { color: #A45A77 } /* Literal.String.Regex */\n",
              ".cython .s1 { color: #BA2121 } /* Literal.String.Single */\n",
              ".cython .ss { color: #19177C } /* Literal.String.Symbol */\n",
              ".cython .bp { color: #008000 } /* Name.Builtin.Pseudo */\n",
              ".cython .fm { color: #0000FF } /* Name.Function.Magic */\n",
              ".cython .vc { color: #19177C } /* Name.Variable.Class */\n",
              ".cython .vg { color: #19177C } /* Name.Variable.Global */\n",
              ".cython .vi { color: #19177C } /* Name.Variable.Instance */\n",
              ".cython .vm { color: #19177C } /* Name.Variable.Magic */\n",
              ".cython .il { color: #666666 } /* Literal.Number.Integer.Long */\n",
              "    </style>\n",
              "</head>\n",
              "<body class=\"cython\">\n",
              "<p><span style=\"border-bottom: solid 1px grey;\">Generated by Cython 3.0.10</span></p>\n",
              "<p>\n",
              "    <span style=\"background-color: #FFFF00\">Yellow lines</span> hint at Python interaction.<br />\n",
              "    Click on a line that starts with a \"<code>+</code>\" to see the C code that Cython generated for it.\n",
              "</p>\n",
              "<div class=\"cython\"><pre class=\"cython line score-0\">&#xA0;<span class=\"\">01</span>: </pre>\n",
              "<pre class=\"cython line score-16\" onclick=\"(function(s){s.display=s.display==='block'?'none':'block'})(this.nextElementSibling.style)\">+<span class=\"\">02</span>: <span class=\"k\">import</span> <span class=\"nn\">math</span></pre>\n",
              "<pre class='cython code score-16 '>  __pyx_t_7 = <span class='pyx_c_api'>__Pyx_ImportDottedModule</span>(__pyx_n_s_math, NULL);<span class='error_goto'> if (unlikely(!__pyx_t_7)) __PYX_ERR(0, 2, __pyx_L1_error)</span>\n",
              "  <span class='refnanny'>__Pyx_GOTREF</span>(__pyx_t_7);\n",
              "  if (<span class='py_c_api'>PyDict_SetItem</span>(__pyx_d, __pyx_n_s_math, __pyx_t_7) &lt; 0) <span class='error_goto'>__PYX_ERR(0, 2, __pyx_L1_error)</span>\n",
              "  <span class='pyx_macro_api'>__Pyx_DECREF</span>(__pyx_t_7); __pyx_t_7 = 0;\n",
              "/* … */\n",
              "  __pyx_t_7 = <span class='pyx_c_api'>__Pyx_PyDict_NewPresized</span>(0);<span class='error_goto'> if (unlikely(!__pyx_t_7)) __PYX_ERR(0, 2, __pyx_L1_error)</span>\n",
              "  <span class='refnanny'>__Pyx_GOTREF</span>(__pyx_t_7);\n",
              "  if (<span class='py_c_api'>PyDict_SetItem</span>(__pyx_d, __pyx_n_s_test, __pyx_t_7) &lt; 0) <span class='error_goto'>__PYX_ERR(0, 2, __pyx_L1_error)</span>\n",
              "  <span class='pyx_macro_api'>__Pyx_DECREF</span>(__pyx_t_7); __pyx_t_7 = 0;\n",
              "</pre><pre class=\"cython line score-0\">&#xA0;<span class=\"\">03</span>: <span class=\"c\"># use C math functions</span></pre>\n",
              "<pre class=\"cython line score-0\">&#xA0;<span class=\"\">04</span>: <span class=\"k\">from</span> <span class=\"nn\">libc.math</span> <span class=\"k\">cimport</span> <span class=\"n\">sin</span><span class=\"p\">,</span> <span class=\"n\">cos</span></pre>\n",
              "<pre class=\"cython line score-0\">&#xA0;<span class=\"\">05</span>: </pre>\n",
              "<pre class=\"cython line score-0\">&#xA0;<span class=\"\">06</span>: <span class=\"c\"># use C types instead of Python types</span></pre>\n",
              "<pre class=\"cython line score-68\" onclick=\"(function(s){s.display=s.display==='block'?'none':'block'})(this.nextElementSibling.style)\">+<span class=\"\">07</span>: <span class=\"k\">def</span> <span class=\"nf\">r_cython</span><span class=\"p\">(</span><span class=\"n\">double</span><span class=\"p\">[:]</span> <span class=\"n\">x_vec</span><span class=\"p\">,</span> <span class=\"n\">double</span><span class=\"p\">[:]</span> <span class=\"n\">y_vec</span><span class=\"p\">):</span></pre>\n",
              "<pre class='cython code score-68 '>/* Python wrapper */\n",
              "static PyObject *__pyx_pw_54_cython_magic_24ab382f3e71fd51fa3da52eb6cfeb6826dfa5cd_1r_cython(PyObject *__pyx_self, \n",
              "#if CYTHON_METH_FASTCALL\n",
              "PyObject *const *__pyx_args, Py_ssize_t __pyx_nargs, PyObject *__pyx_kwds\n",
              "#else\n",
              "PyObject *__pyx_args, PyObject *__pyx_kwds\n",
              "#endif\n",
              "); /*proto*/\n",
              "static PyMethodDef __pyx_mdef_54_cython_magic_24ab382f3e71fd51fa3da52eb6cfeb6826dfa5cd_1r_cython = {\"r_cython\", (PyCFunction)(void*)(__Pyx_PyCFunction_FastCallWithKeywords)__pyx_pw_54_cython_magic_24ab382f3e71fd51fa3da52eb6cfeb6826dfa5cd_1r_cython, __Pyx_METH_FASTCALL|METH_KEYWORDS, 0};\n",
              "static PyObject *__pyx_pw_54_cython_magic_24ab382f3e71fd51fa3da52eb6cfeb6826dfa5cd_1r_cython(PyObject *__pyx_self, \n",
              "#if CYTHON_METH_FASTCALL\n",
              "PyObject *const *__pyx_args, Py_ssize_t __pyx_nargs, PyObject *__pyx_kwds\n",
              "#else\n",
              "PyObject *__pyx_args, PyObject *__pyx_kwds\n",
              "#endif\n",
              ") {\n",
              "  __Pyx_memviewslice __pyx_v_x_vec = { 0, 0, { 0 }, { 0 }, { 0 } };\n",
              "  __Pyx_memviewslice __pyx_v_y_vec = { 0, 0, { 0 }, { 0 }, { 0 } };\n",
              "  #if !CYTHON_METH_FASTCALL\n",
              "  CYTHON_UNUSED Py_ssize_t __pyx_nargs;\n",
              "  #endif\n",
              "  CYTHON_UNUSED PyObject *const *__pyx_kwvalues;\n",
              "  PyObject *__pyx_r = 0;\n",
              "  <span class='refnanny'>__Pyx_RefNannyDeclarations</span>\n",
              "  <span class='refnanny'>__Pyx_RefNannySetupContext</span>(\"r_cython (wrapper)\", 0);\n",
              "  #if !CYTHON_METH_FASTCALL\n",
              "  #if CYTHON_ASSUME_SAFE_MACROS\n",
              "  __pyx_nargs = <span class='py_macro_api'>PyTuple_GET_SIZE</span>(__pyx_args);\n",
              "  #else\n",
              "  __pyx_nargs = <span class='py_c_api'>PyTuple_Size</span>(__pyx_args); if (unlikely(__pyx_nargs &lt; 0)) return NULL;\n",
              "  #endif\n",
              "  #endif\n",
              "  __pyx_kwvalues = <span class='pyx_c_api'>__Pyx_KwValues_FASTCALL</span>(__pyx_args, __pyx_nargs);\n",
              "  {\n",
              "    PyObject **__pyx_pyargnames[] = {&amp;__pyx_n_s_x_vec,&amp;__pyx_n_s_y_vec,0};\n",
              "  PyObject* values[2] = {0,0};\n",
              "    if (__pyx_kwds) {\n",
              "      Py_ssize_t kw_args;\n",
              "      switch (__pyx_nargs) {\n",
              "        case  2: values[1] = <span class='pyx_c_api'>__Pyx_Arg_FASTCALL</span>(__pyx_args, 1);\n",
              "        CYTHON_FALLTHROUGH;\n",
              "        case  1: values[0] = <span class='pyx_c_api'>__Pyx_Arg_FASTCALL</span>(__pyx_args, 0);\n",
              "        CYTHON_FALLTHROUGH;\n",
              "        case  0: break;\n",
              "        default: goto __pyx_L5_argtuple_error;\n",
              "      }\n",
              "      kw_args = <span class='pyx_c_api'>__Pyx_NumKwargs_FASTCALL</span>(__pyx_kwds);\n",
              "      switch (__pyx_nargs) {\n",
              "        case  0:\n",
              "        if (likely((values[0] = <span class='pyx_c_api'>__Pyx_GetKwValue_FASTCALL</span>(__pyx_kwds, __pyx_kwvalues, __pyx_n_s_x_vec)) != 0)) {\n",
              "          (void)<span class='pyx_c_api'>__Pyx_Arg_NewRef_FASTCALL</span>(values[0]);\n",
              "          kw_args--;\n",
              "        }\n",
              "        else if (unlikely(<span class='py_c_api'>PyErr_Occurred</span>())) <span class='error_goto'>__PYX_ERR(0, 7, __pyx_L3_error)</span>\n",
              "        else goto __pyx_L5_argtuple_error;\n",
              "        CYTHON_FALLTHROUGH;\n",
              "        case  1:\n",
              "        if (likely((values[1] = <span class='pyx_c_api'>__Pyx_GetKwValue_FASTCALL</span>(__pyx_kwds, __pyx_kwvalues, __pyx_n_s_y_vec)) != 0)) {\n",
              "          (void)<span class='pyx_c_api'>__Pyx_Arg_NewRef_FASTCALL</span>(values[1]);\n",
              "          kw_args--;\n",
              "        }\n",
              "        else if (unlikely(<span class='py_c_api'>PyErr_Occurred</span>())) <span class='error_goto'>__PYX_ERR(0, 7, __pyx_L3_error)</span>\n",
              "        else {\n",
              "          <span class='pyx_c_api'>__Pyx_RaiseArgtupleInvalid</span>(\"r_cython\", 1, 2, 2, 1); <span class='error_goto'>__PYX_ERR(0, 7, __pyx_L3_error)</span>\n",
              "        }\n",
              "      }\n",
              "      if (unlikely(kw_args &gt; 0)) {\n",
              "        const Py_ssize_t kwd_pos_args = __pyx_nargs;\n",
              "        if (unlikely(<span class='pyx_c_api'>__Pyx_ParseOptionalKeywords</span>(__pyx_kwds, __pyx_kwvalues, __pyx_pyargnames, 0, values + 0, kwd_pos_args, \"r_cython\") &lt; 0)) <span class='error_goto'>__PYX_ERR(0, 7, __pyx_L3_error)</span>\n",
              "      }\n",
              "    } else if (unlikely(__pyx_nargs != 2)) {\n",
              "      goto __pyx_L5_argtuple_error;\n",
              "    } else {\n",
              "      values[0] = <span class='pyx_c_api'>__Pyx_Arg_FASTCALL</span>(__pyx_args, 0);\n",
              "      values[1] = <span class='pyx_c_api'>__Pyx_Arg_FASTCALL</span>(__pyx_args, 1);\n",
              "    }\n",
              "    __pyx_v_x_vec = <span class='pyx_c_api'>__Pyx_PyObject_to_MemoryviewSlice_ds_double</span>(values[0], PyBUF_WRITABLE);<span class='error_goto'> if (unlikely(!__pyx_v_x_vec.memview)) __PYX_ERR(0, 7, __pyx_L3_error)</span>\n",
              "    __pyx_v_y_vec = <span class='pyx_c_api'>__Pyx_PyObject_to_MemoryviewSlice_ds_double</span>(values[1], PyBUF_WRITABLE);<span class='error_goto'> if (unlikely(!__pyx_v_y_vec.memview)) __PYX_ERR(0, 7, __pyx_L3_error)</span>\n",
              "  }\n",
              "  goto __pyx_L6_skip;\n",
              "  __pyx_L5_argtuple_error:;\n",
              "  <span class='pyx_c_api'>__Pyx_RaiseArgtupleInvalid</span>(\"r_cython\", 1, 2, 2, __pyx_nargs); <span class='error_goto'>__PYX_ERR(0, 7, __pyx_L3_error)</span>\n",
              "  __pyx_L6_skip:;\n",
              "  goto __pyx_L4_argument_unpacking_done;\n",
              "  __pyx_L3_error:;\n",
              "  {\n",
              "    Py_ssize_t __pyx_temp;\n",
              "    for (__pyx_temp=0; __pyx_temp &lt; (Py_ssize_t)(sizeof(values)/sizeof(values[0])); ++__pyx_temp) {\n",
              "      <span class='pyx_c_api'>__Pyx_Arg_XDECREF_FASTCALL</span>(values[__pyx_temp]);\n",
              "    }\n",
              "  }\n",
              "  __PYX_XCLEAR_MEMVIEW(&amp;__pyx_v_x_vec, 1);\n",
              "  __PYX_XCLEAR_MEMVIEW(&amp;__pyx_v_y_vec, 1);\n",
              "  <span class='pyx_c_api'>__Pyx_AddTraceback</span>(\"_cython_magic_24ab382f3e71fd51fa3da52eb6cfeb6826dfa5cd.r_cython\", __pyx_clineno, __pyx_lineno, __pyx_filename);\n",
              "  <span class='refnanny'>__Pyx_RefNannyFinishContext</span>();\n",
              "  return NULL;\n",
              "  __pyx_L4_argument_unpacking_done:;\n",
              "  __pyx_r = __pyx_pf_54_cython_magic_24ab382f3e71fd51fa3da52eb6cfeb6826dfa5cd_r_cython(__pyx_self, __pyx_v_x_vec, __pyx_v_y_vec);\n",
              "  int __pyx_lineno = 0;\n",
              "  const char *__pyx_filename = NULL;\n",
              "  int __pyx_clineno = 0;\n",
              "\n",
              "  /* function exit code */\n",
              "  __PYX_XCLEAR_MEMVIEW(&amp;__pyx_v_x_vec, 1);\n",
              "  __PYX_XCLEAR_MEMVIEW(&amp;__pyx_v_y_vec, 1);\n",
              "  {\n",
              "    Py_ssize_t __pyx_temp;\n",
              "    for (__pyx_temp=0; __pyx_temp &lt; (Py_ssize_t)(sizeof(values)/sizeof(values[0])); ++__pyx_temp) {\n",
              "      <span class='pyx_c_api'>__Pyx_Arg_XDECREF_FASTCALL</span>(values[__pyx_temp]);\n",
              "    }\n",
              "  }\n",
              "  <span class='refnanny'>__Pyx_RefNannyFinishContext</span>();\n",
              "  return __pyx_r;\n",
              "}\n",
              "\n",
              "static PyObject *__pyx_pf_54_cython_magic_24ab382f3e71fd51fa3da52eb6cfeb6826dfa5cd_r_cython(CYTHON_UNUSED PyObject *__pyx_self, __Pyx_memviewslice __pyx_v_x_vec, __Pyx_memviewslice __pyx_v_y_vec) {\n",
              "  double __pyx_v_s;\n",
              "  int __pyx_v_i;\n",
              "  PyObject *__pyx_r = NULL;\n",
              "/* … */\n",
              "  /* function exit code */\n",
              "  __pyx_L1_error:;\n",
              "  <span class='pyx_macro_api'>__Pyx_XDECREF</span>(__pyx_t_7);\n",
              "  <span class='pyx_c_api'>__Pyx_AddTraceback</span>(\"_cython_magic_24ab382f3e71fd51fa3da52eb6cfeb6826dfa5cd.r_cython\", __pyx_clineno, __pyx_lineno, __pyx_filename);\n",
              "  __pyx_r = NULL;\n",
              "  __pyx_L0:;\n",
              "  <span class='refnanny'>__Pyx_XGIVEREF</span>(__pyx_r);\n",
              "  <span class='refnanny'>__Pyx_RefNannyFinishContext</span>();\n",
              "  return __pyx_r;\n",
              "}\n",
              "/* … */\n",
              "  __pyx_tuple__20 = <span class='py_c_api'>PyTuple_Pack</span>(4, __pyx_n_s_x_vec, __pyx_n_s_y_vec, __pyx_n_s_s, __pyx_n_s_i);<span class='error_goto'> if (unlikely(!__pyx_tuple__20)) __PYX_ERR(0, 7, __pyx_L1_error)</span>\n",
              "  <span class='refnanny'>__Pyx_GOTREF</span>(__pyx_tuple__20);\n",
              "  <span class='refnanny'>__Pyx_GIVEREF</span>(__pyx_tuple__20);\n",
              "/* … */\n",
              "  __pyx_t_7 = <span class='pyx_c_api'>__Pyx_CyFunction_New</span>(&amp;__pyx_mdef_54_cython_magic_24ab382f3e71fd51fa3da52eb6cfeb6826dfa5cd_1r_cython, 0, __pyx_n_s_r_cython, NULL, __pyx_n_s_cython_magic_24ab382f3e71fd51fa, __pyx_d, ((PyObject *)__pyx_codeobj__21));<span class='error_goto'> if (unlikely(!__pyx_t_7)) __PYX_ERR(0, 7, __pyx_L1_error)</span>\n",
              "  <span class='refnanny'>__Pyx_GOTREF</span>(__pyx_t_7);\n",
              "  if (<span class='py_c_api'>PyDict_SetItem</span>(__pyx_d, __pyx_n_s_r_cython, __pyx_t_7) &lt; 0) <span class='error_goto'>__PYX_ERR(0, 7, __pyx_L1_error)</span>\n",
              "  <span class='pyx_macro_api'>__Pyx_DECREF</span>(__pyx_t_7); __pyx_t_7 = 0;\n",
              "</pre><pre class=\"cython line score-0\" onclick=\"(function(s){s.display=s.display==='block'?'none':'block'})(this.nextElementSibling.style)\">+<span class=\"\">08</span>:     <span class=\"k\">cdef</span> <span class=\"kt\">double</span> <span class=\"nf\">s</span> <span class=\"o\">=</span> <span class=\"mf\">0</span></pre>\n",
              "<pre class='cython code score-0 '>  __pyx_v_s = 0.0;\n",
              "</pre><pre class=\"cython line score-0\">&#xA0;<span class=\"\">09</span>:     <span class=\"k\">cdef</span> <span class=\"kt\">int</span> <span class=\"nf\">i</span></pre>\n",
              "<pre class=\"cython line score-2\" onclick=\"(function(s){s.display=s.display==='block'?'none':'block'})(this.nextElementSibling.style)\">+<span class=\"\">10</span>:     <span class=\"k\">for</span> <span class=\"n\">i</span> <span class=\"ow\">in</span> <span class=\"nb\">range</span><span class=\"p\">(</span><span class=\"nb\">len</span><span class=\"p\">(</span><span class=\"n\">x_vec</span><span class=\"p\">)):</span></pre>\n",
              "<pre class='cython code score-2 '>  __pyx_t_1 = <span class='pyx_c_api'>__Pyx_MemoryView_Len</span>(__pyx_v_x_vec); \n",
              "  __pyx_t_2 = __pyx_t_1;\n",
              "  for (__pyx_t_3 = 0; __pyx_t_3 &lt; __pyx_t_2; __pyx_t_3+=1) {\n",
              "    __pyx_v_i = __pyx_t_3;\n",
              "</pre><pre class=\"cython line score-4\" onclick=\"(function(s){s.display=s.display==='block'?'none':'block'})(this.nextElementSibling.style)\">+<span class=\"\">11</span>:         <span class=\"n\">s</span> <span class=\"o\">+=</span> <span class=\"n\">cos</span><span class=\"p\">(</span><span class=\"n\">x_vec</span><span class=\"p\">[</span><span class=\"n\">i</span><span class=\"p\">])</span><span class=\"o\">*</span><span class=\"n\">sin</span><span class=\"p\">(</span><span class=\"n\">y_vec</span><span class=\"p\">[</span><span class=\"n\">i</span><span class=\"p\">])</span></pre>\n",
              "<pre class='cython code score-4 '>    __pyx_t_4 = __pyx_v_i;\n",
              "    __pyx_t_5 = -1;\n",
              "    if (__pyx_t_4 &lt; 0) {\n",
              "      __pyx_t_4 += __pyx_v_x_vec.shape[0];\n",
              "      if (unlikely(__pyx_t_4 &lt; 0)) __pyx_t_5 = 0;\n",
              "    } else if (unlikely(__pyx_t_4 &gt;= __pyx_v_x_vec.shape[0])) __pyx_t_5 = 0;\n",
              "    if (unlikely(__pyx_t_5 != -1)) {\n",
              "      <span class='pyx_c_api'>__Pyx_RaiseBufferIndexError</span>(__pyx_t_5);\n",
              "      <span class='error_goto'>__PYX_ERR(0, 11, __pyx_L1_error)</span>\n",
              "    }\n",
              "    __pyx_t_6 = __pyx_v_i;\n",
              "    __pyx_t_5 = -1;\n",
              "    if (__pyx_t_6 &lt; 0) {\n",
              "      __pyx_t_6 += __pyx_v_y_vec.shape[0];\n",
              "      if (unlikely(__pyx_t_6 &lt; 0)) __pyx_t_5 = 0;\n",
              "    } else if (unlikely(__pyx_t_6 &gt;= __pyx_v_y_vec.shape[0])) __pyx_t_5 = 0;\n",
              "    if (unlikely(__pyx_t_5 != -1)) {\n",
              "      <span class='pyx_c_api'>__Pyx_RaiseBufferIndexError</span>(__pyx_t_5);\n",
              "      <span class='error_goto'>__PYX_ERR(0, 11, __pyx_L1_error)</span>\n",
              "    }\n",
              "    __pyx_v_s = (__pyx_v_s + (cos((*((double *) ( /* dim=0 */ (__pyx_v_x_vec.data + __pyx_t_4 * __pyx_v_x_vec.strides[0]) )))) * sin((*((double *) ( /* dim=0 */ (__pyx_v_y_vec.data + __pyx_t_6 * __pyx_v_y_vec.strides[0]) ))))));\n",
              "  }\n",
              "</pre><pre class=\"cython line score-6\" onclick=\"(function(s){s.display=s.display==='block'?'none':'block'})(this.nextElementSibling.style)\">+<span class=\"\">12</span>:     <span class=\"k\">return</span> <span class=\"n\">s</span></pre>\n",
              "<pre class='cython code score-6 '>  <span class='pyx_macro_api'>__Pyx_XDECREF</span>(__pyx_r);\n",
              "  __pyx_t_7 = <span class='py_c_api'>PyFloat_FromDouble</span>(__pyx_v_s);<span class='error_goto'> if (unlikely(!__pyx_t_7)) __PYX_ERR(0, 12, __pyx_L1_error)</span>\n",
              "  <span class='refnanny'>__Pyx_GOTREF</span>(__pyx_t_7);\n",
              "  __pyx_r = __pyx_t_7;\n",
              "  __pyx_t_7 = 0;\n",
              "  goto __pyx_L0;\n",
              "</pre></div></body></html>"
            ],
            "text/plain": [
              "<IPython.core.display.HTML object>"
            ]
          },
          "execution_count": 7,
          "metadata": {},
          "output_type": "execute_result"
        }
      ],
      "source": [
        "%%cython -a --verbose\n",
        "\n",
        "import math\n",
        "# use C math functions\n",
        "from libc.math cimport sin, cos\n",
        "\n",
        "# use C types instead of Python types\n",
        "def r_cython(double[:] x_vec, double[:] y_vec):\n",
        "    cdef double s = 0\n",
        "    cdef int i\n",
        "    for i in range(len(x_vec)):\n",
        "        s += cos(x_vec[i])*sin(y_vec[i])\n",
        "    return s"
      ]
    },
    {
      "cell_type": "code",
      "execution_count": 8,
      "metadata": {
        "colab": {
          "base_uri": "https://localhost:8080/"
        },
        "id": "veouVIlLNQOu",
        "outputId": "59cac13e-2e0a-4d07-84ca-0913333c8cf0"
      },
      "outputs": [
        {
          "data": {
            "text/plain": [
              "4.546487134128409"
            ]
          },
          "execution_count": 8,
          "metadata": {},
          "output_type": "execute_result"
        }
      ],
      "source": [
        "x = np.ones(10)\n",
        "r_cython(x, x)"
      ]
    },
    {
      "cell_type": "code",
      "execution_count": 34,
      "metadata": {
        "id": "88_5gC-vO02F"
      },
      "outputs": [
        {
          "name": "stdout",
          "output_type": "stream",
          "text": [
            "Collecting eigency\n",
            "  Downloading eigency-3.4.0.2.tar.gz (1.3 MB)\n",
            "\u001b[2K     \u001b[38;2;114;156;31m━━━━━━━━━━━━━━━━━━━━━━━━━━━━━━━━━━━━━━━━\u001b[0m \u001b[32m1.3/1.3 MB\u001b[0m \u001b[31m4.4 MB/s\u001b[0m eta \u001b[36m0:00:00\u001b[0mm eta \u001b[36m0:00:01\u001b[0m00:01\u001b[0m\n",
            "\u001b[?25h  Installing build dependencies ... \u001b[?25ldone\n",
            "\u001b[?25h  Getting requirements to build wheel ... \u001b[?25ldone\n",
            "\u001b[?25h  Installing backend dependencies ... \u001b[?25ldone\n",
            "\u001b[?25h  Preparing metadata (pyproject.toml) ... \u001b[?25ldone\n",
            "\u001b[?25hRequirement already satisfied: numpy in /home/pablo/anaconda3/lib/python3.11/site-packages (from eigency) (1.26.4)\n",
            "Building wheels for collected packages: eigency\n",
            "  Building wheel for eigency (pyproject.toml) ... \u001b[?25ldone\n",
            "\u001b[?25h  Created wheel for eigency: filename=eigency-3.4.0.2-cp311-cp311-linux_x86_64.whl size=1651106 sha256=ee38a48ba484bb9031ee0ffc5c8de9359b9dc2abcec5acf889b580a2f4ffe356\n",
            "  Stored in directory: /home/pablo/.cache/pip/wheels/02/fd/6d/30884c99fdf164a8add4dca4e908521a2d8840bb9673beca47\n",
            "Successfully built eigency\n",
            "Installing collected packages: eigency\n",
            "Successfully installed eigency-3.4.0.2\n"
          ]
        }
      ],
      "source": [
        "!python -m pip install eigency\n",
        "%reload_ext cython"
      ]
    },
    {
      "cell_type": "code",
      "execution_count": 41,
      "metadata": {
        "colab": {
          "base_uri": "https://localhost:8080/"
        },
        "id": "VIz9324SU6W6",
        "outputId": "d19422fd-4da8-405b-ffac-5c1188eb0acf"
      },
      "outputs": [
        {
          "name": "stdout",
          "output_type": "stream",
          "text": [
            "Overwriting functions.h\n"
          ]
        }
      ],
      "source": [
        "%%writefile functions.h\n",
        "Eigen::MatrixXd function_w_mat_arg(const Eigen::Map<Eigen::MatrixXd> &mat) {\n",
        "    std::cout << mat << \"\\n\";\n",
        "    return mat;\n",
        "}"
      ]
    },
    {
      "cell_type": "code",
      "execution_count": 39,
      "metadata": {},
      "outputs": [
        {
          "name": "stdout",
          "output_type": "stream",
          "text": [
            "/home/pablo/anaconda3/lib/python3.11/site-packages/numpy/core/include\n"
          ]
        }
      ],
      "source": [
        "import numpy\n",
        "print(numpy.get_include())"
      ]
    },
    {
      "cell_type": "code",
      "execution_count": 9,
      "metadata": {},
      "outputs": [],
      "source": [
        "%reload_ext cython\n",
        "\n",
        "# los magic commands con %% o % deben estar en la primera linea siempre"
      ]
    },
    {
      "cell_type": "markdown",
      "metadata": {},
      "source": [
        "This Python code is written in Cython, a programming language that is a superset of Python designed to give C-like performance with code that is written mostly in Python. This code is specifically designed to interface with C++ code, using the Eigen library for linear algebra and the numpy library for handling arrays.\n",
        "\n",
        "%%cython -a --verbose -+ -I /home/pablo/anaconda3/lib/python3.11/site-packages/numpy/core/include/ -I /usr/include/eigen3 -I ./\n",
        "\n",
        "This line is a magic command in Jupyter notebook that allows the cell to be run with Cython. The -a flag is used to produce an annotated version of the code, which shows how the Python code is translated into C. The --verbose flag is used to provide more detailed output about the compilation process. The -+ flag enables C++ mode. The -I flags are used to specify the include paths for the numpy and Eigen libraries, as well as the current directory.\n",
        "\n",
        "- import math\n",
        "\n",
        "This line imports the Python math module. However, it's not used in the code and could be removed.\n",
        "\n",
        "- from libc.math cimport sin, cos\n",
        "\n",
        "This line imports the sin and cos functions from the C standard library's math module. In Cython, cimport is used to import C functions, types, or variables.\n",
        "\n",
        "- from eigency.core cimport *\n",
        "\n",
        "This line imports all the functions and types from the eigency.core module, which is a Cython interface to the Eigen library.\n",
        "\n",
        "- cdef extern from \"functions.h\": cdef MatrixXd _function_w_mat_arg \"function_w_mat_arg\"(Map[MatrixXd] &)\n",
        "\n",
        "These lines declare an external C++ function from the header file \"functions.h\". The function is named _function_w_mat_arg in Cython and function_w_mat_arg in C++. It takes a reference to a mapped Eigen MatrixXd object as an argument.\n",
        "\n",
        "- def function_w_mat_arg(np.ndarray array): return ndarray(_function_w_mat_arg(Map[MatrixXd](array)))\n",
        "\n",
        "These lines define a Python function that wraps the C++ function. It takes a numpy array as an argument, maps it to an Eigen MatrixXd object, passes it to the C++ function, and then converts the result back to a numpy array.\n",
        "\n",
        "This code is an example of how Cython can be used to interface with C++ code and libraries, providing a way to use powerful C++ libraries like Eigen in Python code."
      ]
    },
    {
      "cell_type": "code",
      "execution_count": 10,
      "metadata": {
        "colab": {
          "base_uri": "https://localhost:8080/",
          "height": 527
        },
        "id": "fGTQDpXZNn0j",
        "outputId": "92f6f921-b69f-4542-d461-eac8beea2a5e"
      },
      "outputs": [
        {
          "name": "stdout",
          "output_type": "stream",
          "text": [
            "[1/1] Cythonizing /home/pablo/.cache/ipython/cython/_cython_magic_6419ee7e652e3ed1ad07d1c517e9da7269338b46.pyx\n"
          ]
        },
        {
          "name": "stderr",
          "output_type": "stream",
          "text": [
            "\n",
            "Error compiling Cython file:\n",
            "------------------------------------------------------------\n",
            "...\n",
            "\n",
            "import math\n",
            "# use C math functions\n",
            "from libc.math cimport sin, cos\n",
            "# importamos las cosas de eigen mediante eigency, una interfaz de cython\n",
            "from eigency.core cimport *\n",
            "^\n",
            "------------------------------------------------------------\n",
            "\n",
            "/home/pablo/.cache/ipython/cython/_cython_magic_6419ee7e652e3ed1ad07d1c517e9da7269338b46.pyx:6:0: 'eigency/core.pxd' not found\n",
            "\n",
            "Error compiling Cython file:\n",
            "------------------------------------------------------------\n",
            "...\n",
            "# importamos las cosas de eigen mediante eigency, una interfaz de cython\n",
            "from eigency.core cimport *\n",
            "\n",
            "cdef extern from \"functions.h\":\n",
            "     # declara la funcion _function_... en cyton, a partir de function_w... en cpp\n",
            "     cdef MatrixXd _function_w_mat_arg \"function_w_mat_arg\"(Map[MatrixXd] &)\n",
            "          ^\n",
            "------------------------------------------------------------\n",
            "\n",
            "/home/pablo/.cache/ipython/cython/_cython_magic_6419ee7e652e3ed1ad07d1c517e9da7269338b46.pyx:10:10: 'MatrixXd' is not a type identifier\n",
            "\n",
            "Error compiling Cython file:\n",
            "------------------------------------------------------------\n",
            "...\n",
            "# importamos las cosas de eigen mediante eigency, una interfaz de cython\n",
            "from eigency.core cimport *\n",
            "\n",
            "cdef extern from \"functions.h\":\n",
            "     # declara la funcion _function_... en cyton, a partir de function_w... en cpp\n",
            "     cdef MatrixXd _function_w_mat_arg \"function_w_mat_arg\"(Map[MatrixXd] &)\n",
            "                                                            ^\n",
            "------------------------------------------------------------\n",
            "\n",
            "/home/pablo/.cache/ipython/cython/_cython_magic_6419ee7e652e3ed1ad07d1c517e9da7269338b46.pyx:10:60: 'Map' is not a type identifier\n",
            "\n",
            "Error compiling Cython file:\n",
            "------------------------------------------------------------\n",
            "...\n",
            "     # declara la funcion _function_... en cyton, a partir de function_w... en cpp\n",
            "     cdef MatrixXd _function_w_mat_arg \"function_w_mat_arg\"(Map[MatrixXd] &)\n",
            "\n",
            "# use C types instead of Python types\n",
            "# definimos funcion wrapper a la de C\n",
            "def function_w_mat_arg(np.ndarray array):\n",
            "                       ^\n",
            "------------------------------------------------------------\n",
            "\n",
            "/home/pablo/.cache/ipython/cython/_cython_magic_6419ee7e652e3ed1ad07d1c517e9da7269338b46.pyx:14:23: 'np' is not declared\n",
            "\n",
            "Error compiling Cython file:\n",
            "------------------------------------------------------------\n",
            "...\n",
            "     cdef MatrixXd _function_w_mat_arg \"function_w_mat_arg\"(Map[MatrixXd] &)\n",
            "\n",
            "# use C types instead of Python types\n",
            "# definimos funcion wrapper a la de C\n",
            "def function_w_mat_arg(np.ndarray array):\n",
            "    return ndarray(_function_w_mat_arg(Map[MatrixXd](array)))\n",
            "           ^\n",
            "------------------------------------------------------------\n",
            "\n",
            "/home/pablo/.cache/ipython/cython/_cython_magic_6419ee7e652e3ed1ad07d1c517e9da7269338b46.pyx:15:11: undeclared name not builtin: ndarray\n",
            "\n",
            "Error compiling Cython file:\n",
            "------------------------------------------------------------\n",
            "...\n",
            "     cdef MatrixXd _function_w_mat_arg \"function_w_mat_arg\"(Map[MatrixXd] &)\n",
            "\n",
            "# use C types instead of Python types\n",
            "# definimos funcion wrapper a la de C\n",
            "def function_w_mat_arg(np.ndarray array):\n",
            "    return ndarray(_function_w_mat_arg(Map[MatrixXd](array)))\n",
            "                                       ^\n",
            "------------------------------------------------------------\n",
            "\n",
            "/home/pablo/.cache/ipython/cython/_cython_magic_6419ee7e652e3ed1ad07d1c517e9da7269338b46.pyx:15:39: undeclared name not builtin: Map\n",
            "\n",
            "Error compiling Cython file:\n",
            "------------------------------------------------------------\n",
            "...\n",
            "     cdef MatrixXd _function_w_mat_arg \"function_w_mat_arg\"(Map[MatrixXd] &)\n",
            "\n",
            "# use C types instead of Python types\n",
            "# definimos funcion wrapper a la de C\n",
            "def function_w_mat_arg(np.ndarray array):\n",
            "    return ndarray(_function_w_mat_arg(Map[MatrixXd](array)))\n",
            "                                           ^\n",
            "------------------------------------------------------------\n",
            "\n",
            "/home/pablo/.cache/ipython/cython/_cython_magic_6419ee7e652e3ed1ad07d1c517e9da7269338b46.pyx:15:43: undeclared name not builtin: MatrixXd\n"
          ]
        }
      ],
      "source": [
        "%%cython -a --verbose -+ -I /home/pablo/anaconda3/lib/python3.11/site-packages/numpy/core/include/ -I /usr/include/eigen3 -I ./\n",
        "\n",
        "import math\n",
        "# use C math functions\n",
        "from libc.math cimport sin, cos\n",
        "# importamos las cosas de eigen mediante eigency, una interfaz de cython\n",
        "from eigency.core cimport *\n",
        "\n",
        "cdef extern from \"functions.h\":\n",
        "     # declara la funcion _function_... en cyton, a partir de function_w... en cpp\n",
        "     cdef MatrixXd _function_w_mat_arg \"function_w_mat_arg\"(Map[MatrixXd] &)\n",
        "\n",
        "# use C types instead of Python types\n",
        "# definimos funcion wrapper a la de C\n",
        "def function_w_mat_arg(np.ndarray array):\n",
        "    return ndarray(_function_w_mat_arg(Map[MatrixXd](array)))"
      ]
    },
    {
      "cell_type": "code",
      "execution_count": 10,
      "metadata": {
        "colab": {
          "base_uri": "https://localhost:8080/"
        },
        "id": "CJuMglLYVL4K",
        "outputId": "c6d5be83-5dba-4ffc-ebbd-63d9cadaff38"
      },
      "outputs": [
        {
          "name": "stdout",
          "output_type": "stream",
          "text": [
            "1 1 1\n",
            "1 1 1\n",
            "1 1 1\n"
          ]
        },
        {
          "data": {
            "text/plain": [
              "array([[1., 1., 1.],\n",
              "       [1., 1., 1.],\n",
              "       [1., 1., 1.]])"
            ]
          },
          "execution_count": 10,
          "metadata": {},
          "output_type": "execute_result"
        }
      ],
      "source": [
        "function_w_mat_arg(np.ones((3,3)))\n",
        "\n",
        "# lo primero que printea, es lo de la funcion de C"
      ]
    },
    {
      "cell_type": "markdown",
      "metadata": {
        "id": "A48B3G93Mx0l"
      },
      "source": [
        "# pybind11"
      ]
    },
    {
      "cell_type": "code",
      "execution_count": 11,
      "metadata": {},
      "outputs": [
        {
          "data": {
            "text/plain": [
              "<ipykernel.zmqshell.ZMQInteractiveShell at 0x75073ceb7ee0>"
            ]
          },
          "execution_count": 11,
          "metadata": {},
          "output_type": "execute_result"
        }
      ],
      "source": [
        "get_ipython()"
      ]
    },
    {
      "cell_type": "code",
      "execution_count": 11,
      "metadata": {
        "colab": {
          "base_uri": "https://localhost:8080/",
          "height": 86
        },
        "id": "vJMA-yx2O3K5",
        "outputId": "bcbdcb27-f90b-4398-b1dd-757d62427bb0"
      },
      "outputs": [
        {
          "ename": "ModuleNotFoundError",
          "evalue": "No module named 'ipybind'",
          "output_type": "error",
          "traceback": [
            "\u001b[0;31m---------------------------------------------------------------------------\u001b[0m",
            "\u001b[0;31mModuleNotFoundError\u001b[0m                       Traceback (most recent call last)",
            "Cell \u001b[0;32mIn[11], line 3\u001b[0m\n\u001b[1;32m      1\u001b[0m \u001b[38;5;28;01mif\u001b[39;00m \u001b[38;5;124m\"\u001b[39m\u001b[38;5;124mgoogle.colab\u001b[39m\u001b[38;5;124m\"\u001b[39m \u001b[38;5;129;01min\u001b[39;00m \u001b[38;5;28mstr\u001b[39m(get_ipython()):\n\u001b[1;32m      2\u001b[0m     get_ipython()\u001b[38;5;241m.\u001b[39msystem(\u001b[38;5;124m'\u001b[39m\u001b[38;5;124mpip install git+https://github.com/aldanor/ipybind.git -qqq\u001b[39m\u001b[38;5;124m'\u001b[39m)\n\u001b[0;32m----> 3\u001b[0m get_ipython()\u001b[38;5;241m.\u001b[39mrun_line_magic(\u001b[38;5;124m'\u001b[39m\u001b[38;5;124mload_ext\u001b[39m\u001b[38;5;124m'\u001b[39m, \u001b[38;5;124m'\u001b[39m\u001b[38;5;124mipybind\u001b[39m\u001b[38;5;124m'\u001b[39m)\n",
            "File \u001b[0;32m~/anaconda3/lib/python3.11/site-packages/IPython/core/interactiveshell.py:2456\u001b[0m, in \u001b[0;36mInteractiveShell.run_line_magic\u001b[0;34m(self, magic_name, line, _stack_depth)\u001b[0m\n\u001b[1;32m   2454\u001b[0m     kwargs[\u001b[38;5;124m'\u001b[39m\u001b[38;5;124mlocal_ns\u001b[39m\u001b[38;5;124m'\u001b[39m] \u001b[38;5;241m=\u001b[39m \u001b[38;5;28mself\u001b[39m\u001b[38;5;241m.\u001b[39mget_local_scope(stack_depth)\n\u001b[1;32m   2455\u001b[0m \u001b[38;5;28;01mwith\u001b[39;00m \u001b[38;5;28mself\u001b[39m\u001b[38;5;241m.\u001b[39mbuiltin_trap:\n\u001b[0;32m-> 2456\u001b[0m     result \u001b[38;5;241m=\u001b[39m fn(\u001b[38;5;241m*\u001b[39margs, \u001b[38;5;241m*\u001b[39m\u001b[38;5;241m*\u001b[39mkwargs)\n\u001b[1;32m   2458\u001b[0m \u001b[38;5;66;03m# The code below prevents the output from being displayed\u001b[39;00m\n\u001b[1;32m   2459\u001b[0m \u001b[38;5;66;03m# when using magics with decorator @output_can_be_silenced\u001b[39;00m\n\u001b[1;32m   2460\u001b[0m \u001b[38;5;66;03m# when the last Python token in the expression is a ';'.\u001b[39;00m\n\u001b[1;32m   2461\u001b[0m \u001b[38;5;28;01mif\u001b[39;00m \u001b[38;5;28mgetattr\u001b[39m(fn, magic\u001b[38;5;241m.\u001b[39mMAGIC_OUTPUT_CAN_BE_SILENCED, \u001b[38;5;28;01mFalse\u001b[39;00m):\n",
            "File \u001b[0;32m~/anaconda3/lib/python3.11/site-packages/IPython/core/magics/extension.py:33\u001b[0m, in \u001b[0;36mExtensionMagics.load_ext\u001b[0;34m(self, module_str)\u001b[0m\n\u001b[1;32m     31\u001b[0m \u001b[38;5;28;01mif\u001b[39;00m \u001b[38;5;129;01mnot\u001b[39;00m module_str:\n\u001b[1;32m     32\u001b[0m     \u001b[38;5;28;01mraise\u001b[39;00m UsageError(\u001b[38;5;124m'\u001b[39m\u001b[38;5;124mMissing module name.\u001b[39m\u001b[38;5;124m'\u001b[39m)\n\u001b[0;32m---> 33\u001b[0m res \u001b[38;5;241m=\u001b[39m \u001b[38;5;28mself\u001b[39m\u001b[38;5;241m.\u001b[39mshell\u001b[38;5;241m.\u001b[39mextension_manager\u001b[38;5;241m.\u001b[39mload_extension(module_str)\n\u001b[1;32m     35\u001b[0m \u001b[38;5;28;01mif\u001b[39;00m res \u001b[38;5;241m==\u001b[39m \u001b[38;5;124m'\u001b[39m\u001b[38;5;124malready loaded\u001b[39m\u001b[38;5;124m'\u001b[39m:\n\u001b[1;32m     36\u001b[0m     \u001b[38;5;28mprint\u001b[39m(\u001b[38;5;124m\"\u001b[39m\u001b[38;5;124mThe \u001b[39m\u001b[38;5;132;01m%s\u001b[39;00m\u001b[38;5;124m extension is already loaded. To reload it, use:\u001b[39m\u001b[38;5;124m\"\u001b[39m \u001b[38;5;241m%\u001b[39m module_str)\n",
            "File \u001b[0;32m~/anaconda3/lib/python3.11/site-packages/IPython/core/extensions.py:76\u001b[0m, in \u001b[0;36mExtensionManager.load_extension\u001b[0;34m(self, module_str)\u001b[0m\n\u001b[1;32m     69\u001b[0m \u001b[38;5;250m\u001b[39m\u001b[38;5;124;03m\"\"\"Load an IPython extension by its module name.\u001b[39;00m\n\u001b[1;32m     70\u001b[0m \n\u001b[1;32m     71\u001b[0m \u001b[38;5;124;03mReturns the string \"already loaded\" if the extension is already loaded,\u001b[39;00m\n\u001b[1;32m     72\u001b[0m \u001b[38;5;124;03m\"no load function\" if the module doesn't have a load_ipython_extension\u001b[39;00m\n\u001b[1;32m     73\u001b[0m \u001b[38;5;124;03mfunction, or None if it succeeded.\u001b[39;00m\n\u001b[1;32m     74\u001b[0m \u001b[38;5;124;03m\"\"\"\u001b[39;00m\n\u001b[1;32m     75\u001b[0m \u001b[38;5;28;01mtry\u001b[39;00m:\n\u001b[0;32m---> 76\u001b[0m     \u001b[38;5;28;01mreturn\u001b[39;00m \u001b[38;5;28mself\u001b[39m\u001b[38;5;241m.\u001b[39m_load_extension(module_str)\n\u001b[1;32m     77\u001b[0m \u001b[38;5;28;01mexcept\u001b[39;00m \u001b[38;5;167;01mModuleNotFoundError\u001b[39;00m:\n\u001b[1;32m     78\u001b[0m     \u001b[38;5;28;01mif\u001b[39;00m module_str \u001b[38;5;129;01min\u001b[39;00m BUILTINS_EXTS:\n",
            "File \u001b[0;32m~/anaconda3/lib/python3.11/site-packages/IPython/core/extensions.py:91\u001b[0m, in \u001b[0;36mExtensionManager._load_extension\u001b[0;34m(self, module_str)\u001b[0m\n\u001b[1;32m     89\u001b[0m \u001b[38;5;28;01mwith\u001b[39;00m \u001b[38;5;28mself\u001b[39m\u001b[38;5;241m.\u001b[39mshell\u001b[38;5;241m.\u001b[39mbuiltin_trap:\n\u001b[1;32m     90\u001b[0m     \u001b[38;5;28;01mif\u001b[39;00m module_str \u001b[38;5;129;01mnot\u001b[39;00m \u001b[38;5;129;01min\u001b[39;00m sys\u001b[38;5;241m.\u001b[39mmodules:\n\u001b[0;32m---> 91\u001b[0m         mod \u001b[38;5;241m=\u001b[39m import_module(module_str)\n\u001b[1;32m     92\u001b[0m     mod \u001b[38;5;241m=\u001b[39m sys\u001b[38;5;241m.\u001b[39mmodules[module_str]\n\u001b[1;32m     93\u001b[0m     \u001b[38;5;28;01mif\u001b[39;00m \u001b[38;5;28mself\u001b[39m\u001b[38;5;241m.\u001b[39m_call_load_ipython_extension(mod):\n",
            "File \u001b[0;32m~/anaconda3/lib/python3.11/importlib/__init__.py:126\u001b[0m, in \u001b[0;36mimport_module\u001b[0;34m(name, package)\u001b[0m\n\u001b[1;32m    124\u001b[0m             \u001b[38;5;28;01mbreak\u001b[39;00m\n\u001b[1;32m    125\u001b[0m         level \u001b[38;5;241m+\u001b[39m\u001b[38;5;241m=\u001b[39m \u001b[38;5;241m1\u001b[39m\n\u001b[0;32m--> 126\u001b[0m \u001b[38;5;28;01mreturn\u001b[39;00m _bootstrap\u001b[38;5;241m.\u001b[39m_gcd_import(name[level:], package, level)\n",
            "File \u001b[0;32m<frozen importlib._bootstrap>:1204\u001b[0m, in \u001b[0;36m_gcd_import\u001b[0;34m(name, package, level)\u001b[0m\n",
            "File \u001b[0;32m<frozen importlib._bootstrap>:1176\u001b[0m, in \u001b[0;36m_find_and_load\u001b[0;34m(name, import_)\u001b[0m\n",
            "File \u001b[0;32m<frozen importlib._bootstrap>:1140\u001b[0m, in \u001b[0;36m_find_and_load_unlocked\u001b[0;34m(name, import_)\u001b[0m\n",
            "\u001b[0;31mModuleNotFoundError\u001b[0m: No module named 'ipybind'"
          ]
        }
      ],
      "source": [
        "if \"google.colab\" in str(get_ipython()):\n",
        "    !pip install git+https://github.com/aldanor/ipybind.git -qqq\n",
        "%load_ext ipybind"
      ]
    },
    {
      "cell_type": "code",
      "execution_count": 12,
      "metadata": {},
      "outputs": [
        {
          "data": {
            "application/javascript": "\n    require(['notebook/js/codecell'], function(cc) {\n        cc.CodeCell.options_default.highlight_modes['magic_text/x-c++src'] =\n            {reg: [/^\\s*%%pybind11/]};\n    });\n    "
          },
          "metadata": {},
          "output_type": "display_data"
        },
        {
          "data": {
            "text/html": [
              "\n",
              "    <style>\n",
              "    .cm-s-ipython span.cm-variable-3 {\n",
              "        color: #208ffb;\n",
              "        font-weight: bold;\n",
              "    }\n",
              "    </style>\n",
              "    "
            ]
          },
          "metadata": {},
          "output_type": "display_data"
        }
      ],
      "source": [
        "%load_ext ipybind"
      ]
    },
    {
      "cell_type": "markdown",
      "metadata": {},
      "source": [
        "This code is written in C++ and uses the Pybind11 library to create a Python extension module. Pybind11 is a lightweight header-only library that exposes C++ types in Python and vice versa.\n",
        "\n",
        "- %%pybind11\n",
        "\n",
        "This line is a magic command in Jupyter notebook that allows the cell to be run with Pybind11.\n",
        "\n",
        "- #include <pybind11/numpy.h> #include <math.h> #include <eigen3/Eigen/Dense> #include <iostream>\n",
        "\n",
        "These lines include necessary header files. pybind11/numpy.h is for Pybind11's numpy support, math.h is for C++ math functions, eigen3/Eigen/Dense is for the Eigen library which provides high-level interfaces for linear algebra operations, and iostream is for input/output stream.\n",
        "\n",
        "- PYBIND11_PLUGIN(example) { ... }\n",
        "\n",
        "This macro creates a function that will be called when an import statement is issued from Python. The argument to the macro, example, is the name of the module.\n",
        "\n",
        "- py::module m(\"example\");\n",
        "\n",
        "This line creates a new Python module named \"example\".\n",
        "\n",
        "- m.def(\"r_pybind\", [](const py::array_t<double>& x, const py::array_t<double>& y) { ... });\n",
        "\n",
        "This line adds a function named r_pybind to the module. The function is defined using a C++ lambda expression. It takes two 1D numpy arrays of doubles as arguments.\n",
        "\n",
        "- double sum{0}; auto rx{x.unchecked<1>()}; auto ry{y.unchecked<1>()};\n",
        "\n",
        "These lines declare a double variable sum and two py::array_t<double> variables rx and ry which are unchecked copies of the input arrays. Unchecked access is faster but does not perform bounds checking or broadcasting.\n",
        "\n",
        "- for (py::ssize_t i = 0; i < rx.shape(0); i++){ sum += std::cos(rx[i])*std::sin(ry[i]); }\n",
        "\n",
        "This loop iterates over each element in rx and ry, computes the cosine of the element in rx times the sine of the element in ry, and adds the result to sum.\n",
        "\n",
        "- Eigen::Matrix2d a; a << 1, 2, 3, 4;\n",
        "\n",
        "These lines declare a 2x2 Eigen matrix and assign values to it. However, this matrix is not used in the code and could be removed.\n",
        "\n",
        "- return sum;\n",
        "\n",
        "This line returns the final value of sum.\n",
        "\n",
        "- return m.ptr();\n",
        "\n",
        "This line returns a pointer to the Python module.\n",
        "\n",
        "This code is an example of how Pybind11 can be used to create Python extension modules in C++, allowing for efficient numerical computations and easy integration with C++ libraries like Eigen."
      ]
    },
    {
      "cell_type": "code",
      "execution_count": 13,
      "metadata": {
        "id": "79rzg3p7SrNl"
      },
      "outputs": [
        {
          "name": "stderr",
          "output_type": "stream",
          "text": [
            "/home/pablo/.cache/ipython/pybind11/pybind11_d41c85d.cpp: In function ‘PyObject* pybind11_init()’:\n",
            "/home/pablo/.cache/ipython/pybind11/pybind11_d41c85d.cpp:8:27: warning: ‘pybind11::module_::module_(const char*, const char*)’ is deprecated: Use PYBIND11_MODULE or module_::create_extension_module instead [-Wdeprecated-declarations]\n",
            "    8 |     py::module m(\"example\");\n",
            "      |                           ^\n",
            "In file included from /home/pablo/.local/lib/python3.10/site-packages/ipybind/include/pybind11_preamble.h:1,\n",
            "                 from /home/pablo/.cache/ipython/pybind11/pybind11_d41c85d.cpp:1:\n",
            "/home/pablo/.local/lib/python3.10/site-packages/pybind11/include/pybind11/pybind11.h:1209:14: note: declared here\n",
            " 1209 |     explicit module_(const char *name, const char *doc = nullptr) {\n",
            "      |              ^~~~~~~\n",
            "lto-wrapper: warning: using serial compilation of 2 LTRANS jobs\n"
          ]
        }
      ],
      "source": [
        "%%pybind11\n",
        "\n",
        "#include <pybind11/numpy.h>\n",
        "#include <math.h>\n",
        "#include <eigen3/Eigen/Dense>\n",
        "#include <iostream>\n",
        "PYBIND11_PLUGIN(example) {\n",
        "    py::module m(\"example\");\n",
        "    m.def(\"r_pybind\", [](const py::array_t<double>& x, const py::array_t<double>& y) {\n",
        "        double sum{0};\n",
        "        auto rx{x.unchecked<1>()};\n",
        "        auto ry{y.unchecked<1>()};\n",
        "        for (py::ssize_t i = 0; i < rx.shape(0); i++){\n",
        "            sum += std::cos(rx[i])*std::sin(ry[i]);\n",
        "        }\n",
        "        Eigen::Matrix2d a;\n",
        "        a << 1, 2,\n",
        "            3, 4;\n",
        "\n",
        "        return sum;\n",
        "\n",
        "    });\n",
        "    return m.ptr();\n",
        "}"
      ]
    },
    {
      "cell_type": "code",
      "execution_count": 14,
      "metadata": {
        "id": "FRqtLsLlP64v"
      },
      "outputs": [
        {
          "data": {
            "text/plain": [
              "4.546487134128409"
            ]
          },
          "execution_count": 14,
          "metadata": {},
          "output_type": "execute_result"
        }
      ],
      "source": [
        "r_pybind(x, x)"
      ]
    },
    {
      "cell_type": "code",
      "execution_count": null,
      "metadata": {
        "id": "ZtnOeCyMP7dB"
      },
      "outputs": [],
      "source": []
    }
  ],
  "metadata": {
    "colab": {
      "provenance": []
    },
    "kernelspec": {
      "display_name": "Python 3",
      "name": "python3"
    },
    "language_info": {
      "codemirror_mode": {
        "name": "ipython",
        "version": 3
      },
      "file_extension": ".py",
      "mimetype": "text/x-python",
      "name": "python",
      "nbconvert_exporter": "python",
      "pygments_lexer": "ipython3",
      "version": "3.10.12"
    }
  },
  "nbformat": 4,
  "nbformat_minor": 0
}
