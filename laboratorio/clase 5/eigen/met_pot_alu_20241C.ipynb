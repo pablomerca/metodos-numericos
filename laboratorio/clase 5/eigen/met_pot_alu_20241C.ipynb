{
  "cells": [
    {
      "cell_type": "code",
      "execution_count": null,
      "metadata": {
        "id": "HycQrLzTSZHo"
      },
      "outputs": [],
      "source": [
        "import numpy as np\n",
        "import matplotlib.pyplot as plt\n",
        "import pandas as pd\n",
        "import seaborn as sns"
      ]
    },
    {
      "cell_type": "markdown",
      "metadata": {
        "id": "tn-WUkKuDG_V"
      },
      "source": [
        "# Cálculo de autovectores: Método de la potencia"
      ]
    },
    {
      "cell_type": "markdown",
      "metadata": {
        "id": "FN-LtDIyDLWz"
      },
      "source": [
        "## Ejercicio 1: Metodo de la potencia\n",
        "\n",
        "Implementar el método de la potencia considerando algún criterio de parada"
      ]
    },
    {
      "cell_type": "code",
      "execution_count": null,
      "metadata": {
        "id": "fIykV5y1k-SM"
      },
      "outputs": [],
      "source": [
        "import numpy as np\n",
        "\n",
        "def power_iteration(A, niter=10_000, eps=1e-6):\n",
        "    \"\"\"\n",
        "    Calcula el autovector al autovalor asociado de valor máximo\n",
        "\n",
        "    Devuelve (a, v) con a autovalor, y v autovector de A\n",
        "\n",
        "    Arguments:\n",
        "    ----------\n",
        "\n",
        "    A: np.array\n",
        "        Matriz de la cual quiero calcular el autovector y autovalor\n",
        "\n",
        "    niter: int (> 0)\n",
        "        Cantidad de iteraciones\n",
        "\n",
        "    eps: Epsilon\n",
        "        Tolerancia utilizada en el criterio de parada\n",
        "    \"\"\"\n",
        "\n",
        "    a = 1\n",
        "    v = ...\n",
        "    \"\"\"\n",
        "    TODO: Completar el método de la potencia\n",
        "\n",
        "    IMPORTANTE: Agreguen algún criterio de parada!\n",
        "    \"\"\"\n",
        "\n",
        "    return a, v"
      ]
    },
    {
      "cell_type": "markdown",
      "metadata": {
        "id": "qVcHZDFDEduY"
      },
      "source": [
        "Verifiquemos la implementación un ejemplo conocido:\n",
        "\n",
        "$$\n",
        "A = Q^T \\begin{pmatrix}\n",
        "d_1    &0     &0      &0      &\\\\\n",
        "0      &d_2   &0      &0      &\\\\\n",
        "\\vdots &\\vdots&\\ddots &\\vdots &\\\\\n",
        "0      &0     &0      &d_n    & \\\\\n",
        "\\end{pmatrix} Q\n",
        "$$\n",
        "\n",
        "con $Q = I - 2 v v^T$, $||v||_2=1$\n",
        " la matriz de reflexión que sabemos que es ortogonal\n",
        "\n",
        "Probemos calcular con el método de la potencia el autovector y autovalor dominante."
      ]
    },
    {
      "cell_type": "code",
      "execution_count": null,
      "metadata": {
        "id": "cHz5okByEdR9"
      },
      "outputs": [],
      "source": [
        "D = np.diag([5.0, 4.0, 3.0, 2.0, 1.0])\n",
        "\n",
        "v = np.ones((D.shape[0], 1))\n",
        "\n",
        "v = v / np.linalg.norm(v)\n",
        "\n",
        "# Matriz de Householder\n",
        "B = np.eye(D.shape[0]) - 2 * (v @ v.T)\n",
        "\n",
        "# Matriz a diagonalizar\n",
        "M = B.T @ D @ B\n",
        "\n",
        "power_iteration(M)"
      ]
    },
    {
      "cell_type": "markdown",
      "metadata": {
        "id": "2wEEUC_xOEqW"
      },
      "source": [
        "# Ejercicio 2: Metodo de la potencia + Deflación\n",
        "\n",
        "Implementar método de la potencia + deflación"
      ]
    },
    {
      "cell_type": "code",
      "execution_count": null,
      "metadata": {
        "id": "q5tPQCaRONpw"
      },
      "outputs": [],
      "source": [
        "def eigen(A, num=2, niter=10000, eps=1e-6):\n",
        "    \"\"\"\n",
        "    Calculamos num autovalores y autovectores usando método de la potencia+deflación\n",
        "    \"\"\"\n",
        "    A = A.copy()\n",
        "    eigenvalues = []\n",
        "    eigenvectors = np.zeros((A.shape[0], num))\n",
        "    for i in range(num):\n",
        "        \"\"\"\n",
        "        TODO: Completar código\n",
        "        \"\"\"\n",
        "        pass\n",
        "    return np.array(eigenvalues), eigenvectors"
      ]
    },
    {
      "cell_type": "markdown",
      "metadata": {
        "id": "Ln96nbWpO1GV"
      },
      "source": [
        "## Casos de prueba"
      ]
    },
    {
      "cell_type": "markdown",
      "metadata": {
        "id": "WTGvzlsHO9-e"
      },
      "source": [
        "Matriz Diagonal"
      ]
    },
    {
      "cell_type": "code",
      "execution_count": null,
      "metadata": {
        "id": "dtJ3AtHmOxbt"
      },
      "outputs": [],
      "source": [
        "D = np.diag(range(10, 0, -1))\n",
        "print(D)\n",
        "\n",
        "#%%time prender si se quiere medir el tiempo\n",
        "l, v = eigen(D,10,niter=...)\n",
        "print(l, v)"
      ]
    },
    {
      "cell_type": "markdown",
      "metadata": {
        "id": "ryQfqMfCPUn6"
      },
      "source": [
        "Otra matriz de Householder"
      ]
    },
    {
      "cell_type": "code",
      "execution_count": null,
      "metadata": {
        "id": "yGVUatP4PWf6"
      },
      "outputs": [],
      "source": [
        "N = 10\n",
        "D = np.diag(range(N, 0, -1))\n",
        "\n",
        "v = np.ones((D.shape[0], 1))\n",
        "v = v / np.linalg.norm(v)\n",
        "\n",
        "# Matriz de Householder\n",
        "B = np.eye(D.shape[0]) - 2 * (v @ v.T)\n",
        "\n",
        "M = B.T @ D @ B\n",
        "# Para todos los eigen el ejemplo anterior de householder.\n",
        "l, v = eigen(M, N, niter=...)\n",
        "print(l,v)"
      ]
    },
    {
      "cell_type": "markdown",
      "metadata": {
        "id": "G7vYMKn4Prp5"
      },
      "source": [
        "$A.A^T$ y $A^TA$"
      ]
    },
    {
      "cell_type": "code",
      "execution_count": null,
      "metadata": {
        "id": "8e3mP3utP4gc"
      },
      "outputs": [],
      "source": [
        "AT = A @ A.T\n",
        "TA = A.T @ A\n",
        "wta, VTA = eigen(AT, num=3, niter=20000, eps=1e-24)\n",
        "wat, VAT = eigen(TA, num=3, niter=20000, eps=1e-24)\n",
        "assert(np.allclose(wat,wta))"
      ]
    },
    {
      "cell_type": "markdown",
      "metadata": {
        "id": "QDUleiC8Yc1v"
      },
      "source": [
        "# Ejercicio 3: Velocidad de convergencia"
      ]
    },
    {
      "cell_type": "markdown",
      "metadata": {
        "id": "bohp51EBoaYh"
      },
      "source": [
        "* Graficar, para la matriz M definida abajo, los valores de la sucesión {$\\lambda^{k}$} del autovalor dominante. Considerar, si fuera necesario, extender el método implementado anteriormente para obtener la suecesión."
      ]
    },
    {
      "cell_type": "code",
      "execution_count": null,
      "metadata": {
        "id": "d5uDuRe8QkeE"
      },
      "outputs": [],
      "source": [
        "D = np.diag([5.0, 4.0, 3.0, 2.0, 1.0])\n",
        "\n",
        "v = np.ones((D.shape[0], 1))\n",
        "\n",
        "v = v / np.linalg.norm(v)\n",
        "\n",
        "# Matriz de Householder\n",
        "B = np.eye(D.shape[0]) - 2 * (v @ v.T)\n",
        "\n",
        "# Matriz a diagonalizar\n",
        "M = B.T @ D @ B\n",
        "\n",
        "power_iteration(D,...)"
      ]
    },
    {
      "cell_type": "code",
      "execution_count": null,
      "metadata": {
        "id": "8wux_SAlop-Z"
      },
      "outputs": [],
      "source": [
        "...\n",
        "## COMPLETAR"
      ]
    },
    {
      "cell_type": "markdown",
      "metadata": {
        "id": "lsFuEl3SLLqu"
      },
      "source": [
        "**Recordemos que**:\n",
        "\n",
        "Sea ${x_k}$ k ∈ N una sucesión tal que:\n",
        "\n",
        "$$lim_{k→∞} x_k = x^*$$\n",
        "\n",
        "Decimos que ${x_k}$ k ∈ N tiene orden de convergencia $p$ si:\n",
        "\n",
        "$$lim_{k→∞} \\frac{|x_{k+1} − x^∗|}{ (|x_k − x^∗ |)^p} =  c > 0 $$\n",
        "\n",
        "\n",
        "\n",
        "Existen otras formas de definir la noción de velocidad de convergencia como:\n",
        "\n",
        "Sea ${\\alpha_n}$ convergente a $\\alpha$. Sea ${\\beta_n}$ convergente a 0.\n",
        "\n",
        "Decimos que ${\\alpha_n}$ tiene orden de convergencia $O(\\beta_n)$ (o que αn converge tan rápido como $\\beta_{n}$) si existe:\n",
        "\n",
        " c > 0 tal que $|\\alpha_n − \\alpha| ≤ c\\beta_n$ para todo\n",
        "n suficientemente grande.\n",
        "\n",
        "\n"
      ]
    },
    {
      "cell_type": "markdown",
      "metadata": {
        "id": "n5QQAG42Kjop"
      },
      "source": [
        "* Analizar la velocidad de convergencia para la sucesión {$\\lambda^{k}$} del autovalor dominante.\n",
        "Considerar, si fuera necesario, extender el método implementado anteriormente para obtener los errores $|\\lambda^{k} - \\lambda^*|$ (utilizar la segunda definición de velocidad de convergencia)"
      ]
    },
    {
      "cell_type": "code",
      "execution_count": null,
      "metadata": {
        "id": "g04p_EOSIIYk"
      },
      "outputs": [],
      "source": [
        "...\n"
      ]
    },
    {
      "cell_type": "markdown",
      "metadata": {
        "id": "Mxwt_wRy572g"
      },
      "source": [
        "Analizar la velocidad de convergencia de la sucesión {$v^{k}$}) al autovector dominante\n",
        "\n",
        "**Imporante: ¿Contra que vector comparamos?**\n",
        "\n",
        "* En algunos casos podemos no conocer el vector en cuestión.\n",
        "* Además para el caso de autovalores repetidos, no sabemos exactamente a que combinación del autoespacio cae el vector de la sucesión.\n",
        "\n"
      ]
    },
    {
      "cell_type": "markdown",
      "metadata": {
        "id": "ZFQNeQiAKFZV"
      },
      "source": [
        "*Obs:Para este caso particular, la convergencia al autovector dominante $e_1$ se da como esperamos*"
      ]
    },
    {
      "cell_type": "code",
      "execution_count": null,
      "metadata": {
        "id": "wdoqbIhnHoYC"
      },
      "outputs": [],
      "source": [
        "..."
      ]
    },
    {
      "cell_type": "markdown",
      "metadata": {
        "id": "RMWX43sEQ9mq"
      },
      "source": [
        "La forma sugerida en el tp, que evita esos problemas, es considerar $$ ||Av -\\lambda v||$$\n",
        "\n",
        "* Graficar la sucesión de tales errores y comparar."
      ]
    },
    {
      "cell_type": "code",
      "execution_count": null,
      "metadata": {
        "id": "bMt16szO52C-"
      },
      "outputs": [],
      "source": [
        "..."
      ]
    },
    {
      "cell_type": "markdown",
      "metadata": {
        "id": "Y9YPLsG9i5wa"
      },
      "source": [
        "# Ejercicio 4:\n",
        "\n",
        "Considerar matrices aleatorias construidas con \"el truco de Householder\" con los auotvalores dados por $(10,7.75,5.5,3.25,1)$.\n",
        "\n",
        "Reportar y analizar el error $|| Av - \\lambda v ||$ obtenido para cada autovector fijando 300 iteraciones del método de la potencia (sin método de corte).\n",
        "\n",
        "Recordar mostrar alguna noción de centralidad y dispersión para cada grupo de mediciones."
      ]
    },
    {
      "cell_type": "code",
      "execution_count": null,
      "metadata": {
        "id": "RJkK3FIAuMlq"
      },
      "outputs": [],
      "source": [
        "reps = ...\n",
        "\n",
        "eigen_errors = []\n",
        "niters = []\n",
        "\n",
        "e = 0.01\n",
        "for r in reps:\n",
        "\n",
        "  D = np.diag(np.linspace(1,10,5))\n",
        "  v = ...\n",
        "  v = v / np.linalg.norm(v)\n",
        "\n",
        "  # Matriz de Householder\n",
        "  B = np.eye(D.shape[0]) - 2 * (v @ v.T)\n",
        "\n",
        "  # Matriz a diagonalizar\n",
        "  M = B.T @ D @ B\n",
        "\n",
        "  l, V, errors = eigen(M,5,niter=300,eps=1e-200)\n",
        "\n",
        "  eigen_errors.append(...)\n",
        "\n",
        "# PLOT\n",
        "..."
      ]
    },
    {
      "cell_type": "markdown",
      "metadata": {
        "id": "cLa67kjqkAyQ"
      },
      "source": [
        "# Ejercicio 5:\n",
        "\n",
        "Considerar matrices aleatorias construidas con \"el truco de Householder\" con los auotvalores dados por $[2, 2-e, 1.9, 1.9-e, 1.8]$ siendo $e = 0.01$.\n",
        "\n",
        "Reportar y analizar la cantidad de iteraciones obtenido para cada autovector habilitando el método de corte (ajsutando niter y eps de manera que el allclose pase).  \n",
        "\n",
        "Recordar mostrar alguna noción de centralidad y dispersión para cada grupo de mediciones."
      ]
    },
    {
      "cell_type": "code",
      "execution_count": null,
      "metadata": {
        "id": "HTCXjTpNDt7G"
      },
      "outputs": [],
      "source": [
        "reps = range(50)\n",
        "\n",
        "eigen_errors = []\n",
        "niters = []\n",
        "niters = []\n",
        "e = 0.01\n",
        "for r in reps:\n",
        "  D = np.diag([2, 2-e, 1.9, 1.9-e, 1.8]).astype(np.float64)\n",
        "  print(D)\n",
        "  v = 4*np.random.randn(D.shape[0], 1)\n",
        "  v = v / np.linalg.norm(v)\n",
        "\n",
        "  # Matriz de Householder\n",
        "  B = np.eye(D.shape[0]) - 2 * (v @ v.T)\n",
        "\n",
        "  # Matriz a diagonalizar\n",
        "  M = B.T @ D @ B\n",
        "\n",
        "  l, V, errors = eigen(M,4,niter=...,eps=...)\n",
        "  n = []\n",
        "  for er in errors[3]:\n",
        "    n.append(len(er))\n",
        "  niters.append(n)\n",
        "  #eigen_errors.append(np.array(errors[3])[:,-1])\n",
        "  #niters.append(len(e))\n",
        "\n",
        "\n",
        "  for i in range(len(l)-1):\n",
        "    assert(np.allclose(M@V[:,i], l[i] * V [:,i], atol=1e-6))\n",
        "\n"
      ]
    }
  ],
  "metadata": {
    "colab": {
      "provenance": []
    },
    "kernelspec": {
      "display_name": "Python 3",
      "name": "python3"
    },
    "language_info": {
      "name": "python",
      "version": "3.10.12"
    }
  },
  "nbformat": 4,
  "nbformat_minor": 0
}
