{
  "cells": [
    {
      "cell_type": "code",
      "execution_count": 1,
      "metadata": {
        "id": "rzj-5O4__1Hw"
      },
      "outputs": [],
      "source": [
        "import numpy as np\n",
        "import matplotlib.pyplot as plt"
      ]
    },
    {
      "cell_type": "markdown",
      "metadata": {
        "id": "vChGcOnSFdMP"
      },
      "source": [
        "# Bajamos los datos"
      ]
    },
    {
      "cell_type": "code",
      "execution_count": 10,
      "metadata": {
        "id": "Yirx50VhDzqm"
      },
      "outputs": [
        {
          "name": "stdout",
          "output_type": "stream",
          "text": [
            "Archive:  datos.zip\n",
            "   creating: datos/\n",
            "  inflating: datos/X_train.csv       \n",
            "  inflating: datos/X_test.csv        \n",
            "  inflating: datos/y_test.csv        \n",
            "  inflating: datos/y_train.csv       \n"
          ]
        }
      ],
      "source": [
        "# !wget -O datos.zip https://www.dropbox.com/scl/fi/v6qfj1ktarocr8sl02r8k/datos.zip?rlkey=2u060s5619gvcvnnnhq93rn4e&st=jy3dah88&dl=1\n",
        "!unzip datos.zip"
      ]
    },
    {
      "cell_type": "code",
      "execution_count": 11,
      "metadata": {
        "id": "aYTq5_WH_3gU"
      },
      "outputs": [],
      "source": [
        "class_names = [\"T-shirt/top\",\n",
        "    \"Trouser\",\n",
        "    \"Pullover\",\n",
        "    \"Dress\",\n",
        "    \"Coat\",\n",
        "    \"Sandal\",\n",
        "    \"Shirt\",\n",
        "    \"Sneaker\",\n",
        "    \"Bag\",\n",
        "    \"Ankle boot\"\n",
        "]"
      ]
    },
    {
      "cell_type": "markdown",
      "metadata": {
        "id": "wlba-FnbFgZo"
      },
      "source": [
        "# Cargamos los archivos"
      ]
    },
    {
      "cell_type": "code",
      "execution_count": 12,
      "metadata": {
        "colab": {
          "base_uri": "https://localhost:8080/"
        },
        "id": "Hr-bW_uYAFlX",
        "outputId": "eb70c0a7-d378-4872-96a0-e492e539fadd"
      },
      "outputs": [
        {
          "data": {
            "text/plain": [
              "((5000, 784), (5000,), (500, 784), (500,))"
            ]
          },
          "execution_count": 12,
          "metadata": {},
          "output_type": "execute_result"
        }
      ],
      "source": [
        "X_train = np.loadtxt(\"datos/X_train.csv\", delimiter=\",\")\n",
        "y_train = np.loadtxt(\"datos/y_train.csv\", delimiter=\",\").astype(int)\n",
        "X_test = np.loadtxt(\"datos/X_test.csv\", delimiter=\",\")\n",
        "y_test = np.loadtxt(\"datos/y_test.csv\", delimiter=\",\").astype(int)\n",
        "\n",
        "X_train.shape, y_train.shape, X_test.shape, y_test.shape"
      ]
    },
    {
      "cell_type": "markdown",
      "metadata": {
        "id": "t8i93JF5Eyr2"
      },
      "source": [
        "# Revisamos la cantida de muestras por cada clase"
      ]
    },
    {
      "cell_type": "code",
      "execution_count": 17,
      "metadata": {
        "colab": {
          "base_uri": "https://localhost:8080/"
        },
        "id": "PKPyYqBSFG_d",
        "outputId": "9b2db4bc-46ba-4693-fe7e-3ccaceb40045"
      },
      "outputs": [
        {
          "data": {
            "text/plain": [
              "(array([500, 500, 500, 500, 500, 500, 500, 500, 500, 500]),\n",
              " array([50, 50, 50, 50, 50, 50, 50, 50, 50, 50]))"
            ]
          },
          "execution_count": 17,
          "metadata": {},
          "output_type": "execute_result"
        }
      ],
      "source": [
        "np.bincount(y_train), np.bincount(y_test)"
      ]
    },
    {
      "cell_type": "markdown",
      "metadata": {
        "id": "luYIJeYPGQ_X"
      },
      "source": [
        "# Visualizamos"
      ]
    },
    {
      "cell_type": "code",
      "execution_count": 16,
      "metadata": {
        "colab": {
          "base_uri": "https://localhost:8080/",
          "height": 452
        },
        "id": "UFd0dyATCDZT",
        "outputId": "2ef97f44-02e4-4ac4-ba09-5ae1993e9178"
      },
      "outputs": [
        {
          "data": {
            "image/png": "[encoded data removed]",
            "text/plain": [
              "<Figure size 640x480 with 1 Axes>"
            ]
          },
          "metadata": {},
          "output_type": "display_data"
        }
      ],
      "source": [
        "ix = 7\n",
        "plt.imshow(X_test[ix].reshape(28,28), cmap=\"gray\")\n",
        "plt.title(class_names[y_test[ix]]);"
      ]
    },
    {
      "cell_type": "markdown",
      "metadata": {
        "id": "xvEd8-b3KYkB"
      },
      "source": [
        "# Separamos en datos de desarrollo\n",
        "\n",
        "Garantizamos que las clases siguen igualmente balanceadas (estratificación)"
      ]
    },
    {
      "cell_type": "markdown",
      "metadata": {},
      "source": [
        "test_size = 0.2 nos dice que vamos a serpara el 20% de los datos para hacer el testeo final, quedandonos con el 80% para training."
      ]
    },
    {
      "cell_type": "code",
      "execution_count": 19,
      "metadata": {
        "colab": {
          "base_uri": "https://localhost:8080/"
        },
        "id": "leTGrXS2KVZc",
        "outputId": "5daa5057-9882-4890-a187-44bcc7a034b5"
      },
      "outputs": [
        {
          "data": {
            "text/plain": [
              "(array([400, 400, 400, 400, 400, 400, 400, 400, 400, 400]),\n",
              " array([100, 100, 100, 100, 100, 100, 100, 100, 100, 100]))"
            ]
          },
          "execution_count": 19,
          "metadata": {},
          "output_type": "execute_result"
        }
      ],
      "source": [
        "from sklearn.model_selection import train_test_split\n",
        "X_newtrain, X_dev, y_newtrain, y_dev = train_test_split(X_train, y_train, test_size=0.2, random_state=42, stratify=y_train)\n",
        "\n",
        "np.bincount(y_newtrain), np.bincount(y_dev)"
      ]
    },
    {
      "cell_type": "markdown",
      "metadata": {
        "id": "qLCx48t_GTkd"
      },
      "source": [
        "# KNN\n",
        "\n",
        "## Consigna:\n",
        "\n",
        "* Implementar KNN con distancia coseno\n",
        "\n",
        "$$d(A,B) = 1-\\frac{A\\cdot B}{\\|A\\|\\|B\\|}$$\n",
        "\n",
        "* Computar la distancia entre los datos de entrenamiento y los desarrollo\n",
        "* Ordenar estas distancias de menor a mayor\n",
        "* Para cada dato de desarrollo elegir las primeras $k$ muestras y listar de que clase son\n",
        "* Calcular la moda\n",
        "* Medir la performance del sistema como:\n",
        "\n",
        "$$ \\text{exactitud} = \\frac{\\text{cantidad de muestra bien reconocidas}}{\\text{cantidad de muestras totales}}$$\n",
        "\n",
        "Recomendación, primero desarrollar en forma lenta utilizando loops *for*, y una vez resulto el problema, pasar a optimizarlo utilizando las operaciones vectorizadas a lo *numpy* para evitar los loops."
      ]
    },
    {
      "cell_type": "code",
      "execution_count": null,
      "metadata": {
        "id": "39TWfS9JSD2L"
      },
      "outputs": [],
      "source": []
    },
    {
      "cell_type": "markdown",
      "metadata": {
        "id": "PkswxksMSIpm"
      },
      "source": [
        "# Validación Cruzada\n",
        "\n",
        "## Consigna:\n",
        "\n",
        "* Partir los datos en una partición de 5 partes manteniendo el mismo balance de clases en cada parte\n",
        "* Iterar sobre estas partes, tomando 4 partes para entrenar y 1 para desarrollo de forma cíclia\n",
        "* Medir la performance para cada parte\n",
        "* Tomar el promedio\n",
        "\n",
        "* Realizar la validación cruzada para distintos valores de $k$ de KNN, y encontrar el mejor"
      ]
    },
    {
      "cell_type": "code",
      "execution_count": null,
      "metadata": {
        "id": "ss6o5t4qSmzu"
      },
      "outputs": [],
      "source": []
    }
  ],
  "metadata": {
    "colab": {
      "provenance": []
    },
    "kernelspec": {
      "display_name": "Python 3",
      "name": "python3"
    },
    "language_info": {
      "codemirror_mode": {
        "name": "ipython",
        "version": 3
      },
      "file_extension": ".py",
      "mimetype": "text/x-python",
      "name": "python",
      "nbconvert_exporter": "python",
      "pygments_lexer": "ipython3",
      "version": "3.10.12"
    }
  },
  "nbformat": 4,
  "nbformat_minor": 0
}
